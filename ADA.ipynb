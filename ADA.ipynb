{
 "cells": [
  {
   "cell_type": "markdown",
   "metadata": {},
   "source": [
    "## ADA Portfolio"
   ]
  },
  {
   "cell_type": "code",
   "execution_count": null,
   "metadata": {},
   "outputs": [],
   "source": [
    "# Enable intellisence\n",
    "%config IPCompleter.greedy=True\n"
   ]
  },
  {
   "cell_type": "markdown",
   "metadata": {},
   "source": [
    "## 1.\tAcquisition"
   ]
  },
  {
   "cell_type": "code",
   "execution_count": null,
   "metadata": {},
   "outputs": [],
   "source": [
    "## load libraries for the tasks\n",
    "\n",
    "## for data wrangling\n",
    "import pandas as pd\n",
    "import numpy as np\n",
    "import json\n",
    "import dateutil\n",
    "\n",
    "## for visualisation\n",
    "import matplotlib.pylab as plt\n",
    "import seaborn as sns\n",
    "\n",
    "## for word processing\n",
    "import nltk\n",
    "\n",
    "\n",
    "## show data without truncating\n",
    "## omit scientific notation\n",
    "\n",
    "pd.set_option('display.max_colwidth', -1)\n",
    "pd.set_option('display.float_format', lambda x: '%.5f' % x)"
   ]
  },
  {
   "cell_type": "code",
   "execution_count": 6,
   "metadata": {},
   "outputs": [],
   "source": [
    "## This section contains all helper functions for data wrangling acitivities\n",
    "\n",
    "def read_data(filename='arxiv-metadata-oai-snapshot.json'):\n",
    "    '''\n",
    "    Function to perform following tasks \n",
    "    - ingest a json file into data frame, line by line\n",
    "    - print a sample of the data\n",
    "    - verify the size of the data \n",
    "    \n",
    "    param\n",
    "    ----------\n",
    "\n",
    "    filename:  name of json file, default to 'arxiv-metadata-oai-snapshot.json'\n",
    "    \n",
    "    return\n",
    "    ------\n",
    "    a pandas dataframe\n",
    "\n",
    "    '''\n",
    "\n",
    "    file = filename\n",
    "    \n",
    "    metadata  = []\n",
    "    with open(file, 'r') as f:\n",
    "        for line in f:\n",
    "            metadata.append(json.loads(line))\n",
    "\n",
    "    # converting it to pandas data frame / rows and columns structure\n",
    "    metadata = pd.DataFrame(metadata)\n",
    "    print(f'There are {metadata.shape[0]:,} rows and {metadata.shape[1]} columns.')\n",
    "    return metadata\n",
    "\n",
    "def create_csv(df_temp):\n",
    "    '''\n",
    "    Create a new csv contains only comments and non COVID in title\n",
    "    \n",
    "    param\n",
    "    ----------\n",
    "    df_temp:  a data frame to subset data from\n",
    "    \n",
    "    return\n",
    "    ------\n",
    "    a pandas dataframe\n",
    "\n",
    "    '''\n",
    "    \n",
    "    ## Make a copy of the input and manipulate it from a copied instance\n",
    "    df = df_temp.copy()\n",
    "\n",
    "    ## Select 5 columns to work with\n",
    "    cols = ['id','title', 'comments', 'journal-ref', 'categories']\n",
    "    df = df[cols]\n",
    "\n",
    "    ## Make a derived column, change to lowercase\n",
    "    ## This prepares the data for the next operation - filtered by criteria\n",
    "    df['title2'] = df.title.str.lower()\n",
    "\n",
    "\n",
    "    ## Filter criteria:\n",
    "    ## 1: Must not be covid related in the title\n",
    "    ## 2: Exclude blank comments\n",
    "\n",
    "    df = df[~df.title2.str.contains('covid')]\n",
    "    df = df[~df.comments.isna()]\n",
    "    print(f'comments na {len(df[df.comments.isna()])}')\n",
    "    df = df[~df.comments.isnull()]\n",
    "    print(f'comments null {len(df[df.comments.isnull()])}')\n",
    "\n",
    "    ## create variables object for data validation, then print\n",
    "    print(f'Total records of non COVID and with comments: {len(df)}')\n",
    "\n",
    "    # drop column as no longer required\n",
    "    df.drop('title2', axis=1, inplace=True)\n",
    "\n",
    "    # create csv\n",
    "\n",
    "    df.to_csv(\"clean_df.csv\")\n",
    "    print(f'Total number of {len(df)} rows are exported to a csv file called clean_df.csv in the current directory.')\n",
    "\n",
    "    return df \n",
    "\n",
    "def explore_df(df):\n",
    "    '''\n",
    "    Check if there are any missing data\n",
    "    \n",
    "    '''\n",
    "    print(f'There are {df.shape[0]:,} rows and {df.shape[1]} columns.')\n",
    "    print(f'Does the dataset contain any missing data:\\n {df.isnull().values.any()}')\n",
    "    print(f'Total records with missing data: {df.isnull().sum()}')\n",
    "\n",
    "    print('-----Print info-------')\n",
    "    print(df.info())\n",
    "\n",
    "    print('-----Object info-------')\n",
    "    print(type(df))\n",
    "\n",
    "def check_dup(var, keep=True):\n",
    "    '''\n",
    "    Check duplicated records\n",
    "    \n",
    "    '''\n",
    "    var_name = var.unique()\n",
    "\n",
    "    if var.is_unique:\n",
    "        print(f'Variable {var_name} has no duplicated records.')\n",
    "    else:\n",
    "        print(f'Variable {var_name} has duplicated records.')\n",
    "        cnt = len(df[df.duplicated(var)])\n",
    "        print(f'Total duplicated records: {cnt}')\n",
    "        print(df[df.duplicated(var,keep=True)])\n",
    "        return df\n",
    "\n",
    "def plot_histogram(var, plot_title):\n",
    "    '''\n",
    "    histogram to explore global characteristics\n",
    "\n",
    "    '''\n",
    "    sns.histplot(var).set(title=plot_title);\n",
    "    \n",
    "\n",
    "def univariate_analysis(df):\n",
    "    '''\n",
    "    Investigate how our data is distributed\n",
    "    for example, calculated the word frequency \n",
    "    '''\n",
    "    pass\n",
    "\n",
    "def remove_whitespace(df_temp, var):\n",
    "    '''\n",
    "    Remove whitespace in text column\n",
    "\n",
    "    '''\n",
    "    df = df_temp.copy()\n",
    "    df[var] = df[var].str.replace(\" \", \"\")\n",
    "    return df[var]\n",
    "\n",
    "def remove_trail(df_temp, var):\n",
    "    '''\n",
    "    Remove / trimming in text column\n",
    "\n",
    "    '''\n",
    "    df = df_temp.copy()\n",
    "\n",
    "    df[var] = df[var].str.strip()\n",
    "    return df[var]\n",
    "\n",
    "def remove_newline(df_temp, var):\n",
    "    '''\n",
    "    Remove newline\n",
    "\n",
    "    '''\n",
    "    df = df_temp.copy()\n",
    "    df[var] = df[var].str.replace('\\n','')\n",
    "    \n",
    "    return df[var]\n",
    "\n",
    "def remove_quotes(df_temp, var):\n",
    "    '''\n",
    "    Remove quotes\n",
    "\n",
    "    '''\n",
    "    df = df_temp.copy()\n",
    "    df[var] = df[var].str.replace('\"','')\n",
    "    \n",
    "    return df[var]\n",
    "\n",
    "\n",
    "###############################################################\n",
    "## Natural Language Processing helper functions ###############\n",
    "\n"
   ]
  },
  {
   "cell_type": "code",
   "execution_count": null,
   "metadata": {},
   "outputs": [],
   "source": [
    "# estimate running time ~ 2mins\n",
    "file = r\"C:\\Users\\NHaswell\\arxiv-metadata-oai-snapshot.json\"\n",
    "metadata = read_data(file)"
   ]
  },
  {
   "cell_type": "code",
   "execution_count": null,
   "metadata": {},
   "outputs": [],
   "source": [
    "create_csv(metadata)"
   ]
  },
  {
   "cell_type": "code",
   "execution_count": null,
   "metadata": {
    "scrolled": false
   },
   "outputs": [],
   "source": [
    "# Create a new CSV file excluding blank comments and COVID related in title\n",
    "cols = ['id','title', 'comments', 'journal-ref', 'categories']\n",
    "df = metadata[cols]\n",
    "\n",
    "## Make a derived column, change to lowercase\n",
    "## This prepares the data for the next operation - filtered by criteria\n",
    "df['title2'] = df.title.str.lower()\n",
    "\n",
    "## Filter criteria:\n",
    "## 1: Must not be covid related in the title\n",
    "## 2: Exclude blank comments\n",
    "\n",
    "df = df[~df.title2.str.contains('covid')]\n",
    "df = df[~df.comments.isna()]\n",
    "df = df[~df.comments.isnull()] \n",
    "\n",
    "## create variables object for data validation, then print\n",
    "print(f'Total records of non COVID and with comments: {len(df)}')\n",
    "\n",
    "# drop column as no longer required\n",
    "df.drop('title2', axis=1, inplace=True)\n",
    "\n",
    "# create csv\n",
    "df.to_csv(\"clean_df.csv\")\n",
    "print(f'Total number of {len(df)} rows are exported to a csv file called clean_df.csv in the current directory.')"
   ]
  },
  {
   "cell_type": "markdown",
   "metadata": {},
   "source": [
    "## 2.\tStorage"
   ]
  },
  {
   "cell_type": "markdown",
   "metadata": {},
   "source": [
    "## 3.\tAnalysis\n"
   ]
  },
  {
   "cell_type": "code",
   "execution_count": 4,
   "metadata": {},
   "outputs": [],
   "source": [
    "## read data from csv\n",
    "## estimate 6 secs to run\n",
    "df = pd.read_csv(\"clean_df.csv\", index_col=0, low_memory=False)\n"
   ]
  },
  {
   "cell_type": "code",
   "execution_count": 7,
   "metadata": {},
   "outputs": [
    {
     "name": "stdout",
     "output_type": "stream",
     "text": [
      "There are 1,598,729 rows and 5 columns.\n",
      "Does the dataset contain any missing data:\n",
      " True\n",
      "Total records with missing data: id             0     \n",
      "title          0     \n",
      "comments       26    \n",
      "journal-ref    948398\n",
      "categories     0     \n",
      "dtype: int64\n",
      "-----Print info-------\n",
      "<class 'pandas.core.frame.DataFrame'>\n",
      "Int64Index: 1598729 entries, 0 to 2061366\n",
      "Data columns (total 5 columns):\n",
      " #   Column       Non-Null Count    Dtype \n",
      "---  ------       --------------    ----- \n",
      " 0   id           1598729 non-null  object\n",
      " 1   title        1598729 non-null  object\n",
      " 2   comments     1598703 non-null  object\n",
      " 3   journal-ref  650331 non-null   object\n",
      " 4   categories   1598729 non-null  object\n",
      "dtypes: object(5)\n",
      "memory usage: 73.2+ MB\n",
      "None\n",
      "-----Object info-------\n",
      "<class 'pandas.core.frame.DataFrame'>\n"
     ]
    }
   ],
   "source": [
    "## health check\n",
    "explore_df(df)"
   ]
  },
  {
   "cell_type": "code",
   "execution_count": 8,
   "metadata": {},
   "outputs": [
    {
     "data": {
      "text/html": [
       "<div>\n",
       "<style scoped>\n",
       "    .dataframe tbody tr th:only-of-type {\n",
       "        vertical-align: middle;\n",
       "    }\n",
       "\n",
       "    .dataframe tbody tr th {\n",
       "        vertical-align: top;\n",
       "    }\n",
       "\n",
       "    .dataframe thead th {\n",
       "        text-align: right;\n",
       "    }\n",
       "</style>\n",
       "<table border=\"1\" class=\"dataframe\">\n",
       "  <thead>\n",
       "    <tr style=\"text-align: right;\">\n",
       "      <th></th>\n",
       "      <th>id</th>\n",
       "      <th>title</th>\n",
       "      <th>comments</th>\n",
       "      <th>journal-ref</th>\n",
       "      <th>categories</th>\n",
       "    </tr>\n",
       "  </thead>\n",
       "  <tbody>\n",
       "    <tr>\n",
       "      <th>0</th>\n",
       "      <td>0704.0001</td>\n",
       "      <td>Calculation of prompt diphoton production cross sections at Tevatron and\\n  LHC energies</td>\n",
       "      <td>37 pages, 15 figures; published version</td>\n",
       "      <td>Phys.Rev.D76:013009,2007</td>\n",
       "      <td>hep-ph</td>\n",
       "    </tr>\n",
       "    <tr>\n",
       "      <th>1</th>\n",
       "      <td>0704.0002</td>\n",
       "      <td>Sparsity-certifying Graph Decompositions</td>\n",
       "      <td>To appear in Graphs and Combinatorics</td>\n",
       "      <td>NaN</td>\n",
       "      <td>math.CO cs.CG</td>\n",
       "    </tr>\n",
       "    <tr>\n",
       "      <th>2</th>\n",
       "      <td>0704.0003</td>\n",
       "      <td>The evolution of the Earth-Moon system based on the dark matter field\\n  fluid model</td>\n",
       "      <td>23 pages, 3 figures</td>\n",
       "      <td>NaN</td>\n",
       "      <td>physics.gen-ph</td>\n",
       "    </tr>\n",
       "    <tr>\n",
       "      <th>3</th>\n",
       "      <td>0704.0004</td>\n",
       "      <td>A determinant of Stirling cycle numbers counts unlabeled acyclic\\n  single-source automata</td>\n",
       "      <td>11 pages</td>\n",
       "      <td>NaN</td>\n",
       "      <td>math.CO</td>\n",
       "    </tr>\n",
       "  </tbody>\n",
       "</table>\n",
       "</div>"
      ],
      "text/plain": [
       "          id  \\\n",
       "0  0704.0001   \n",
       "1  0704.0002   \n",
       "2  0704.0003   \n",
       "3  0704.0004   \n",
       "\n",
       "                                                                                        title  \\\n",
       "0  Calculation of prompt diphoton production cross sections at Tevatron and\\n  LHC energies     \n",
       "1  Sparsity-certifying Graph Decompositions                                                     \n",
       "2  The evolution of the Earth-Moon system based on the dark matter field\\n  fluid model         \n",
       "3  A determinant of Stirling cycle numbers counts unlabeled acyclic\\n  single-source automata   \n",
       "\n",
       "                                  comments               journal-ref  \\\n",
       "0  37 pages, 15 figures; published version  Phys.Rev.D76:013009,2007   \n",
       "1  To appear in Graphs and Combinatorics    NaN                        \n",
       "2  23 pages, 3 figures                      NaN                        \n",
       "3  11 pages                                 NaN                        \n",
       "\n",
       "       categories  \n",
       "0  hep-ph          \n",
       "1  math.CO cs.CG   \n",
       "2  physics.gen-ph  \n",
       "3  math.CO         "
      ]
     },
     "execution_count": 8,
     "metadata": {},
     "output_type": "execute_result"
    }
   ],
   "source": [
    "df.head(4)"
   ]
  },
  {
   "cell_type": "code",
   "execution_count": 9,
   "metadata": {},
   "outputs": [
    {
     "data": {
      "text/html": [
       "<div>\n",
       "<style scoped>\n",
       "    .dataframe tbody tr th:only-of-type {\n",
       "        vertical-align: middle;\n",
       "    }\n",
       "\n",
       "    .dataframe tbody tr th {\n",
       "        vertical-align: top;\n",
       "    }\n",
       "\n",
       "    .dataframe thead th {\n",
       "        text-align: right;\n",
       "    }\n",
       "</style>\n",
       "<table border=\"1\" class=\"dataframe\">\n",
       "  <thead>\n",
       "    <tr style=\"text-align: right;\">\n",
       "      <th></th>\n",
       "      <th>id</th>\n",
       "      <th>title</th>\n",
       "      <th>comments</th>\n",
       "      <th>journal-ref</th>\n",
       "      <th>categories</th>\n",
       "    </tr>\n",
       "  </thead>\n",
       "  <tbody>\n",
       "    <tr>\n",
       "      <th>2061363</th>\n",
       "      <td>supr-con/9609001</td>\n",
       "      <td>Nonlinear Response of HTSC Thin Film Microwave Resonators in an Applied\\n  DC Magnetic Field</td>\n",
       "      <td>4 pages, LaTeX type, Uses IEEE style files, 600 dpi PostScript file\\n  with color figures available at http://sagar.physics.neu.edu/preprints.html\\n  Submitted to IEEE Transactions on Applied Superconductivity</td>\n",
       "      <td>NaN</td>\n",
       "      <td>supr-con cond-mat.supr-con</td>\n",
       "    </tr>\n",
       "    <tr>\n",
       "      <th>2061364</th>\n",
       "      <td>supr-con/9609002</td>\n",
       "      <td>Critical State Flux Penetration and Linear Microwave Vortex Response in\\n  YBa_2Cu_3O_{7-x} Films</td>\n",
       "      <td>20 pages, LaTeX type, Uses REVTeX style files, Submitted to Physical\\n  Review B, 600 dpi PostScript file with high resolution figures available at\\n  http://sagar.physics.neu.edu/preprints.html</td>\n",
       "      <td>NaN</td>\n",
       "      <td>supr-con cond-mat.supr-con</td>\n",
       "    </tr>\n",
       "    <tr>\n",
       "      <th>2061365</th>\n",
       "      <td>supr-con/9609003</td>\n",
       "      <td>Density of States and NMR Relaxation Rate in Anisotropic\\n  Superconductivity with Intersecting Line Nodes</td>\n",
       "      <td>7 pages, 4 PostScript Figures, LaTeX, to appear in J. Phys. Soc. Jpn</td>\n",
       "      <td>NaN</td>\n",
       "      <td>supr-con cond-mat.supr-con</td>\n",
       "    </tr>\n",
       "    <tr>\n",
       "      <th>2061366</th>\n",
       "      <td>supr-con/9609004</td>\n",
       "      <td>Ginzburg Landau theory for d-wave pairing and fourfold symmetric vortex\\n  core structure</td>\n",
       "      <td>12 pages including 8 eps figs, LaTeX with jpsj.sty &amp; epsfig</td>\n",
       "      <td>J. Phys. Soc. Jpn. 66, 204 (1997).</td>\n",
       "      <td>supr-con cond-mat.supr-con</td>\n",
       "    </tr>\n",
       "  </tbody>\n",
       "</table>\n",
       "</div>"
      ],
      "text/plain": [
       "                       id  \\\n",
       "2061363  supr-con/9609001   \n",
       "2061364  supr-con/9609002   \n",
       "2061365  supr-con/9609003   \n",
       "2061366  supr-con/9609004   \n",
       "\n",
       "                                                                                                              title  \\\n",
       "2061363  Nonlinear Response of HTSC Thin Film Microwave Resonators in an Applied\\n  DC Magnetic Field                 \n",
       "2061364  Critical State Flux Penetration and Linear Microwave Vortex Response in\\n  YBa_2Cu_3O_{7-x} Films            \n",
       "2061365  Density of States and NMR Relaxation Rate in Anisotropic\\n  Superconductivity with Intersecting Line Nodes   \n",
       "2061366  Ginzburg Landau theory for d-wave pairing and fourfold symmetric vortex\\n  core structure                    \n",
       "\n",
       "                                                                                                                                                                                                                  comments  \\\n",
       "2061363  4 pages, LaTeX type, Uses IEEE style files, 600 dpi PostScript file\\n  with color figures available at http://sagar.physics.neu.edu/preprints.html\\n  Submitted to IEEE Transactions on Applied Superconductivity   \n",
       "2061364  20 pages, LaTeX type, Uses REVTeX style files, Submitted to Physical\\n  Review B, 600 dpi PostScript file with high resolution figures available at\\n  http://sagar.physics.neu.edu/preprints.html                  \n",
       "2061365  7 pages, 4 PostScript Figures, LaTeX, to appear in J. Phys. Soc. Jpn                                                                                                                                                \n",
       "2061366  12 pages including 8 eps figs, LaTeX with jpsj.sty & epsfig                                                                                                                                                         \n",
       "\n",
       "                                journal-ref                  categories  \n",
       "2061363  NaN                                 supr-con cond-mat.supr-con  \n",
       "2061364  NaN                                 supr-con cond-mat.supr-con  \n",
       "2061365  NaN                                 supr-con cond-mat.supr-con  \n",
       "2061366  J. Phys. Soc. Jpn. 66, 204 (1997).  supr-con cond-mat.supr-con  "
      ]
     },
     "execution_count": 9,
     "metadata": {},
     "output_type": "execute_result"
    }
   ],
   "source": [
    "df.tail(4)"
   ]
  },
  {
   "cell_type": "code",
   "execution_count": 10,
   "metadata": {},
   "outputs": [
    {
     "name": "stdout",
     "output_type": "stream",
     "text": [
      "id min lenght is 9\n",
      "id max lenght is 16\n",
      "title min lenght is 2\n",
      "title max lenght is 382\n",
      "comments min lenght is 1.0\n",
      "comments max lenght is 1150.0\n",
      "journal-ref min lenght is 4.0\n",
      "journal-ref max lenght is 557.0\n",
      "categories min lenght is 5\n",
      "categories max lenght is 125\n"
     ]
    }
   ],
   "source": [
    "for col in df.columns:\n",
    "    ## Exploring how big each column is by usig min / max\n",
    "    print(f'{col} min lenght is {df[col].str.len().min()}')\n",
    "    print(f'{col} max lenght is {df[col].str.len().max()}')\n"
   ]
  },
  {
   "cell_type": "code",
   "execution_count": 11,
   "metadata": {},
   "outputs": [
    {
     "data": {
      "text/html": [
       "<div>\n",
       "<style scoped>\n",
       "    .dataframe tbody tr th:only-of-type {\n",
       "        vertical-align: middle;\n",
       "    }\n",
       "\n",
       "    .dataframe tbody tr th {\n",
       "        vertical-align: top;\n",
       "    }\n",
       "\n",
       "    .dataframe thead th {\n",
       "        text-align: right;\n",
       "    }\n",
       "</style>\n",
       "<table border=\"1\" class=\"dataframe\">\n",
       "  <thead>\n",
       "    <tr style=\"text-align: right;\">\n",
       "      <th></th>\n",
       "      <th>id</th>\n",
       "      <th>title</th>\n",
       "      <th>comments</th>\n",
       "      <th>journal-ref</th>\n",
       "      <th>categories</th>\n",
       "    </tr>\n",
       "  </thead>\n",
       "  <tbody>\n",
       "    <tr>\n",
       "      <th>2001603</th>\n",
       "      <td>nlin/0309030</td>\n",
       "      <td>Q4</td>\n",
       "      <td>24 pages, LaTeX</td>\n",
       "      <td>Internat. Math. Research Notices, 2004, Nr. 47, 2523-2553</td>\n",
       "      <td>nlin.SI</td>\n",
       "    </tr>\n",
       "  </tbody>\n",
       "</table>\n",
       "</div>"
      ],
      "text/plain": [
       "                   id title         comments  \\\n",
       "2001603  nlin/0309030  Q4    24 pages, LaTeX   \n",
       "\n",
       "                                                       journal-ref categories  \n",
       "2001603  Internat. Math. Research Notices, 2004, Nr. 47, 2523-2553  nlin.SI    "
      ]
     },
     "execution_count": 11,
     "metadata": {},
     "output_type": "execute_result"
    }
   ],
   "source": [
    "# validation\n",
    "df[(df.title.str.len() ==2)].tail(5)"
   ]
  },
  {
   "cell_type": "code",
   "execution_count": 12,
   "metadata": {},
   "outputs": [
    {
     "data": {
      "text/html": [
       "<div>\n",
       "<style scoped>\n",
       "    .dataframe tbody tr th:only-of-type {\n",
       "        vertical-align: middle;\n",
       "    }\n",
       "\n",
       "    .dataframe tbody tr th {\n",
       "        vertical-align: top;\n",
       "    }\n",
       "\n",
       "    .dataframe thead th {\n",
       "        text-align: right;\n",
       "    }\n",
       "</style>\n",
       "<table border=\"1\" class=\"dataframe\">\n",
       "  <thead>\n",
       "    <tr style=\"text-align: right;\">\n",
       "      <th></th>\n",
       "      <th>id</th>\n",
       "      <th>title</th>\n",
       "      <th>comments</th>\n",
       "      <th>journal-ref</th>\n",
       "      <th>categories</th>\n",
       "    </tr>\n",
       "  </thead>\n",
       "  <tbody>\n",
       "    <tr>\n",
       "      <th>2029487</th>\n",
       "      <td>physics/0509244</td>\n",
       "      <td>Comment on Unified treatment for two-center one-electron molecular\\n  integrals over Slater-type orbitals with integer and noninteger principal\\n  quantum numbers</td>\n",
       "      <td>4</td>\n",
       "      <td>NaN</td>\n",
       "      <td>physics.chem-ph</td>\n",
       "    </tr>\n",
       "    <tr>\n",
       "      <th>2030344</th>\n",
       "      <td>physics/0601026</td>\n",
       "      <td>Comment on Cartesian expressions for surface and regular solid spherical\\n  harmonics using binomial coefficients and its use in the evaluation of\\n  multicenter integrals</td>\n",
       "      <td>2</td>\n",
       "      <td>NaN</td>\n",
       "      <td>physics.chem-ph physics.comp-ph</td>\n",
       "    </tr>\n",
       "    <tr>\n",
       "      <th>2031768</th>\n",
       "      <td>physics/0607008</td>\n",
       "      <td>Superfluid Pairing in the Three Component Fermi Gas</td>\n",
       "      <td>4</td>\n",
       "      <td>NaN</td>\n",
       "      <td>physics.atom-ph</td>\n",
       "    </tr>\n",
       "    <tr>\n",
       "      <th>2048994</th>\n",
       "      <td>quant-ph/0408042</td>\n",
       "      <td>Tunnelling Through Two Barriers</td>\n",
       "      <td>4</td>\n",
       "      <td>NaN</td>\n",
       "      <td>quant-ph</td>\n",
       "    </tr>\n",
       "    <tr>\n",
       "      <th>2054676</th>\n",
       "      <td>quant-ph/0608093</td>\n",
       "      <td>A gauge theory of quantum mechanics</td>\n",
       "      <td>9</td>\n",
       "      <td>Mod.Phys.Lett.A22:191-200,2007</td>\n",
       "      <td>quant-ph math-ph math.MP</td>\n",
       "    </tr>\n",
       "  </tbody>\n",
       "</table>\n",
       "</div>"
      ],
      "text/plain": [
       "                       id  \\\n",
       "2029487  physics/0509244    \n",
       "2030344  physics/0601026    \n",
       "2031768  physics/0607008    \n",
       "2048994  quant-ph/0408042   \n",
       "2054676  quant-ph/0608093   \n",
       "\n",
       "                                                                                                                                                                               title  \\\n",
       "2029487  Comment on Unified treatment for two-center one-electron molecular\\n  integrals over Slater-type orbitals with integer and noninteger principal\\n  quantum numbers            \n",
       "2030344  Comment on Cartesian expressions for surface and regular solid spherical\\n  harmonics using binomial coefficients and its use in the evaluation of\\n  multicenter integrals   \n",
       "2031768  Superfluid Pairing in the Three Component Fermi Gas                                                                                                                           \n",
       "2048994  Tunnelling Through Two Barriers                                                                                                                                               \n",
       "2054676  A gauge theory of quantum mechanics                                                                                                                                           \n",
       "\n",
       "        comments                     journal-ref  \\\n",
       "2029487  4        NaN                              \n",
       "2030344  2        NaN                              \n",
       "2031768  4        NaN                              \n",
       "2048994  4        NaN                              \n",
       "2054676  9        Mod.Phys.Lett.A22:191-200,2007   \n",
       "\n",
       "                              categories  \n",
       "2029487  physics.chem-ph                  \n",
       "2030344  physics.chem-ph physics.comp-ph  \n",
       "2031768  physics.atom-ph                  \n",
       "2048994  quant-ph                         \n",
       "2054676  quant-ph math-ph math.MP         "
      ]
     },
     "execution_count": 12,
     "metadata": {},
     "output_type": "execute_result"
    }
   ],
   "source": [
    "# validation\n",
    "df[(df.comments.str.len() ==1)].tail(5)"
   ]
  },
  {
   "cell_type": "code",
   "execution_count": 13,
   "metadata": {},
   "outputs": [
    {
     "name": "stdout",
     "output_type": "stream",
     "text": [
      "There are 1,598,728 rows.\n"
     ]
    }
   ],
   "source": [
    "# Remove redundant values\n",
    "df = df.drop_duplicates()\n",
    "print(f'There are {df.shape[0]:,} rows.')    "
   ]
  },
  {
   "cell_type": "code",
   "execution_count": 14,
   "metadata": {},
   "outputs": [
    {
     "name": "stdout",
     "output_type": "stream",
     "text": [
      " id has duplicated records.\n",
      " title has duplicated records.\n",
      " comments has duplicated records.\n",
      " journal-ref has duplicated records.\n",
      " categories has duplicated records.\n"
     ]
    }
   ],
   "source": [
    "for col in df.columns:\n",
    "    if df[col].is_unique:\n",
    "        print(f' {col} has no duplicated records.' )\n",
    "    else:\n",
    "        print(f' {col} has duplicated records.' )"
   ]
  },
  {
   "cell_type": "code",
   "execution_count": 15,
   "metadata": {},
   "outputs": [
    {
     "name": "stdout",
     "output_type": "stream",
     "text": [
      "There are 650,330 records in this dataset.\n"
     ]
    },
    {
     "data": {
      "text/html": [
       "<div>\n",
       "<style scoped>\n",
       "    .dataframe tbody tr th:only-of-type {\n",
       "        vertical-align: middle;\n",
       "    }\n",
       "\n",
       "    .dataframe tbody tr th {\n",
       "        vertical-align: top;\n",
       "    }\n",
       "\n",
       "    .dataframe thead th {\n",
       "        text-align: right;\n",
       "    }\n",
       "</style>\n",
       "<table border=\"1\" class=\"dataframe\">\n",
       "  <thead>\n",
       "    <tr style=\"text-align: right;\">\n",
       "      <th></th>\n",
       "      <th>id</th>\n",
       "      <th>journal-ref</th>\n",
       "      <th>categories</th>\n",
       "    </tr>\n",
       "  </thead>\n",
       "  <tbody>\n",
       "    <tr>\n",
       "      <th>0</th>\n",
       "      <td>0704.0001</td>\n",
       "      <td>Phys.Rev.D76:013009,2007</td>\n",
       "      <td>hep-ph</td>\n",
       "    </tr>\n",
       "    <tr>\n",
       "      <th>6</th>\n",
       "      <td>0704.0007</td>\n",
       "      <td>Phys.Rev.D76:044016,2007</td>\n",
       "      <td>gr-qc</td>\n",
       "    </tr>\n",
       "    <tr>\n",
       "      <th>7</th>\n",
       "      <td>0704.0008</td>\n",
       "      <td>Journal of Applied Physics, vol 104, 073536 (2008)</td>\n",
       "      <td>cond-mat.mtrl-sci</td>\n",
       "    </tr>\n",
       "  </tbody>\n",
       "</table>\n",
       "</div>"
      ],
      "text/plain": [
       "          id                                         journal-ref  \\\n",
       "0  0704.0001  Phys.Rev.D76:013009,2007                             \n",
       "6  0704.0007  Phys.Rev.D76:044016,2007                             \n",
       "7  0704.0008  Journal of Applied Physics, vol 104, 073536 (2008)   \n",
       "\n",
       "          categories  \n",
       "0  hep-ph             \n",
       "6  gr-qc              \n",
       "7  cond-mat.mtrl-sci  "
      ]
     },
     "execution_count": 15,
     "metadata": {},
     "output_type": "execute_result"
    }
   ],
   "source": [
    "## Create a new dataframe to find relationship between journal-ref and category\n",
    "\n",
    "df_ref_cat = df[~df['journal-ref'].isna()][['id','journal-ref','categories']]\n",
    "print(f'There are {len(df_ref_cat):,} records in this dataset.')\n",
    "df_ref_cat.head(3)"
   ]
  },
  {
   "cell_type": "code",
   "execution_count": 16,
   "metadata": {},
   "outputs": [
    {
     "data": {
      "text/plain": [
       "id\n",
       "math-ph/0409039     2\n",
       "math-ph/0408005     2\n",
       "math-ph/0212014     2\n",
       "0704.0001           1\n",
       "astro-ph/0007397    1\n",
       "                   ..\n",
       "1502.03499          1\n",
       "1502.03506          1\n",
       "1502.03509          1\n",
       "1502.03510          1\n",
       "supr-con/9609004    1\n",
       "Length: 650327, dtype: int64"
      ]
     },
     "execution_count": 16,
     "metadata": {},
     "output_type": "execute_result"
    }
   ],
   "source": [
    "## Investigate duplcated records by grouping by ID\n",
    "df_ref_cat.groupby('id').size().sort_values(ascending=False)"
   ]
  },
  {
   "cell_type": "code",
   "execution_count": 17,
   "metadata": {},
   "outputs": [
    {
     "data": {
      "text/html": [
       "<div>\n",
       "<style scoped>\n",
       "    .dataframe tbody tr th:only-of-type {\n",
       "        vertical-align: middle;\n",
       "    }\n",
       "\n",
       "    .dataframe tbody tr th {\n",
       "        vertical-align: top;\n",
       "    }\n",
       "\n",
       "    .dataframe thead th {\n",
       "        text-align: right;\n",
       "    }\n",
       "</style>\n",
       "<table border=\"1\" class=\"dataframe\">\n",
       "  <thead>\n",
       "    <tr style=\"text-align: right;\">\n",
       "      <th></th>\n",
       "      <th>id</th>\n",
       "      <th>journal-ref</th>\n",
       "      <th>categories</th>\n",
       "    </tr>\n",
       "  </thead>\n",
       "  <tbody>\n",
       "    <tr>\n",
       "      <th>1944740</th>\n",
       "      <td>math-ph/0207039</td>\n",
       "      <td>Math. Nachr. 274-275 (2004), pages 117 - 129</td>\n",
       "      <td>math-ph gr-qc math.MP</td>\n",
       "    </tr>\n",
       "    <tr>\n",
       "      <th>1945017</th>\n",
       "      <td>math-ph/0212014</td>\n",
       "      <td>J. Phys. A, 40 (2007) F1047-F1052 [revised version, open access]</td>\n",
       "      <td>math-ph math.MP quant-ph</td>\n",
       "    </tr>\n",
       "    <tr>\n",
       "      <th>1998270</th>\n",
       "      <td>math-ph/0212014</td>\n",
       "      <td>J. Phys. A, 40 (2007) F1047-F1052</td>\n",
       "      <td>math-ph math.MP math.SG quant-ph</td>\n",
       "    </tr>\n",
       "    <tr>\n",
       "      <th>1946319</th>\n",
       "      <td>math-ph/0408005</td>\n",
       "      <td>Progress in Mathematics 232 (2005) 75-120 [revised version]</td>\n",
       "      <td>math-ph math.MP</td>\n",
       "    </tr>\n",
       "    <tr>\n",
       "      <th>1998271</th>\n",
       "      <td>math-ph/0408005</td>\n",
       "      <td>Progress in Mathematics 232 (2005) 75-120 [revised version]</td>\n",
       "      <td>math-ph math.MP math.SG</td>\n",
       "    </tr>\n",
       "    <tr>\n",
       "      <th>1946414</th>\n",
       "      <td>math-ph/0409039</td>\n",
       "      <td>J. Phys. A, 38 (2005) 1977-2004 [revised version, changed title]</td>\n",
       "      <td>math-ph math.MP</td>\n",
       "    </tr>\n",
       "    <tr>\n",
       "      <th>1998272</th>\n",
       "      <td>math-ph/0409039</td>\n",
       "      <td>J. Phys. A, 38 (2005) 1977-2004 [revised version, changed title]</td>\n",
       "      <td>math-ph math.MP math.SG</td>\n",
       "    </tr>\n",
       "  </tbody>\n",
       "</table>\n",
       "</div>"
      ],
      "text/plain": [
       "                      id  \\\n",
       "1944740  math-ph/0207039   \n",
       "1945017  math-ph/0212014   \n",
       "1998270  math-ph/0212014   \n",
       "1946319  math-ph/0408005   \n",
       "1998271  math-ph/0408005   \n",
       "1946414  math-ph/0409039   \n",
       "1998272  math-ph/0409039   \n",
       "\n",
       "                                                              journal-ref  \\\n",
       "1944740  Math. Nachr. 274-275 (2004), pages 117 - 129                       \n",
       "1945017  J. Phys. A, 40 (2007) F1047-F1052 [revised version, open access]   \n",
       "1998270  J. Phys. A, 40 (2007) F1047-F1052                                  \n",
       "1946319  Progress in Mathematics 232 (2005) 75-120 [revised version]        \n",
       "1998271  Progress in Mathematics 232 (2005) 75-120 [revised version]        \n",
       "1946414  J. Phys. A, 38 (2005) 1977-2004 [revised version, changed title]   \n",
       "1998272  J. Phys. A, 38 (2005) 1977-2004 [revised version, changed title]   \n",
       "\n",
       "                               categories  \n",
       "1944740  math-ph gr-qc math.MP             \n",
       "1945017  math-ph math.MP quant-ph          \n",
       "1998270  math-ph math.MP math.SG quant-ph  \n",
       "1946319  math-ph math.MP                   \n",
       "1998271  math-ph math.MP math.SG           \n",
       "1946414  math-ph math.MP                   \n",
       "1998272  math-ph math.MP math.SG           "
      ]
     },
     "execution_count": 17,
     "metadata": {},
     "output_type": "execute_result"
    }
   ],
   "source": [
    "dup_list = ['math-ph/0207039','math-ph/0409039', 'math-ph/0408005', 'math-ph/0212014' ]\n",
    "\n",
    "df_ref_cat[df_ref_cat['id'].isin(dup_list)].sort_values(by='id')\n"
   ]
  },
  {
   "cell_type": "code",
   "execution_count": 18,
   "metadata": {},
   "outputs": [
    {
     "name": "stdout",
     "output_type": "stream",
     "text": [
      "There are 650,330 records in this dataset.\n"
     ]
    },
    {
     "data": {
      "text/html": [
       "<div>\n",
       "<style scoped>\n",
       "    .dataframe tbody tr th:only-of-type {\n",
       "        vertical-align: middle;\n",
       "    }\n",
       "\n",
       "    .dataframe tbody tr th {\n",
       "        vertical-align: top;\n",
       "    }\n",
       "\n",
       "    .dataframe thead th {\n",
       "        text-align: right;\n",
       "    }\n",
       "</style>\n",
       "<table border=\"1\" class=\"dataframe\">\n",
       "  <thead>\n",
       "    <tr style=\"text-align: right;\">\n",
       "      <th></th>\n",
       "      <th>id</th>\n",
       "      <th>journal-ref</th>\n",
       "    </tr>\n",
       "  </thead>\n",
       "  <tbody>\n",
       "    <tr>\n",
       "      <th>1946414</th>\n",
       "      <td>math-ph/0409039</td>\n",
       "      <td>J. Phys. A, 38 (2005) 1977-2004 [revised version, changed title]</td>\n",
       "    </tr>\n",
       "  </tbody>\n",
       "</table>\n",
       "</div>"
      ],
      "text/plain": [
       "                      id  \\\n",
       "1946414  math-ph/0409039   \n",
       "\n",
       "                                                              journal-ref  \n",
       "1946414  J. Phys. A, 38 (2005) 1977-2004 [revised version, changed title]  "
      ]
     },
     "execution_count": 18,
     "metadata": {},
     "output_type": "execute_result"
    }
   ],
   "source": [
    "df_ref_cat.drop_duplicates(inplace=True)\n",
    "print(f'There are {len(df_ref_cat):,} records in this dataset.')\n",
    "df_ref_cat[df_ref_cat['id']==\"math-ph/0409039\"][['id', 'journal-ref']].drop_duplicates()"
   ]
  },
  {
   "cell_type": "code",
   "execution_count": 19,
   "metadata": {},
   "outputs": [
    {
     "name": "stdout",
     "output_type": "stream",
     "text": [
      "There are 650,328 records in this dataset.\n"
     ]
    }
   ],
   "source": [
    "# normalise structure of the dataframe\n",
    "df_journal = df_ref_cat[['id', 'journal-ref']].drop_duplicates()\n",
    "print(f'There are {len(df_journal):,} records in this dataset.')\n"
   ]
  },
  {
   "cell_type": "code",
   "execution_count": 20,
   "metadata": {},
   "outputs": [
    {
     "data": {
      "text/html": [
       "<div>\n",
       "<style scoped>\n",
       "    .dataframe tbody tr th:only-of-type {\n",
       "        vertical-align: middle;\n",
       "    }\n",
       "\n",
       "    .dataframe tbody tr th {\n",
       "        vertical-align: top;\n",
       "    }\n",
       "\n",
       "    .dataframe thead th {\n",
       "        text-align: right;\n",
       "    }\n",
       "</style>\n",
       "<table border=\"1\" class=\"dataframe\">\n",
       "  <thead>\n",
       "    <tr style=\"text-align: right;\">\n",
       "      <th></th>\n",
       "      <th>id</th>\n",
       "      <th>journal-ref</th>\n",
       "    </tr>\n",
       "  </thead>\n",
       "  <tbody>\n",
       "    <tr>\n",
       "      <th>1944740</th>\n",
       "      <td>math-ph/0207039</td>\n",
       "      <td>Math. Nachr. 274-275 (2004), pages 117 - 129</td>\n",
       "    </tr>\n",
       "    <tr>\n",
       "      <th>1945017</th>\n",
       "      <td>math-ph/0212014</td>\n",
       "      <td>J. Phys. A, 40 (2007) F1047-F1052 [revised version, open access]</td>\n",
       "    </tr>\n",
       "    <tr>\n",
       "      <th>1946319</th>\n",
       "      <td>math-ph/0408005</td>\n",
       "      <td>Progress in Mathematics 232 (2005) 75-120 [revised version]</td>\n",
       "    </tr>\n",
       "    <tr>\n",
       "      <th>1946414</th>\n",
       "      <td>math-ph/0409039</td>\n",
       "      <td>J. Phys. A, 38 (2005) 1977-2004 [revised version, changed title]</td>\n",
       "    </tr>\n",
       "    <tr>\n",
       "      <th>1998270</th>\n",
       "      <td>math-ph/0212014</td>\n",
       "      <td>J. Phys. A, 40 (2007) F1047-F1052</td>\n",
       "    </tr>\n",
       "  </tbody>\n",
       "</table>\n",
       "</div>"
      ],
      "text/plain": [
       "                      id  \\\n",
       "1944740  math-ph/0207039   \n",
       "1945017  math-ph/0212014   \n",
       "1946319  math-ph/0408005   \n",
       "1946414  math-ph/0409039   \n",
       "1998270  math-ph/0212014   \n",
       "\n",
       "                                                              journal-ref  \n",
       "1944740  Math. Nachr. 274-275 (2004), pages 117 - 129                      \n",
       "1945017  J. Phys. A, 40 (2007) F1047-F1052 [revised version, open access]  \n",
       "1946319  Progress in Mathematics 232 (2005) 75-120 [revised version]       \n",
       "1946414  J. Phys. A, 38 (2005) 1977-2004 [revised version, changed title]  \n",
       "1998270  J. Phys. A, 40 (2007) F1047-F1052                                 "
      ]
     },
     "execution_count": 20,
     "metadata": {},
     "output_type": "execute_result"
    }
   ],
   "source": [
    "# Check distinct value\n",
    "df_journal[df_journal['id'].isin(dup_list)]"
   ]
  },
  {
   "cell_type": "code",
   "execution_count": 21,
   "metadata": {},
   "outputs": [
    {
     "name": "stdout",
     "output_type": "stream",
     "text": [
      "There are 650,330 records in this dataset.\n"
     ]
    }
   ],
   "source": [
    "df_category = df_ref_cat[['id', 'categories']].drop_duplicates()\n",
    "print(f'There are {len(df_category):,} records in this dataset.')"
   ]
  },
  {
   "cell_type": "markdown",
   "metadata": {},
   "source": [
    "Cleaning categories into long format, split by space delimeter"
   ]
  },
  {
   "cell_type": "code",
   "execution_count": 22,
   "metadata": {},
   "outputs": [],
   "source": [
    "# create a new dataframe for category\n",
    "# split the categories to multiple columns, one column per one category\n",
    "\n",
    "cat = lambda x: f'Category{x+1}'\n",
    "df_cat = (df_category.join(df_ref_cat['categories'].str.split(' ', expand=True)\n",
    "                            .rename(columns=cat)\n",
    "                            .fillna('')))"
   ]
  },
  {
   "cell_type": "code",
   "execution_count": 23,
   "metadata": {},
   "outputs": [
    {
     "data": {
      "text/html": [
       "<div>\n",
       "<style scoped>\n",
       "    .dataframe tbody tr th:only-of-type {\n",
       "        vertical-align: middle;\n",
       "    }\n",
       "\n",
       "    .dataframe tbody tr th {\n",
       "        vertical-align: top;\n",
       "    }\n",
       "\n",
       "    .dataframe thead th {\n",
       "        text-align: right;\n",
       "    }\n",
       "</style>\n",
       "<table border=\"1\" class=\"dataframe\">\n",
       "  <thead>\n",
       "    <tr style=\"text-align: right;\">\n",
       "      <th></th>\n",
       "      <th>id</th>\n",
       "      <th>categories</th>\n",
       "      <th>Category1</th>\n",
       "      <th>Category2</th>\n",
       "      <th>Category3</th>\n",
       "      <th>Category4</th>\n",
       "      <th>Category5</th>\n",
       "      <th>Category6</th>\n",
       "      <th>Category7</th>\n",
       "      <th>Category8</th>\n",
       "      <th>Category9</th>\n",
       "      <th>Category10</th>\n",
       "      <th>Category11</th>\n",
       "      <th>Category12</th>\n",
       "      <th>Category13</th>\n",
       "    </tr>\n",
       "  </thead>\n",
       "  <tbody>\n",
       "    <tr>\n",
       "      <th>2061355</th>\n",
       "      <td>supr-con/9608001</td>\n",
       "      <td>supr-con cond-mat.supr-con quant-ph</td>\n",
       "      <td>supr-con</td>\n",
       "      <td>cond-mat.supr-con</td>\n",
       "      <td>quant-ph</td>\n",
       "      <td></td>\n",
       "      <td></td>\n",
       "      <td></td>\n",
       "      <td></td>\n",
       "      <td></td>\n",
       "      <td></td>\n",
       "      <td></td>\n",
       "      <td></td>\n",
       "      <td></td>\n",
       "      <td></td>\n",
       "    </tr>\n",
       "    <tr>\n",
       "      <th>2061357</th>\n",
       "      <td>supr-con/9608003</td>\n",
       "      <td>supr-con cond-mat.supr-con</td>\n",
       "      <td>supr-con</td>\n",
       "      <td>cond-mat.supr-con</td>\n",
       "      <td></td>\n",
       "      <td></td>\n",
       "      <td></td>\n",
       "      <td></td>\n",
       "      <td></td>\n",
       "      <td></td>\n",
       "      <td></td>\n",
       "      <td></td>\n",
       "      <td></td>\n",
       "      <td></td>\n",
       "      <td></td>\n",
       "    </tr>\n",
       "    <tr>\n",
       "      <th>2061358</th>\n",
       "      <td>supr-con/9608004</td>\n",
       "      <td>supr-con cond-mat.supr-con</td>\n",
       "      <td>supr-con</td>\n",
       "      <td>cond-mat.supr-con</td>\n",
       "      <td></td>\n",
       "      <td></td>\n",
       "      <td></td>\n",
       "      <td></td>\n",
       "      <td></td>\n",
       "      <td></td>\n",
       "      <td></td>\n",
       "      <td></td>\n",
       "      <td></td>\n",
       "      <td></td>\n",
       "      <td></td>\n",
       "    </tr>\n",
       "    <tr>\n",
       "      <th>2061359</th>\n",
       "      <td>supr-con/9608005</td>\n",
       "      <td>supr-con cond-mat.supr-con</td>\n",
       "      <td>supr-con</td>\n",
       "      <td>cond-mat.supr-con</td>\n",
       "      <td></td>\n",
       "      <td></td>\n",
       "      <td></td>\n",
       "      <td></td>\n",
       "      <td></td>\n",
       "      <td></td>\n",
       "      <td></td>\n",
       "      <td></td>\n",
       "      <td></td>\n",
       "      <td></td>\n",
       "      <td></td>\n",
       "    </tr>\n",
       "    <tr>\n",
       "      <th>2061366</th>\n",
       "      <td>supr-con/9609004</td>\n",
       "      <td>supr-con cond-mat.supr-con</td>\n",
       "      <td>supr-con</td>\n",
       "      <td>cond-mat.supr-con</td>\n",
       "      <td></td>\n",
       "      <td></td>\n",
       "      <td></td>\n",
       "      <td></td>\n",
       "      <td></td>\n",
       "      <td></td>\n",
       "      <td></td>\n",
       "      <td></td>\n",
       "      <td></td>\n",
       "      <td></td>\n",
       "      <td></td>\n",
       "    </tr>\n",
       "  </tbody>\n",
       "</table>\n",
       "</div>"
      ],
      "text/plain": [
       "                       id                           categories Category1  \\\n",
       "2061355  supr-con/9608001  supr-con cond-mat.supr-con quant-ph  supr-con   \n",
       "2061357  supr-con/9608003  supr-con cond-mat.supr-con           supr-con   \n",
       "2061358  supr-con/9608004  supr-con cond-mat.supr-con           supr-con   \n",
       "2061359  supr-con/9608005  supr-con cond-mat.supr-con           supr-con   \n",
       "2061366  supr-con/9609004  supr-con cond-mat.supr-con           supr-con   \n",
       "\n",
       "                 Category2 Category3 Category4 Category5 Category6 Category7  \\\n",
       "2061355  cond-mat.supr-con  quant-ph                                           \n",
       "2061357  cond-mat.supr-con                                                     \n",
       "2061358  cond-mat.supr-con                                                     \n",
       "2061359  cond-mat.supr-con                                                     \n",
       "2061366  cond-mat.supr-con                                                     \n",
       "\n",
       "        Category8 Category9 Category10 Category11 Category12 Category13  \n",
       "2061355                                                                  \n",
       "2061357                                                                  \n",
       "2061358                                                                  \n",
       "2061359                                                                  \n",
       "2061366                                                                  "
      ]
     },
     "execution_count": 23,
     "metadata": {},
     "output_type": "execute_result"
    }
   ],
   "source": [
    "df_cat.tail(5)"
   ]
  },
  {
   "cell_type": "code",
   "execution_count": 24,
   "metadata": {},
   "outputs": [
    {
     "data": {
      "text/html": [
       "<div>\n",
       "<style scoped>\n",
       "    .dataframe tbody tr th:only-of-type {\n",
       "        vertical-align: middle;\n",
       "    }\n",
       "\n",
       "    .dataframe tbody tr th {\n",
       "        vertical-align: top;\n",
       "    }\n",
       "\n",
       "    .dataframe thead th {\n",
       "        text-align: right;\n",
       "    }\n",
       "</style>\n",
       "<table border=\"1\" class=\"dataframe\">\n",
       "  <thead>\n",
       "    <tr style=\"text-align: right;\">\n",
       "      <th></th>\n",
       "      <th>id</th>\n",
       "      <th>category</th>\n",
       "    </tr>\n",
       "  </thead>\n",
       "  <tbody>\n",
       "    <tr>\n",
       "      <th>0</th>\n",
       "      <td>0704.0001</td>\n",
       "      <td>hep-ph</td>\n",
       "    </tr>\n",
       "    <tr>\n",
       "      <th>1</th>\n",
       "      <td>0704.0007</td>\n",
       "      <td>gr-qc</td>\n",
       "    </tr>\n",
       "    <tr>\n",
       "      <th>2</th>\n",
       "      <td>0704.0008</td>\n",
       "      <td>cond-mat.mtrl-sci</td>\n",
       "    </tr>\n",
       "    <tr>\n",
       "      <th>3</th>\n",
       "      <td>0704.0015</td>\n",
       "      <td>hep-th</td>\n",
       "    </tr>\n",
       "    <tr>\n",
       "      <th>4</th>\n",
       "      <td>0704.0016</td>\n",
       "      <td>hep-ph</td>\n",
       "    </tr>\n",
       "    <tr>\n",
       "      <th>...</th>\n",
       "      <td>...</td>\n",
       "      <td>...</td>\n",
       "    </tr>\n",
       "    <tr>\n",
       "      <th>9104615</th>\n",
       "      <td>supr-con/9608001</td>\n",
       "      <td></td>\n",
       "    </tr>\n",
       "    <tr>\n",
       "      <th>9104616</th>\n",
       "      <td>supr-con/9608003</td>\n",
       "      <td></td>\n",
       "    </tr>\n",
       "    <tr>\n",
       "      <th>9104617</th>\n",
       "      <td>supr-con/9608004</td>\n",
       "      <td></td>\n",
       "    </tr>\n",
       "    <tr>\n",
       "      <th>9104618</th>\n",
       "      <td>supr-con/9608005</td>\n",
       "      <td></td>\n",
       "    </tr>\n",
       "    <tr>\n",
       "      <th>9104619</th>\n",
       "      <td>supr-con/9609004</td>\n",
       "      <td></td>\n",
       "    </tr>\n",
       "  </tbody>\n",
       "</table>\n",
       "<p>9104620 rows × 2 columns</p>\n",
       "</div>"
      ],
      "text/plain": [
       "                       id           category\n",
       "0        0704.0001         hep-ph           \n",
       "1        0704.0007         gr-qc            \n",
       "2        0704.0008         cond-mat.mtrl-sci\n",
       "3        0704.0015         hep-th           \n",
       "4        0704.0016         hep-ph           \n",
       "...            ...            ...           \n",
       "9104615  supr-con/9608001                   \n",
       "9104616  supr-con/9608003                   \n",
       "9104617  supr-con/9608004                   \n",
       "9104618  supr-con/9608005                   \n",
       "9104619  supr-con/9609004                   \n",
       "\n",
       "[9104620 rows x 2 columns]"
      ]
     },
     "execution_count": 24,
     "metadata": {},
     "output_type": "execute_result"
    }
   ],
   "source": [
    "df_cat  = pd.melt(df_cat, id_vars=['id']).drop('variable', axis=1).dropna()\n",
    "df_cat = df_cat.rename(columns={\"value\": \"category\"})\n",
    "df_cat"
   ]
  },
  {
   "cell_type": "code",
   "execution_count": 25,
   "metadata": {},
   "outputs": [
    {
     "data": {
      "text/html": [
       "<div>\n",
       "<style scoped>\n",
       "    .dataframe tbody tr th:only-of-type {\n",
       "        vertical-align: middle;\n",
       "    }\n",
       "\n",
       "    .dataframe tbody tr th {\n",
       "        vertical-align: top;\n",
       "    }\n",
       "\n",
       "    .dataframe thead th {\n",
       "        text-align: right;\n",
       "    }\n",
       "</style>\n",
       "<table border=\"1\" class=\"dataframe\">\n",
       "  <thead>\n",
       "    <tr style=\"text-align: right;\">\n",
       "      <th></th>\n",
       "      <th>id</th>\n",
       "      <th>journal-ref</th>\n",
       "      <th>categories</th>\n",
       "    </tr>\n",
       "  </thead>\n",
       "  <tbody>\n",
       "    <tr>\n",
       "      <th>2061355</th>\n",
       "      <td>supr-con/9608001</td>\n",
       "      <td>SIAM J Appl Math {\\bf 58} (1998) 103--121</td>\n",
       "      <td>supr-con cond-mat.supr-con quant-ph</td>\n",
       "    </tr>\n",
       "  </tbody>\n",
       "</table>\n",
       "</div>"
      ],
      "text/plain": [
       "                       id                                journal-ref  \\\n",
       "2061355  supr-con/9608001  SIAM J Appl Math {\\bf 58} (1998) 103--121   \n",
       "\n",
       "                                  categories  \n",
       "2061355  supr-con cond-mat.supr-con quant-ph  "
      ]
     },
     "execution_count": 25,
     "metadata": {},
     "output_type": "execute_result"
    }
   ],
   "source": [
    "## This ID seems to have lots of blank, lets check the original \n",
    "df_ref_cat[df_ref_cat['id']==\"supr-con/9608001\"]"
   ]
  },
  {
   "cell_type": "code",
   "execution_count": 26,
   "metadata": {},
   "outputs": [
    {
     "data": {
      "text/html": [
       "<div>\n",
       "<style scoped>\n",
       "    .dataframe tbody tr th:only-of-type {\n",
       "        vertical-align: middle;\n",
       "    }\n",
       "\n",
       "    .dataframe tbody tr th {\n",
       "        vertical-align: top;\n",
       "    }\n",
       "\n",
       "    .dataframe thead th {\n",
       "        text-align: right;\n",
       "    }\n",
       "</style>\n",
       "<table border=\"1\" class=\"dataframe\">\n",
       "  <thead>\n",
       "    <tr style=\"text-align: right;\">\n",
       "      <th></th>\n",
       "      <th>id</th>\n",
       "      <th>category</th>\n",
       "    </tr>\n",
       "  </thead>\n",
       "  <tbody>\n",
       "    <tr>\n",
       "      <th>1300655</th>\n",
       "      <td>supr-con/9608001</td>\n",
       "      <td>supr-con</td>\n",
       "    </tr>\n",
       "    <tr>\n",
       "      <th>1950985</th>\n",
       "      <td>supr-con/9608001</td>\n",
       "      <td>cond-mat.supr-con</td>\n",
       "    </tr>\n",
       "    <tr>\n",
       "      <th>2601315</th>\n",
       "      <td>supr-con/9608001</td>\n",
       "      <td>quant-ph</td>\n",
       "    </tr>\n",
       "  </tbody>\n",
       "</table>\n",
       "</div>"
      ],
      "text/plain": [
       "                       id           category\n",
       "1300655  supr-con/9608001  supr-con         \n",
       "1950985  supr-con/9608001  cond-mat.supr-con\n",
       "2601315  supr-con/9608001  quant-ph         "
      ]
     },
     "execution_count": 26,
     "metadata": {},
     "output_type": "execute_result"
    }
   ],
   "source": [
    "# Need to filter the original concatenanted categories and blank rows\n",
    "df_cat[(df_cat['id']==\"supr-con/9608001\") & \\\n",
    "       (df_cat['category'].str.len()>0) & \\\n",
    "       (~df_cat['category'].str.contains(' '))]"
   ]
  },
  {
   "cell_type": "code",
   "execution_count": 27,
   "metadata": {},
   "outputs": [
    {
     "name": "stdout",
     "output_type": "stream",
     "text": [
      "There are 1,455,629 records in this dataset.\n"
     ]
    }
   ],
   "source": [
    "## cleaned version of df_cat\n",
    "## splitting column to multiple columns by whitespace delimiter\n",
    "\n",
    "df_cat = df_cat[(df_cat['category'].str.len()>0) & \\\n",
    "       (~df_cat['category'].str.contains(' '))]\n",
    "\n",
    "print(f'There are {len(df_cat):,} records in this dataset.')"
   ]
  },
  {
   "cell_type": "code",
   "execution_count": 28,
   "metadata": {
    "scrolled": false
   },
   "outputs": [],
   "source": [
    "# merging journal and category datafames\n",
    "df_category_journal = pd.merge(df_journal,df_cat,  on='id', how='left')[['id','journal-ref', 'category']].drop_duplicates()"
   ]
  },
  {
   "cell_type": "code",
   "execution_count": 29,
   "metadata": {},
   "outputs": [
    {
     "data": {
      "text/html": [
       "<div>\n",
       "<style scoped>\n",
       "    .dataframe tbody tr th:only-of-type {\n",
       "        vertical-align: middle;\n",
       "    }\n",
       "\n",
       "    .dataframe tbody tr th {\n",
       "        vertical-align: top;\n",
       "    }\n",
       "\n",
       "    .dataframe thead th {\n",
       "        text-align: right;\n",
       "    }\n",
       "</style>\n",
       "<table border=\"1\" class=\"dataframe\">\n",
       "  <thead>\n",
       "    <tr style=\"text-align: right;\">\n",
       "      <th></th>\n",
       "      <th>id</th>\n",
       "      <th>journal-ref</th>\n",
       "      <th>category</th>\n",
       "    </tr>\n",
       "  </thead>\n",
       "  <tbody>\n",
       "    <tr>\n",
       "      <th>0</th>\n",
       "      <td>0704.0001</td>\n",
       "      <td>Phys.Rev.D76:013009,2007</td>\n",
       "      <td>hep-ph</td>\n",
       "    </tr>\n",
       "    <tr>\n",
       "      <th>2</th>\n",
       "      <td>0704.0007</td>\n",
       "      <td>Phys.Rev.D76:044016,2007</td>\n",
       "      <td>gr-qc</td>\n",
       "    </tr>\n",
       "  </tbody>\n",
       "</table>\n",
       "</div>"
      ],
      "text/plain": [
       "          id               journal-ref category\n",
       "0  0704.0001  Phys.Rev.D76:013009,2007  hep-ph \n",
       "2  0704.0007  Phys.Rev.D76:044016,2007  gr-qc  "
      ]
     },
     "execution_count": 29,
     "metadata": {},
     "output_type": "execute_result"
    }
   ],
   "source": [
    "# a new dataframe after merging journal and category datafames\n",
    "df_category_journal.head(2)"
   ]
  },
  {
   "cell_type": "code",
   "execution_count": 30,
   "metadata": {},
   "outputs": [
    {
     "data": {
      "text/html": [
       "<div>\n",
       "<style scoped>\n",
       "    .dataframe tbody tr th:only-of-type {\n",
       "        vertical-align: middle;\n",
       "    }\n",
       "\n",
       "    .dataframe tbody tr th {\n",
       "        vertical-align: top;\n",
       "    }\n",
       "\n",
       "    .dataframe thead th {\n",
       "        text-align: right;\n",
       "    }\n",
       "</style>\n",
       "<table border=\"1\" class=\"dataframe\">\n",
       "  <thead>\n",
       "    <tr style=\"text-align: right;\">\n",
       "      <th></th>\n",
       "      <th>journal-ref</th>\n",
       "      <th>category</th>\n",
       "      <th>count</th>\n",
       "    </tr>\n",
       "  </thead>\n",
       "  <tbody>\n",
       "    <tr>\n",
       "      <th>186096</th>\n",
       "      <td>Dans Design, Automation and Test in Europe - DATE'05, Munich :\\n  Allemagne (2005)</td>\n",
       "      <td>cs.AR</td>\n",
       "      <td>84</td>\n",
       "    </tr>\n",
       "    <tr>\n",
       "      <th>186186</th>\n",
       "      <td>Dans Symposium on Design, Test, Integration and Packaging of\\n  MEMS/MOEMS - DTIP 2008, Nice : France (2008)</td>\n",
       "      <td>cs.OH</td>\n",
       "      <td>77</td>\n",
       "    </tr>\n",
       "    <tr>\n",
       "      <th>186185</th>\n",
       "      <td>Dans Symposium on Design, Test, Integration and Packaging of\\n  MEMS/MOEMS - DTIP 2007, Stresa, lago Maggiore : Italie (2007)</td>\n",
       "      <td>cs.OH</td>\n",
       "      <td>66</td>\n",
       "    </tr>\n",
       "    <tr>\n",
       "      <th>186183</th>\n",
       "      <td>Dans Symposium on Design, Test, Integration and Packaging of\\n  MEMS/MOEMS - DTIP 2006, Stresa, Lago Maggiore : Italie (2006)</td>\n",
       "      <td>cs.OH</td>\n",
       "      <td>49</td>\n",
       "    </tr>\n",
       "    <tr>\n",
       "      <th>1008279</th>\n",
       "      <td>Prog Theor Exp Phys (2020)</td>\n",
       "      <td>hep-ph</td>\n",
       "      <td>45</td>\n",
       "    </tr>\n",
       "    <tr>\n",
       "      <th>...</th>\n",
       "      <td>...</td>\n",
       "      <td>...</td>\n",
       "      <td>...</td>\n",
       "    </tr>\n",
       "    <tr>\n",
       "      <th>363758</th>\n",
       "      <td>J. Pure Appl. Algebra 225 (2021), 106463</td>\n",
       "      <td>math.CO</td>\n",
       "      <td>1</td>\n",
       "    </tr>\n",
       "    <tr>\n",
       "      <th>363759</th>\n",
       "      <td>J. Pure Appl. Algebra 225 (2021), 106463</td>\n",
       "      <td>math.RT</td>\n",
       "      <td>1</td>\n",
       "    </tr>\n",
       "    <tr>\n",
       "      <th>363760</th>\n",
       "      <td>J. Pure Appl. Algebra 225 (2021), 106525, 10 pages</td>\n",
       "      <td>math.AG</td>\n",
       "      <td>1</td>\n",
       "    </tr>\n",
       "    <tr>\n",
       "      <th>363761</th>\n",
       "      <td>J. Pure Appl. Algebra 225 (2021), no. 10, Paper No. 106665, 26 pp</td>\n",
       "      <td>math.AG</td>\n",
       "      <td>1</td>\n",
       "    </tr>\n",
       "    <tr>\n",
       "      <th>1088968</th>\n",
       "      <td>Épijournal de Géométrie Algébrique, Volume 6 (March 9, 2022)\\n  epiga:9189</td>\n",
       "      <td>math.AG</td>\n",
       "      <td>1</td>\n",
       "    </tr>\n",
       "  </tbody>\n",
       "</table>\n",
       "<p>1088969 rows × 3 columns</p>\n",
       "</div>"
      ],
      "text/plain": [
       "                                                                                                                           journal-ref  \\\n",
       "186096   Dans Design, Automation and Test in Europe - DATE'05, Munich :\\n  Allemagne (2005)                                              \n",
       "186186   Dans Symposium on Design, Test, Integration and Packaging of\\n  MEMS/MOEMS - DTIP 2008, Nice : France (2008)                    \n",
       "186185   Dans Symposium on Design, Test, Integration and Packaging of\\n  MEMS/MOEMS - DTIP 2007, Stresa, lago Maggiore : Italie (2007)   \n",
       "186183   Dans Symposium on Design, Test, Integration and Packaging of\\n  MEMS/MOEMS - DTIP 2006, Stresa, Lago Maggiore : Italie (2006)   \n",
       "1008279  Prog Theor Exp Phys (2020)                                                                                                      \n",
       "...                             ...                                                                                                      \n",
       "363758   J. Pure Appl. Algebra 225 (2021), 106463                                                                                        \n",
       "363759   J. Pure Appl. Algebra 225 (2021), 106463                                                                                        \n",
       "363760   J. Pure Appl. Algebra 225 (2021), 106525, 10 pages                                                                              \n",
       "363761   J. Pure Appl. Algebra 225 (2021), no. 10, Paper No. 106665, 26 pp                                                               \n",
       "1088968  Épijournal de Géométrie Algébrique, Volume 6 (March 9, 2022)\\n  epiga:9189                                                      \n",
       "\n",
       "        category  count  \n",
       "186096   cs.AR    84     \n",
       "186186   cs.OH    77     \n",
       "186185   cs.OH    66     \n",
       "186183   cs.OH    49     \n",
       "1008279  hep-ph   45     \n",
       "...         ...   ..     \n",
       "363758   math.CO  1      \n",
       "363759   math.RT  1      \n",
       "363760   math.AG  1      \n",
       "363761   math.AG  1      \n",
       "1088968  math.AG  1      \n",
       "\n",
       "[1088969 rows x 3 columns]"
      ]
     },
     "execution_count": 30,
     "metadata": {},
     "output_type": "execute_result"
    }
   ],
   "source": [
    "## Restructing dataframe via aggregating the data frame and count records\n",
    "## assign to a new object df_group\n",
    "df_group = df_category_journal.groupby(['journal-ref', 'category']).size()\n",
    "df_group = pd.DataFrame(df_group).reset_index()\n",
    "df_group.columns.values[2] = 'count'\n",
    "df_group.sort_values(by='count', ascending=False)"
   ]
  },
  {
   "cell_type": "code",
   "execution_count": 31,
   "metadata": {},
   "outputs": [],
   "source": [
    "#df_group = df_group[df_group['count']>5]"
   ]
  },
  {
   "cell_type": "code",
   "execution_count": 32,
   "metadata": {},
   "outputs": [
    {
     "data": {
      "text/plain": [
       "1307525    eess.IV cs.CV      \n",
       "1317014    cs.CV cs.LG eess.IV\n",
       "1321183    eess.IV cs.CV      \n",
       "1326103    cs.CV cs.LG stat.ML\n",
       "1487328    cs.CV cs.AI stat.ML\n",
       "Name: categories, dtype: object"
      ]
     },
     "execution_count": 32,
     "metadata": {},
     "output_type": "execute_result"
    }
   ],
   "source": [
    "## Orignal dataset filtered by MICCAI 2020 journal\n",
    "## found 5 distinct documents and cs.CV was selected in all 5 papers\n",
    "df[df['journal-ref']==\"MICCAI 2020\"]['categories']"
   ]
  },
  {
   "cell_type": "code",
   "execution_count": 33,
   "metadata": {
    "scrolled": false
   },
   "outputs": [
    {
     "data": {
      "text/html": [
       "<div>\n",
       "<style scoped>\n",
       "    .dataframe tbody tr th:only-of-type {\n",
       "        vertical-align: middle;\n",
       "    }\n",
       "\n",
       "    .dataframe tbody tr th {\n",
       "        vertical-align: top;\n",
       "    }\n",
       "\n",
       "    .dataframe thead th {\n",
       "        text-align: right;\n",
       "    }\n",
       "</style>\n",
       "<table border=\"1\" class=\"dataframe\">\n",
       "  <thead>\n",
       "    <tr style=\"text-align: right;\">\n",
       "      <th>category</th>\n",
       "      <th>acc-phys</th>\n",
       "      <th>adap-org</th>\n",
       "      <th>alg-geom</th>\n",
       "      <th>ao-sci</th>\n",
       "      <th>astro-ph</th>\n",
       "      <th>astro-ph.CO</th>\n",
       "      <th>astro-ph.EP</th>\n",
       "      <th>astro-ph.GA</th>\n",
       "      <th>astro-ph.HE</th>\n",
       "      <th>astro-ph.IM</th>\n",
       "      <th>...</th>\n",
       "      <th>q-fin.TR</th>\n",
       "      <th>quant-ph</th>\n",
       "      <th>solv-int</th>\n",
       "      <th>stat.AP</th>\n",
       "      <th>stat.CO</th>\n",
       "      <th>stat.ME</th>\n",
       "      <th>stat.ML</th>\n",
       "      <th>stat.OT</th>\n",
       "      <th>stat.TH</th>\n",
       "      <th>supr-con</th>\n",
       "    </tr>\n",
       "    <tr>\n",
       "      <th>journal-ref</th>\n",
       "      <th></th>\n",
       "      <th></th>\n",
       "      <th></th>\n",
       "      <th></th>\n",
       "      <th></th>\n",
       "      <th></th>\n",
       "      <th></th>\n",
       "      <th></th>\n",
       "      <th></th>\n",
       "      <th></th>\n",
       "      <th></th>\n",
       "      <th></th>\n",
       "      <th></th>\n",
       "      <th></th>\n",
       "      <th></th>\n",
       "      <th></th>\n",
       "      <th></th>\n",
       "      <th></th>\n",
       "      <th></th>\n",
       "      <th></th>\n",
       "      <th></th>\n",
       "    </tr>\n",
       "  </thead>\n",
       "  <tbody>\n",
       "    <tr>\n",
       "      <th>\" Coding and Cryptography,\" Proceedings of the First International\\n  Workshop, Wuyi Mountain, Fujian, China, 11 - 15 June 2007, edited by Yongqing\\n  Li et al., World Scientific, 2008, pp. 15--24</th>\n",
       "      <td>NaN</td>\n",
       "      <td>NaN</td>\n",
       "      <td>NaN</td>\n",
       "      <td>NaN</td>\n",
       "      <td>NaN</td>\n",
       "      <td>NaN</td>\n",
       "      <td>NaN</td>\n",
       "      <td>NaN</td>\n",
       "      <td>NaN</td>\n",
       "      <td>NaN</td>\n",
       "      <td>...</td>\n",
       "      <td>NaN</td>\n",
       "      <td>NaN</td>\n",
       "      <td>NaN</td>\n",
       "      <td>NaN</td>\n",
       "      <td>NaN</td>\n",
       "      <td>NaN</td>\n",
       "      <td>NaN</td>\n",
       "      <td>NaN</td>\n",
       "      <td>NaN</td>\n",
       "      <td>NaN</td>\n",
       "    </tr>\n",
       "    <tr>\n",
       "      <th>\" Trends in Materials Science Research\", B.M.Caruta Editor,Nova\\n  Science Publishers,New York,2006,pp.245-260</th>\n",
       "      <td>NaN</td>\n",
       "      <td>NaN</td>\n",
       "      <td>NaN</td>\n",
       "      <td>NaN</td>\n",
       "      <td>NaN</td>\n",
       "      <td>NaN</td>\n",
       "      <td>NaN</td>\n",
       "      <td>NaN</td>\n",
       "      <td>NaN</td>\n",
       "      <td>NaN</td>\n",
       "      <td>...</td>\n",
       "      <td>NaN</td>\n",
       "      <td>NaN</td>\n",
       "      <td>NaN</td>\n",
       "      <td>NaN</td>\n",
       "      <td>NaN</td>\n",
       "      <td>NaN</td>\n",
       "      <td>NaN</td>\n",
       "      <td>NaN</td>\n",
       "      <td>NaN</td>\n",
       "      <td>NaN</td>\n",
       "    </tr>\n",
       "    <tr>\n",
       "      <th>\".Astronomy: Networked Astronomy and the New Media\", 2009, edited\\n  by R.J. Simpson, D. Ward-Thompson</th>\n",
       "      <td>NaN</td>\n",
       "      <td>NaN</td>\n",
       "      <td>NaN</td>\n",
       "      <td>NaN</td>\n",
       "      <td>NaN</td>\n",
       "      <td>NaN</td>\n",
       "      <td>NaN</td>\n",
       "      <td>NaN</td>\n",
       "      <td>NaN</td>\n",
       "      <td>1.00000</td>\n",
       "      <td>...</td>\n",
       "      <td>NaN</td>\n",
       "      <td>NaN</td>\n",
       "      <td>NaN</td>\n",
       "      <td>NaN</td>\n",
       "      <td>NaN</td>\n",
       "      <td>NaN</td>\n",
       "      <td>NaN</td>\n",
       "      <td>NaN</td>\n",
       "      <td>NaN</td>\n",
       "      <td>NaN</td>\n",
       "    </tr>\n",
       "    <tr>\n",
       "      <th>\"2008 Cosmology, Proceedings of the 43rd Rencontres de Moriond\",\\n  Eds. J. Dumarchez, Y. Giraud-Heraud, J. Tran Thanh Van, pp. 71-74, 2009, The\\n  Gioi Publishers, Vietnam</th>\n",
       "      <td>NaN</td>\n",
       "      <td>NaN</td>\n",
       "      <td>NaN</td>\n",
       "      <td>NaN</td>\n",
       "      <td>NaN</td>\n",
       "      <td>1.00000</td>\n",
       "      <td>NaN</td>\n",
       "      <td>NaN</td>\n",
       "      <td>NaN</td>\n",
       "      <td>NaN</td>\n",
       "      <td>...</td>\n",
       "      <td>NaN</td>\n",
       "      <td>NaN</td>\n",
       "      <td>NaN</td>\n",
       "      <td>NaN</td>\n",
       "      <td>NaN</td>\n",
       "      <td>NaN</td>\n",
       "      <td>NaN</td>\n",
       "      <td>NaN</td>\n",
       "      <td>NaN</td>\n",
       "      <td>NaN</td>\n",
       "    </tr>\n",
       "    <tr>\n",
       "      <th>\"2010 Cosmology\", Ed.: Etienne Aug\\'e, Jacques Dumarchez, Jean\\n  Tr\\^an Thanh V\\^an, Th\\~e gi\\'oi, 2010, pp. 177-180</th>\n",
       "      <td>NaN</td>\n",
       "      <td>NaN</td>\n",
       "      <td>NaN</td>\n",
       "      <td>NaN</td>\n",
       "      <td>NaN</td>\n",
       "      <td>1.00000</td>\n",
       "      <td>NaN</td>\n",
       "      <td>NaN</td>\n",
       "      <td>NaN</td>\n",
       "      <td>NaN</td>\n",
       "      <td>...</td>\n",
       "      <td>NaN</td>\n",
       "      <td>NaN</td>\n",
       "      <td>NaN</td>\n",
       "      <td>NaN</td>\n",
       "      <td>NaN</td>\n",
       "      <td>NaN</td>\n",
       "      <td>NaN</td>\n",
       "      <td>NaN</td>\n",
       "      <td>NaN</td>\n",
       "      <td>NaN</td>\n",
       "    </tr>\n",
       "    <tr>\n",
       "      <th>...</th>\n",
       "      <td>...</td>\n",
       "      <td>...</td>\n",
       "      <td>...</td>\n",
       "      <td>...</td>\n",
       "      <td>...</td>\n",
       "      <td>...</td>\n",
       "      <td>...</td>\n",
       "      <td>...</td>\n",
       "      <td>...</td>\n",
       "      <td>...</td>\n",
       "      <td>...</td>\n",
       "      <td>...</td>\n",
       "      <td>...</td>\n",
       "      <td>...</td>\n",
       "      <td>...</td>\n",
       "      <td>...</td>\n",
       "      <td>...</td>\n",
       "      <td>...</td>\n",
       "      <td>...</td>\n",
       "      <td>...</td>\n",
       "      <td>...</td>\n",
       "    </tr>\n",
       "    <tr>\n",
       "      <th>Épijournal de Géométrie Algébrique, Volume 6 (January 28, 2022)\\n  epiga:9011</th>\n",
       "      <td>NaN</td>\n",
       "      <td>NaN</td>\n",
       "      <td>NaN</td>\n",
       "      <td>NaN</td>\n",
       "      <td>NaN</td>\n",
       "      <td>NaN</td>\n",
       "      <td>NaN</td>\n",
       "      <td>NaN</td>\n",
       "      <td>NaN</td>\n",
       "      <td>NaN</td>\n",
       "      <td>...</td>\n",
       "      <td>NaN</td>\n",
       "      <td>NaN</td>\n",
       "      <td>NaN</td>\n",
       "      <td>NaN</td>\n",
       "      <td>NaN</td>\n",
       "      <td>NaN</td>\n",
       "      <td>NaN</td>\n",
       "      <td>NaN</td>\n",
       "      <td>NaN</td>\n",
       "      <td>NaN</td>\n",
       "    </tr>\n",
       "    <tr>\n",
       "      <th>Épijournal de Géométrie Algébrique, Volume 6 (March 1, 2022)\\n  epiga:9149</th>\n",
       "      <td>NaN</td>\n",
       "      <td>NaN</td>\n",
       "      <td>NaN</td>\n",
       "      <td>NaN</td>\n",
       "      <td>NaN</td>\n",
       "      <td>NaN</td>\n",
       "      <td>NaN</td>\n",
       "      <td>NaN</td>\n",
       "      <td>NaN</td>\n",
       "      <td>NaN</td>\n",
       "      <td>...</td>\n",
       "      <td>NaN</td>\n",
       "      <td>NaN</td>\n",
       "      <td>NaN</td>\n",
       "      <td>NaN</td>\n",
       "      <td>NaN</td>\n",
       "      <td>NaN</td>\n",
       "      <td>NaN</td>\n",
       "      <td>NaN</td>\n",
       "      <td>NaN</td>\n",
       "      <td>NaN</td>\n",
       "    </tr>\n",
       "    <tr>\n",
       "      <th>Épijournal de Géométrie Algébrique, Volume 6 (March 1, 2022)\\n  epiga:9150</th>\n",
       "      <td>NaN</td>\n",
       "      <td>NaN</td>\n",
       "      <td>NaN</td>\n",
       "      <td>NaN</td>\n",
       "      <td>NaN</td>\n",
       "      <td>NaN</td>\n",
       "      <td>NaN</td>\n",
       "      <td>NaN</td>\n",
       "      <td>NaN</td>\n",
       "      <td>NaN</td>\n",
       "      <td>...</td>\n",
       "      <td>NaN</td>\n",
       "      <td>NaN</td>\n",
       "      <td>NaN</td>\n",
       "      <td>NaN</td>\n",
       "      <td>NaN</td>\n",
       "      <td>NaN</td>\n",
       "      <td>NaN</td>\n",
       "      <td>NaN</td>\n",
       "      <td>NaN</td>\n",
       "      <td>NaN</td>\n",
       "    </tr>\n",
       "    <tr>\n",
       "      <th>Épijournal de Géométrie Algébrique, Volume 6 (March 7, 2022)\\n  epiga:9177</th>\n",
       "      <td>NaN</td>\n",
       "      <td>NaN</td>\n",
       "      <td>NaN</td>\n",
       "      <td>NaN</td>\n",
       "      <td>NaN</td>\n",
       "      <td>NaN</td>\n",
       "      <td>NaN</td>\n",
       "      <td>NaN</td>\n",
       "      <td>NaN</td>\n",
       "      <td>NaN</td>\n",
       "      <td>...</td>\n",
       "      <td>NaN</td>\n",
       "      <td>NaN</td>\n",
       "      <td>NaN</td>\n",
       "      <td>NaN</td>\n",
       "      <td>NaN</td>\n",
       "      <td>NaN</td>\n",
       "      <td>NaN</td>\n",
       "      <td>NaN</td>\n",
       "      <td>NaN</td>\n",
       "      <td>NaN</td>\n",
       "    </tr>\n",
       "    <tr>\n",
       "      <th>Épijournal de Géométrie Algébrique, Volume 6 (March 9, 2022)\\n  epiga:9189</th>\n",
       "      <td>NaN</td>\n",
       "      <td>NaN</td>\n",
       "      <td>NaN</td>\n",
       "      <td>NaN</td>\n",
       "      <td>NaN</td>\n",
       "      <td>NaN</td>\n",
       "      <td>NaN</td>\n",
       "      <td>NaN</td>\n",
       "      <td>NaN</td>\n",
       "      <td>NaN</td>\n",
       "      <td>...</td>\n",
       "      <td>NaN</td>\n",
       "      <td>NaN</td>\n",
       "      <td>NaN</td>\n",
       "      <td>NaN</td>\n",
       "      <td>NaN</td>\n",
       "      <td>NaN</td>\n",
       "      <td>NaN</td>\n",
       "      <td>NaN</td>\n",
       "      <td>NaN</td>\n",
       "      <td>NaN</td>\n",
       "    </tr>\n",
       "  </tbody>\n",
       "</table>\n",
       "<p>646440 rows × 176 columns</p>\n",
       "</div>"
      ],
      "text/plain": [
       "category                                                                                                                                                                                              acc-phys  \\\n",
       "journal-ref                                                                                                                                                                                                      \n",
       "\" Coding and Cryptography,\" Proceedings of the First International\\n  Workshop, Wuyi Mountain, Fujian, China, 11 - 15 June 2007, edited by Yongqing\\n  Li et al., World Scientific, 2008, pp. 15--24 NaN         \n",
       "\" Trends in Materials Science Research\", B.M.Caruta Editor,Nova\\n  Science Publishers,New York,2006,pp.245-260                                                                                       NaN         \n",
       "\".Astronomy: Networked Astronomy and the New Media\", 2009, edited\\n  by R.J. Simpson, D. Ward-Thompson                                                                                               NaN         \n",
       "\"2008 Cosmology, Proceedings of the 43rd Rencontres de Moriond\",\\n  Eds. J. Dumarchez, Y. Giraud-Heraud, J. Tran Thanh Van, pp. 71-74, 2009, The\\n  Gioi Publishers, Vietnam                         NaN         \n",
       "\"2010 Cosmology\", Ed.: Etienne Aug\\'e, Jacques Dumarchez, Jean\\n  Tr\\^an Thanh V\\^an, Th\\~e gi\\'oi, 2010, pp. 177-180                                                                                NaN         \n",
       "...                                                                                                                                                                                                   ..         \n",
       "Épijournal de Géométrie Algébrique, Volume 6 (January 28, 2022)\\n  epiga:9011                                                                                                                        NaN         \n",
       "Épijournal de Géométrie Algébrique, Volume 6 (March 1, 2022)\\n  epiga:9149                                                                                                                           NaN         \n",
       "Épijournal de Géométrie Algébrique, Volume 6 (March 1, 2022)\\n  epiga:9150                                                                                                                           NaN         \n",
       "Épijournal de Géométrie Algébrique, Volume 6 (March 7, 2022)\\n  epiga:9177                                                                                                                           NaN         \n",
       "Épijournal de Géométrie Algébrique, Volume 6 (March 9, 2022)\\n  epiga:9189                                                                                                                           NaN         \n",
       "\n",
       "category                                                                                                                                                                                              adap-org  \\\n",
       "journal-ref                                                                                                                                                                                                      \n",
       "\" Coding and Cryptography,\" Proceedings of the First International\\n  Workshop, Wuyi Mountain, Fujian, China, 11 - 15 June 2007, edited by Yongqing\\n  Li et al., World Scientific, 2008, pp. 15--24 NaN         \n",
       "\" Trends in Materials Science Research\", B.M.Caruta Editor,Nova\\n  Science Publishers,New York,2006,pp.245-260                                                                                       NaN         \n",
       "\".Astronomy: Networked Astronomy and the New Media\", 2009, edited\\n  by R.J. Simpson, D. Ward-Thompson                                                                                               NaN         \n",
       "\"2008 Cosmology, Proceedings of the 43rd Rencontres de Moriond\",\\n  Eds. J. Dumarchez, Y. Giraud-Heraud, J. Tran Thanh Van, pp. 71-74, 2009, The\\n  Gioi Publishers, Vietnam                         NaN         \n",
       "\"2010 Cosmology\", Ed.: Etienne Aug\\'e, Jacques Dumarchez, Jean\\n  Tr\\^an Thanh V\\^an, Th\\~e gi\\'oi, 2010, pp. 177-180                                                                                NaN         \n",
       "...                                                                                                                                                                                                   ..         \n",
       "Épijournal de Géométrie Algébrique, Volume 6 (January 28, 2022)\\n  epiga:9011                                                                                                                        NaN         \n",
       "Épijournal de Géométrie Algébrique, Volume 6 (March 1, 2022)\\n  epiga:9149                                                                                                                           NaN         \n",
       "Épijournal de Géométrie Algébrique, Volume 6 (March 1, 2022)\\n  epiga:9150                                                                                                                           NaN         \n",
       "Épijournal de Géométrie Algébrique, Volume 6 (March 7, 2022)\\n  epiga:9177                                                                                                                           NaN         \n",
       "Épijournal de Géométrie Algébrique, Volume 6 (March 9, 2022)\\n  epiga:9189                                                                                                                           NaN         \n",
       "\n",
       "category                                                                                                                                                                                              alg-geom  \\\n",
       "journal-ref                                                                                                                                                                                                      \n",
       "\" Coding and Cryptography,\" Proceedings of the First International\\n  Workshop, Wuyi Mountain, Fujian, China, 11 - 15 June 2007, edited by Yongqing\\n  Li et al., World Scientific, 2008, pp. 15--24 NaN         \n",
       "\" Trends in Materials Science Research\", B.M.Caruta Editor,Nova\\n  Science Publishers,New York,2006,pp.245-260                                                                                       NaN         \n",
       "\".Astronomy: Networked Astronomy and the New Media\", 2009, edited\\n  by R.J. Simpson, D. Ward-Thompson                                                                                               NaN         \n",
       "\"2008 Cosmology, Proceedings of the 43rd Rencontres de Moriond\",\\n  Eds. J. Dumarchez, Y. Giraud-Heraud, J. Tran Thanh Van, pp. 71-74, 2009, The\\n  Gioi Publishers, Vietnam                         NaN         \n",
       "\"2010 Cosmology\", Ed.: Etienne Aug\\'e, Jacques Dumarchez, Jean\\n  Tr\\^an Thanh V\\^an, Th\\~e gi\\'oi, 2010, pp. 177-180                                                                                NaN         \n",
       "...                                                                                                                                                                                                   ..         \n",
       "Épijournal de Géométrie Algébrique, Volume 6 (January 28, 2022)\\n  epiga:9011                                                                                                                        NaN         \n",
       "Épijournal de Géométrie Algébrique, Volume 6 (March 1, 2022)\\n  epiga:9149                                                                                                                           NaN         \n",
       "Épijournal de Géométrie Algébrique, Volume 6 (March 1, 2022)\\n  epiga:9150                                                                                                                           NaN         \n",
       "Épijournal de Géométrie Algébrique, Volume 6 (March 7, 2022)\\n  epiga:9177                                                                                                                           NaN         \n",
       "Épijournal de Géométrie Algébrique, Volume 6 (March 9, 2022)\\n  epiga:9189                                                                                                                           NaN         \n",
       "\n",
       "category                                                                                                                                                                                              ao-sci  \\\n",
       "journal-ref                                                                                                                                                                                                    \n",
       "\" Coding and Cryptography,\" Proceedings of the First International\\n  Workshop, Wuyi Mountain, Fujian, China, 11 - 15 June 2007, edited by Yongqing\\n  Li et al., World Scientific, 2008, pp. 15--24 NaN       \n",
       "\" Trends in Materials Science Research\", B.M.Caruta Editor,Nova\\n  Science Publishers,New York,2006,pp.245-260                                                                                       NaN       \n",
       "\".Astronomy: Networked Astronomy and the New Media\", 2009, edited\\n  by R.J. Simpson, D. Ward-Thompson                                                                                               NaN       \n",
       "\"2008 Cosmology, Proceedings of the 43rd Rencontres de Moriond\",\\n  Eds. J. Dumarchez, Y. Giraud-Heraud, J. Tran Thanh Van, pp. 71-74, 2009, The\\n  Gioi Publishers, Vietnam                         NaN       \n",
       "\"2010 Cosmology\", Ed.: Etienne Aug\\'e, Jacques Dumarchez, Jean\\n  Tr\\^an Thanh V\\^an, Th\\~e gi\\'oi, 2010, pp. 177-180                                                                                NaN       \n",
       "...                                                                                                                                                                                                   ..       \n",
       "Épijournal de Géométrie Algébrique, Volume 6 (January 28, 2022)\\n  epiga:9011                                                                                                                        NaN       \n",
       "Épijournal de Géométrie Algébrique, Volume 6 (March 1, 2022)\\n  epiga:9149                                                                                                                           NaN       \n",
       "Épijournal de Géométrie Algébrique, Volume 6 (March 1, 2022)\\n  epiga:9150                                                                                                                           NaN       \n",
       "Épijournal de Géométrie Algébrique, Volume 6 (March 7, 2022)\\n  epiga:9177                                                                                                                           NaN       \n",
       "Épijournal de Géométrie Algébrique, Volume 6 (March 9, 2022)\\n  epiga:9189                                                                                                                           NaN       \n",
       "\n",
       "category                                                                                                                                                                                              astro-ph  \\\n",
       "journal-ref                                                                                                                                                                                                      \n",
       "\" Coding and Cryptography,\" Proceedings of the First International\\n  Workshop, Wuyi Mountain, Fujian, China, 11 - 15 June 2007, edited by Yongqing\\n  Li et al., World Scientific, 2008, pp. 15--24 NaN         \n",
       "\" Trends in Materials Science Research\", B.M.Caruta Editor,Nova\\n  Science Publishers,New York,2006,pp.245-260                                                                                       NaN         \n",
       "\".Astronomy: Networked Astronomy and the New Media\", 2009, edited\\n  by R.J. Simpson, D. Ward-Thompson                                                                                               NaN         \n",
       "\"2008 Cosmology, Proceedings of the 43rd Rencontres de Moriond\",\\n  Eds. J. Dumarchez, Y. Giraud-Heraud, J. Tran Thanh Van, pp. 71-74, 2009, The\\n  Gioi Publishers, Vietnam                         NaN         \n",
       "\"2010 Cosmology\", Ed.: Etienne Aug\\'e, Jacques Dumarchez, Jean\\n  Tr\\^an Thanh V\\^an, Th\\~e gi\\'oi, 2010, pp. 177-180                                                                                NaN         \n",
       "...                                                                                                                                                                                                   ..         \n",
       "Épijournal de Géométrie Algébrique, Volume 6 (January 28, 2022)\\n  epiga:9011                                                                                                                        NaN         \n",
       "Épijournal de Géométrie Algébrique, Volume 6 (March 1, 2022)\\n  epiga:9149                                                                                                                           NaN         \n",
       "Épijournal de Géométrie Algébrique, Volume 6 (March 1, 2022)\\n  epiga:9150                                                                                                                           NaN         \n",
       "Épijournal de Géométrie Algébrique, Volume 6 (March 7, 2022)\\n  epiga:9177                                                                                                                           NaN         \n",
       "Épijournal de Géométrie Algébrique, Volume 6 (March 9, 2022)\\n  epiga:9189                                                                                                                           NaN         \n",
       "\n",
       "category                                                                                                                                                                                              astro-ph.CO  \\\n",
       "journal-ref                                                                                                                                                                                                         \n",
       "\" Coding and Cryptography,\" Proceedings of the First International\\n  Workshop, Wuyi Mountain, Fujian, China, 11 - 15 June 2007, edited by Yongqing\\n  Li et al., World Scientific, 2008, pp. 15--24 NaN            \n",
       "\" Trends in Materials Science Research\", B.M.Caruta Editor,Nova\\n  Science Publishers,New York,2006,pp.245-260                                                                                       NaN            \n",
       "\".Astronomy: Networked Astronomy and the New Media\", 2009, edited\\n  by R.J. Simpson, D. Ward-Thompson                                                                                               NaN            \n",
       "\"2008 Cosmology, Proceedings of the 43rd Rencontres de Moriond\",\\n  Eds. J. Dumarchez, Y. Giraud-Heraud, J. Tran Thanh Van, pp. 71-74, 2009, The\\n  Gioi Publishers, Vietnam                         1.00000        \n",
       "\"2010 Cosmology\", Ed.: Etienne Aug\\'e, Jacques Dumarchez, Jean\\n  Tr\\^an Thanh V\\^an, Th\\~e gi\\'oi, 2010, pp. 177-180                                                                                1.00000        \n",
       "...                                                                                                                                                                                                      ...        \n",
       "Épijournal de Géométrie Algébrique, Volume 6 (January 28, 2022)\\n  epiga:9011                                                                                                                        NaN            \n",
       "Épijournal de Géométrie Algébrique, Volume 6 (March 1, 2022)\\n  epiga:9149                                                                                                                           NaN            \n",
       "Épijournal de Géométrie Algébrique, Volume 6 (March 1, 2022)\\n  epiga:9150                                                                                                                           NaN            \n",
       "Épijournal de Géométrie Algébrique, Volume 6 (March 7, 2022)\\n  epiga:9177                                                                                                                           NaN            \n",
       "Épijournal de Géométrie Algébrique, Volume 6 (March 9, 2022)\\n  epiga:9189                                                                                                                           NaN            \n",
       "\n",
       "category                                                                                                                                                                                              astro-ph.EP  \\\n",
       "journal-ref                                                                                                                                                                                                         \n",
       "\" Coding and Cryptography,\" Proceedings of the First International\\n  Workshop, Wuyi Mountain, Fujian, China, 11 - 15 June 2007, edited by Yongqing\\n  Li et al., World Scientific, 2008, pp. 15--24 NaN            \n",
       "\" Trends in Materials Science Research\", B.M.Caruta Editor,Nova\\n  Science Publishers,New York,2006,pp.245-260                                                                                       NaN            \n",
       "\".Astronomy: Networked Astronomy and the New Media\", 2009, edited\\n  by R.J. Simpson, D. Ward-Thompson                                                                                               NaN            \n",
       "\"2008 Cosmology, Proceedings of the 43rd Rencontres de Moriond\",\\n  Eds. J. Dumarchez, Y. Giraud-Heraud, J. Tran Thanh Van, pp. 71-74, 2009, The\\n  Gioi Publishers, Vietnam                         NaN            \n",
       "\"2010 Cosmology\", Ed.: Etienne Aug\\'e, Jacques Dumarchez, Jean\\n  Tr\\^an Thanh V\\^an, Th\\~e gi\\'oi, 2010, pp. 177-180                                                                                NaN            \n",
       "...                                                                                                                                                                                                   ..            \n",
       "Épijournal de Géométrie Algébrique, Volume 6 (January 28, 2022)\\n  epiga:9011                                                                                                                        NaN            \n",
       "Épijournal de Géométrie Algébrique, Volume 6 (March 1, 2022)\\n  epiga:9149                                                                                                                           NaN            \n",
       "Épijournal de Géométrie Algébrique, Volume 6 (March 1, 2022)\\n  epiga:9150                                                                                                                           NaN            \n",
       "Épijournal de Géométrie Algébrique, Volume 6 (March 7, 2022)\\n  epiga:9177                                                                                                                           NaN            \n",
       "Épijournal de Géométrie Algébrique, Volume 6 (March 9, 2022)\\n  epiga:9189                                                                                                                           NaN            \n",
       "\n",
       "category                                                                                                                                                                                              astro-ph.GA  \\\n",
       "journal-ref                                                                                                                                                                                                         \n",
       "\" Coding and Cryptography,\" Proceedings of the First International\\n  Workshop, Wuyi Mountain, Fujian, China, 11 - 15 June 2007, edited by Yongqing\\n  Li et al., World Scientific, 2008, pp. 15--24 NaN            \n",
       "\" Trends in Materials Science Research\", B.M.Caruta Editor,Nova\\n  Science Publishers,New York,2006,pp.245-260                                                                                       NaN            \n",
       "\".Astronomy: Networked Astronomy and the New Media\", 2009, edited\\n  by R.J. Simpson, D. Ward-Thompson                                                                                               NaN            \n",
       "\"2008 Cosmology, Proceedings of the 43rd Rencontres de Moriond\",\\n  Eds. J. Dumarchez, Y. Giraud-Heraud, J. Tran Thanh Van, pp. 71-74, 2009, The\\n  Gioi Publishers, Vietnam                         NaN            \n",
       "\"2010 Cosmology\", Ed.: Etienne Aug\\'e, Jacques Dumarchez, Jean\\n  Tr\\^an Thanh V\\^an, Th\\~e gi\\'oi, 2010, pp. 177-180                                                                                NaN            \n",
       "...                                                                                                                                                                                                   ..            \n",
       "Épijournal de Géométrie Algébrique, Volume 6 (January 28, 2022)\\n  epiga:9011                                                                                                                        NaN            \n",
       "Épijournal de Géométrie Algébrique, Volume 6 (March 1, 2022)\\n  epiga:9149                                                                                                                           NaN            \n",
       "Épijournal de Géométrie Algébrique, Volume 6 (March 1, 2022)\\n  epiga:9150                                                                                                                           NaN            \n",
       "Épijournal de Géométrie Algébrique, Volume 6 (March 7, 2022)\\n  epiga:9177                                                                                                                           NaN            \n",
       "Épijournal de Géométrie Algébrique, Volume 6 (March 9, 2022)\\n  epiga:9189                                                                                                                           NaN            \n",
       "\n",
       "category                                                                                                                                                                                              astro-ph.HE  \\\n",
       "journal-ref                                                                                                                                                                                                         \n",
       "\" Coding and Cryptography,\" Proceedings of the First International\\n  Workshop, Wuyi Mountain, Fujian, China, 11 - 15 June 2007, edited by Yongqing\\n  Li et al., World Scientific, 2008, pp. 15--24 NaN            \n",
       "\" Trends in Materials Science Research\", B.M.Caruta Editor,Nova\\n  Science Publishers,New York,2006,pp.245-260                                                                                       NaN            \n",
       "\".Astronomy: Networked Astronomy and the New Media\", 2009, edited\\n  by R.J. Simpson, D. Ward-Thompson                                                                                               NaN            \n",
       "\"2008 Cosmology, Proceedings of the 43rd Rencontres de Moriond\",\\n  Eds. J. Dumarchez, Y. Giraud-Heraud, J. Tran Thanh Van, pp. 71-74, 2009, The\\n  Gioi Publishers, Vietnam                         NaN            \n",
       "\"2010 Cosmology\", Ed.: Etienne Aug\\'e, Jacques Dumarchez, Jean\\n  Tr\\^an Thanh V\\^an, Th\\~e gi\\'oi, 2010, pp. 177-180                                                                                NaN            \n",
       "...                                                                                                                                                                                                   ..            \n",
       "Épijournal de Géométrie Algébrique, Volume 6 (January 28, 2022)\\n  epiga:9011                                                                                                                        NaN            \n",
       "Épijournal de Géométrie Algébrique, Volume 6 (March 1, 2022)\\n  epiga:9149                                                                                                                           NaN            \n",
       "Épijournal de Géométrie Algébrique, Volume 6 (March 1, 2022)\\n  epiga:9150                                                                                                                           NaN            \n",
       "Épijournal de Géométrie Algébrique, Volume 6 (March 7, 2022)\\n  epiga:9177                                                                                                                           NaN            \n",
       "Épijournal de Géométrie Algébrique, Volume 6 (March 9, 2022)\\n  epiga:9189                                                                                                                           NaN            \n",
       "\n",
       "category                                                                                                                                                                                              astro-ph.IM  \\\n",
       "journal-ref                                                                                                                                                                                                         \n",
       "\" Coding and Cryptography,\" Proceedings of the First International\\n  Workshop, Wuyi Mountain, Fujian, China, 11 - 15 June 2007, edited by Yongqing\\n  Li et al., World Scientific, 2008, pp. 15--24 NaN            \n",
       "\" Trends in Materials Science Research\", B.M.Caruta Editor,Nova\\n  Science Publishers,New York,2006,pp.245-260                                                                                       NaN            \n",
       "\".Astronomy: Networked Astronomy and the New Media\", 2009, edited\\n  by R.J. Simpson, D. Ward-Thompson                                                                                               1.00000        \n",
       "\"2008 Cosmology, Proceedings of the 43rd Rencontres de Moriond\",\\n  Eds. J. Dumarchez, Y. Giraud-Heraud, J. Tran Thanh Van, pp. 71-74, 2009, The\\n  Gioi Publishers, Vietnam                         NaN            \n",
       "\"2010 Cosmology\", Ed.: Etienne Aug\\'e, Jacques Dumarchez, Jean\\n  Tr\\^an Thanh V\\^an, Th\\~e gi\\'oi, 2010, pp. 177-180                                                                                NaN            \n",
       "...                                                                                                                                                                                                   ..            \n",
       "Épijournal de Géométrie Algébrique, Volume 6 (January 28, 2022)\\n  epiga:9011                                                                                                                        NaN            \n",
       "Épijournal de Géométrie Algébrique, Volume 6 (March 1, 2022)\\n  epiga:9149                                                                                                                           NaN            \n",
       "Épijournal de Géométrie Algébrique, Volume 6 (March 1, 2022)\\n  epiga:9150                                                                                                                           NaN            \n",
       "Épijournal de Géométrie Algébrique, Volume 6 (March 7, 2022)\\n  epiga:9177                                                                                                                           NaN            \n",
       "Épijournal de Géométrie Algébrique, Volume 6 (March 9, 2022)\\n  epiga:9189                                                                                                                           NaN            \n",
       "\n",
       "category                                                                                                                                                                                              ...  \\\n",
       "journal-ref                                                                                                                                                                                           ...   \n",
       "\" Coding and Cryptography,\" Proceedings of the First International\\n  Workshop, Wuyi Mountain, Fujian, China, 11 - 15 June 2007, edited by Yongqing\\n  Li et al., World Scientific, 2008, pp. 15--24  ...   \n",
       "\" Trends in Materials Science Research\", B.M.Caruta Editor,Nova\\n  Science Publishers,New York,2006,pp.245-260                                                                                        ...   \n",
       "\".Astronomy: Networked Astronomy and the New Media\", 2009, edited\\n  by R.J. Simpson, D. Ward-Thompson                                                                                                ...   \n",
       "\"2008 Cosmology, Proceedings of the 43rd Rencontres de Moriond\",\\n  Eds. J. Dumarchez, Y. Giraud-Heraud, J. Tran Thanh Van, pp. 71-74, 2009, The\\n  Gioi Publishers, Vietnam                          ...   \n",
       "\"2010 Cosmology\", Ed.: Etienne Aug\\'e, Jacques Dumarchez, Jean\\n  Tr\\^an Thanh V\\^an, Th\\~e gi\\'oi, 2010, pp. 177-180                                                                                 ...   \n",
       "...                                                                                                                                                                                                   ...   \n",
       "Épijournal de Géométrie Algébrique, Volume 6 (January 28, 2022)\\n  epiga:9011                                                                                                                         ...   \n",
       "Épijournal de Géométrie Algébrique, Volume 6 (March 1, 2022)\\n  epiga:9149                                                                                                                            ...   \n",
       "Épijournal de Géométrie Algébrique, Volume 6 (March 1, 2022)\\n  epiga:9150                                                                                                                            ...   \n",
       "Épijournal de Géométrie Algébrique, Volume 6 (March 7, 2022)\\n  epiga:9177                                                                                                                            ...   \n",
       "Épijournal de Géométrie Algébrique, Volume 6 (March 9, 2022)\\n  epiga:9189                                                                                                                            ...   \n",
       "\n",
       "category                                                                                                                                                                                              q-fin.TR  \\\n",
       "journal-ref                                                                                                                                                                                                      \n",
       "\" Coding and Cryptography,\" Proceedings of the First International\\n  Workshop, Wuyi Mountain, Fujian, China, 11 - 15 June 2007, edited by Yongqing\\n  Li et al., World Scientific, 2008, pp. 15--24 NaN         \n",
       "\" Trends in Materials Science Research\", B.M.Caruta Editor,Nova\\n  Science Publishers,New York,2006,pp.245-260                                                                                       NaN         \n",
       "\".Astronomy: Networked Astronomy and the New Media\", 2009, edited\\n  by R.J. Simpson, D. Ward-Thompson                                                                                               NaN         \n",
       "\"2008 Cosmology, Proceedings of the 43rd Rencontres de Moriond\",\\n  Eds. J. Dumarchez, Y. Giraud-Heraud, J. Tran Thanh Van, pp. 71-74, 2009, The\\n  Gioi Publishers, Vietnam                         NaN         \n",
       "\"2010 Cosmology\", Ed.: Etienne Aug\\'e, Jacques Dumarchez, Jean\\n  Tr\\^an Thanh V\\^an, Th\\~e gi\\'oi, 2010, pp. 177-180                                                                                NaN         \n",
       "...                                                                                                                                                                                                   ..         \n",
       "Épijournal de Géométrie Algébrique, Volume 6 (January 28, 2022)\\n  epiga:9011                                                                                                                        NaN         \n",
       "Épijournal de Géométrie Algébrique, Volume 6 (March 1, 2022)\\n  epiga:9149                                                                                                                           NaN         \n",
       "Épijournal de Géométrie Algébrique, Volume 6 (March 1, 2022)\\n  epiga:9150                                                                                                                           NaN         \n",
       "Épijournal de Géométrie Algébrique, Volume 6 (March 7, 2022)\\n  epiga:9177                                                                                                                           NaN         \n",
       "Épijournal de Géométrie Algébrique, Volume 6 (March 9, 2022)\\n  epiga:9189                                                                                                                           NaN         \n",
       "\n",
       "category                                                                                                                                                                                              quant-ph  \\\n",
       "journal-ref                                                                                                                                                                                                      \n",
       "\" Coding and Cryptography,\" Proceedings of the First International\\n  Workshop, Wuyi Mountain, Fujian, China, 11 - 15 June 2007, edited by Yongqing\\n  Li et al., World Scientific, 2008, pp. 15--24 NaN         \n",
       "\" Trends in Materials Science Research\", B.M.Caruta Editor,Nova\\n  Science Publishers,New York,2006,pp.245-260                                                                                       NaN         \n",
       "\".Astronomy: Networked Astronomy and the New Media\", 2009, edited\\n  by R.J. Simpson, D. Ward-Thompson                                                                                               NaN         \n",
       "\"2008 Cosmology, Proceedings of the 43rd Rencontres de Moriond\",\\n  Eds. J. Dumarchez, Y. Giraud-Heraud, J. Tran Thanh Van, pp. 71-74, 2009, The\\n  Gioi Publishers, Vietnam                         NaN         \n",
       "\"2010 Cosmology\", Ed.: Etienne Aug\\'e, Jacques Dumarchez, Jean\\n  Tr\\^an Thanh V\\^an, Th\\~e gi\\'oi, 2010, pp. 177-180                                                                                NaN         \n",
       "...                                                                                                                                                                                                   ..         \n",
       "Épijournal de Géométrie Algébrique, Volume 6 (January 28, 2022)\\n  epiga:9011                                                                                                                        NaN         \n",
       "Épijournal de Géométrie Algébrique, Volume 6 (March 1, 2022)\\n  epiga:9149                                                                                                                           NaN         \n",
       "Épijournal de Géométrie Algébrique, Volume 6 (March 1, 2022)\\n  epiga:9150                                                                                                                           NaN         \n",
       "Épijournal de Géométrie Algébrique, Volume 6 (March 7, 2022)\\n  epiga:9177                                                                                                                           NaN         \n",
       "Épijournal de Géométrie Algébrique, Volume 6 (March 9, 2022)\\n  epiga:9189                                                                                                                           NaN         \n",
       "\n",
       "category                                                                                                                                                                                              solv-int  \\\n",
       "journal-ref                                                                                                                                                                                                      \n",
       "\" Coding and Cryptography,\" Proceedings of the First International\\n  Workshop, Wuyi Mountain, Fujian, China, 11 - 15 June 2007, edited by Yongqing\\n  Li et al., World Scientific, 2008, pp. 15--24 NaN         \n",
       "\" Trends in Materials Science Research\", B.M.Caruta Editor,Nova\\n  Science Publishers,New York,2006,pp.245-260                                                                                       NaN         \n",
       "\".Astronomy: Networked Astronomy and the New Media\", 2009, edited\\n  by R.J. Simpson, D. Ward-Thompson                                                                                               NaN         \n",
       "\"2008 Cosmology, Proceedings of the 43rd Rencontres de Moriond\",\\n  Eds. J. Dumarchez, Y. Giraud-Heraud, J. Tran Thanh Van, pp. 71-74, 2009, The\\n  Gioi Publishers, Vietnam                         NaN         \n",
       "\"2010 Cosmology\", Ed.: Etienne Aug\\'e, Jacques Dumarchez, Jean\\n  Tr\\^an Thanh V\\^an, Th\\~e gi\\'oi, 2010, pp. 177-180                                                                                NaN         \n",
       "...                                                                                                                                                                                                   ..         \n",
       "Épijournal de Géométrie Algébrique, Volume 6 (January 28, 2022)\\n  epiga:9011                                                                                                                        NaN         \n",
       "Épijournal de Géométrie Algébrique, Volume 6 (March 1, 2022)\\n  epiga:9149                                                                                                                           NaN         \n",
       "Épijournal de Géométrie Algébrique, Volume 6 (March 1, 2022)\\n  epiga:9150                                                                                                                           NaN         \n",
       "Épijournal de Géométrie Algébrique, Volume 6 (March 7, 2022)\\n  epiga:9177                                                                                                                           NaN         \n",
       "Épijournal de Géométrie Algébrique, Volume 6 (March 9, 2022)\\n  epiga:9189                                                                                                                           NaN         \n",
       "\n",
       "category                                                                                                                                                                                              stat.AP  \\\n",
       "journal-ref                                                                                                                                                                                                     \n",
       "\" Coding and Cryptography,\" Proceedings of the First International\\n  Workshop, Wuyi Mountain, Fujian, China, 11 - 15 June 2007, edited by Yongqing\\n  Li et al., World Scientific, 2008, pp. 15--24 NaN        \n",
       "\" Trends in Materials Science Research\", B.M.Caruta Editor,Nova\\n  Science Publishers,New York,2006,pp.245-260                                                                                       NaN        \n",
       "\".Astronomy: Networked Astronomy and the New Media\", 2009, edited\\n  by R.J. Simpson, D. Ward-Thompson                                                                                               NaN        \n",
       "\"2008 Cosmology, Proceedings of the 43rd Rencontres de Moriond\",\\n  Eds. J. Dumarchez, Y. Giraud-Heraud, J. Tran Thanh Van, pp. 71-74, 2009, The\\n  Gioi Publishers, Vietnam                         NaN        \n",
       "\"2010 Cosmology\", Ed.: Etienne Aug\\'e, Jacques Dumarchez, Jean\\n  Tr\\^an Thanh V\\^an, Th\\~e gi\\'oi, 2010, pp. 177-180                                                                                NaN        \n",
       "...                                                                                                                                                                                                   ..        \n",
       "Épijournal de Géométrie Algébrique, Volume 6 (January 28, 2022)\\n  epiga:9011                                                                                                                        NaN        \n",
       "Épijournal de Géométrie Algébrique, Volume 6 (March 1, 2022)\\n  epiga:9149                                                                                                                           NaN        \n",
       "Épijournal de Géométrie Algébrique, Volume 6 (March 1, 2022)\\n  epiga:9150                                                                                                                           NaN        \n",
       "Épijournal de Géométrie Algébrique, Volume 6 (March 7, 2022)\\n  epiga:9177                                                                                                                           NaN        \n",
       "Épijournal de Géométrie Algébrique, Volume 6 (March 9, 2022)\\n  epiga:9189                                                                                                                           NaN        \n",
       "\n",
       "category                                                                                                                                                                                              stat.CO  \\\n",
       "journal-ref                                                                                                                                                                                                     \n",
       "\" Coding and Cryptography,\" Proceedings of the First International\\n  Workshop, Wuyi Mountain, Fujian, China, 11 - 15 June 2007, edited by Yongqing\\n  Li et al., World Scientific, 2008, pp. 15--24 NaN        \n",
       "\" Trends in Materials Science Research\", B.M.Caruta Editor,Nova\\n  Science Publishers,New York,2006,pp.245-260                                                                                       NaN        \n",
       "\".Astronomy: Networked Astronomy and the New Media\", 2009, edited\\n  by R.J. Simpson, D. Ward-Thompson                                                                                               NaN        \n",
       "\"2008 Cosmology, Proceedings of the 43rd Rencontres de Moriond\",\\n  Eds. J. Dumarchez, Y. Giraud-Heraud, J. Tran Thanh Van, pp. 71-74, 2009, The\\n  Gioi Publishers, Vietnam                         NaN        \n",
       "\"2010 Cosmology\", Ed.: Etienne Aug\\'e, Jacques Dumarchez, Jean\\n  Tr\\^an Thanh V\\^an, Th\\~e gi\\'oi, 2010, pp. 177-180                                                                                NaN        \n",
       "...                                                                                                                                                                                                   ..        \n",
       "Épijournal de Géométrie Algébrique, Volume 6 (January 28, 2022)\\n  epiga:9011                                                                                                                        NaN        \n",
       "Épijournal de Géométrie Algébrique, Volume 6 (March 1, 2022)\\n  epiga:9149                                                                                                                           NaN        \n",
       "Épijournal de Géométrie Algébrique, Volume 6 (March 1, 2022)\\n  epiga:9150                                                                                                                           NaN        \n",
       "Épijournal de Géométrie Algébrique, Volume 6 (March 7, 2022)\\n  epiga:9177                                                                                                                           NaN        \n",
       "Épijournal de Géométrie Algébrique, Volume 6 (March 9, 2022)\\n  epiga:9189                                                                                                                           NaN        \n",
       "\n",
       "category                                                                                                                                                                                              stat.ME  \\\n",
       "journal-ref                                                                                                                                                                                                     \n",
       "\" Coding and Cryptography,\" Proceedings of the First International\\n  Workshop, Wuyi Mountain, Fujian, China, 11 - 15 June 2007, edited by Yongqing\\n  Li et al., World Scientific, 2008, pp. 15--24 NaN        \n",
       "\" Trends in Materials Science Research\", B.M.Caruta Editor,Nova\\n  Science Publishers,New York,2006,pp.245-260                                                                                       NaN        \n",
       "\".Astronomy: Networked Astronomy and the New Media\", 2009, edited\\n  by R.J. Simpson, D. Ward-Thompson                                                                                               NaN        \n",
       "\"2008 Cosmology, Proceedings of the 43rd Rencontres de Moriond\",\\n  Eds. J. Dumarchez, Y. Giraud-Heraud, J. Tran Thanh Van, pp. 71-74, 2009, The\\n  Gioi Publishers, Vietnam                         NaN        \n",
       "\"2010 Cosmology\", Ed.: Etienne Aug\\'e, Jacques Dumarchez, Jean\\n  Tr\\^an Thanh V\\^an, Th\\~e gi\\'oi, 2010, pp. 177-180                                                                                NaN        \n",
       "...                                                                                                                                                                                                   ..        \n",
       "Épijournal de Géométrie Algébrique, Volume 6 (January 28, 2022)\\n  epiga:9011                                                                                                                        NaN        \n",
       "Épijournal de Géométrie Algébrique, Volume 6 (March 1, 2022)\\n  epiga:9149                                                                                                                           NaN        \n",
       "Épijournal de Géométrie Algébrique, Volume 6 (March 1, 2022)\\n  epiga:9150                                                                                                                           NaN        \n",
       "Épijournal de Géométrie Algébrique, Volume 6 (March 7, 2022)\\n  epiga:9177                                                                                                                           NaN        \n",
       "Épijournal de Géométrie Algébrique, Volume 6 (March 9, 2022)\\n  epiga:9189                                                                                                                           NaN        \n",
       "\n",
       "category                                                                                                                                                                                              stat.ML  \\\n",
       "journal-ref                                                                                                                                                                                                     \n",
       "\" Coding and Cryptography,\" Proceedings of the First International\\n  Workshop, Wuyi Mountain, Fujian, China, 11 - 15 June 2007, edited by Yongqing\\n  Li et al., World Scientific, 2008, pp. 15--24 NaN        \n",
       "\" Trends in Materials Science Research\", B.M.Caruta Editor,Nova\\n  Science Publishers,New York,2006,pp.245-260                                                                                       NaN        \n",
       "\".Astronomy: Networked Astronomy and the New Media\", 2009, edited\\n  by R.J. Simpson, D. Ward-Thompson                                                                                               NaN        \n",
       "\"2008 Cosmology, Proceedings of the 43rd Rencontres de Moriond\",\\n  Eds. J. Dumarchez, Y. Giraud-Heraud, J. Tran Thanh Van, pp. 71-74, 2009, The\\n  Gioi Publishers, Vietnam                         NaN        \n",
       "\"2010 Cosmology\", Ed.: Etienne Aug\\'e, Jacques Dumarchez, Jean\\n  Tr\\^an Thanh V\\^an, Th\\~e gi\\'oi, 2010, pp. 177-180                                                                                NaN        \n",
       "...                                                                                                                                                                                                   ..        \n",
       "Épijournal de Géométrie Algébrique, Volume 6 (January 28, 2022)\\n  epiga:9011                                                                                                                        NaN        \n",
       "Épijournal de Géométrie Algébrique, Volume 6 (March 1, 2022)\\n  epiga:9149                                                                                                                           NaN        \n",
       "Épijournal de Géométrie Algébrique, Volume 6 (March 1, 2022)\\n  epiga:9150                                                                                                                           NaN        \n",
       "Épijournal de Géométrie Algébrique, Volume 6 (March 7, 2022)\\n  epiga:9177                                                                                                                           NaN        \n",
       "Épijournal de Géométrie Algébrique, Volume 6 (March 9, 2022)\\n  epiga:9189                                                                                                                           NaN        \n",
       "\n",
       "category                                                                                                                                                                                              stat.OT  \\\n",
       "journal-ref                                                                                                                                                                                                     \n",
       "\" Coding and Cryptography,\" Proceedings of the First International\\n  Workshop, Wuyi Mountain, Fujian, China, 11 - 15 June 2007, edited by Yongqing\\n  Li et al., World Scientific, 2008, pp. 15--24 NaN        \n",
       "\" Trends in Materials Science Research\", B.M.Caruta Editor,Nova\\n  Science Publishers,New York,2006,pp.245-260                                                                                       NaN        \n",
       "\".Astronomy: Networked Astronomy and the New Media\", 2009, edited\\n  by R.J. Simpson, D. Ward-Thompson                                                                                               NaN        \n",
       "\"2008 Cosmology, Proceedings of the 43rd Rencontres de Moriond\",\\n  Eds. J. Dumarchez, Y. Giraud-Heraud, J. Tran Thanh Van, pp. 71-74, 2009, The\\n  Gioi Publishers, Vietnam                         NaN        \n",
       "\"2010 Cosmology\", Ed.: Etienne Aug\\'e, Jacques Dumarchez, Jean\\n  Tr\\^an Thanh V\\^an, Th\\~e gi\\'oi, 2010, pp. 177-180                                                                                NaN        \n",
       "...                                                                                                                                                                                                   ..        \n",
       "Épijournal de Géométrie Algébrique, Volume 6 (January 28, 2022)\\n  epiga:9011                                                                                                                        NaN        \n",
       "Épijournal de Géométrie Algébrique, Volume 6 (March 1, 2022)\\n  epiga:9149                                                                                                                           NaN        \n",
       "Épijournal de Géométrie Algébrique, Volume 6 (March 1, 2022)\\n  epiga:9150                                                                                                                           NaN        \n",
       "Épijournal de Géométrie Algébrique, Volume 6 (March 7, 2022)\\n  epiga:9177                                                                                                                           NaN        \n",
       "Épijournal de Géométrie Algébrique, Volume 6 (March 9, 2022)\\n  epiga:9189                                                                                                                           NaN        \n",
       "\n",
       "category                                                                                                                                                                                              stat.TH  \\\n",
       "journal-ref                                                                                                                                                                                                     \n",
       "\" Coding and Cryptography,\" Proceedings of the First International\\n  Workshop, Wuyi Mountain, Fujian, China, 11 - 15 June 2007, edited by Yongqing\\n  Li et al., World Scientific, 2008, pp. 15--24 NaN        \n",
       "\" Trends in Materials Science Research\", B.M.Caruta Editor,Nova\\n  Science Publishers,New York,2006,pp.245-260                                                                                       NaN        \n",
       "\".Astronomy: Networked Astronomy and the New Media\", 2009, edited\\n  by R.J. Simpson, D. Ward-Thompson                                                                                               NaN        \n",
       "\"2008 Cosmology, Proceedings of the 43rd Rencontres de Moriond\",\\n  Eds. J. Dumarchez, Y. Giraud-Heraud, J. Tran Thanh Van, pp. 71-74, 2009, The\\n  Gioi Publishers, Vietnam                         NaN        \n",
       "\"2010 Cosmology\", Ed.: Etienne Aug\\'e, Jacques Dumarchez, Jean\\n  Tr\\^an Thanh V\\^an, Th\\~e gi\\'oi, 2010, pp. 177-180                                                                                NaN        \n",
       "...                                                                                                                                                                                                   ..        \n",
       "Épijournal de Géométrie Algébrique, Volume 6 (January 28, 2022)\\n  epiga:9011                                                                                                                        NaN        \n",
       "Épijournal de Géométrie Algébrique, Volume 6 (March 1, 2022)\\n  epiga:9149                                                                                                                           NaN        \n",
       "Épijournal de Géométrie Algébrique, Volume 6 (March 1, 2022)\\n  epiga:9150                                                                                                                           NaN        \n",
       "Épijournal de Géométrie Algébrique, Volume 6 (March 7, 2022)\\n  epiga:9177                                                                                                                           NaN        \n",
       "Épijournal de Géométrie Algébrique, Volume 6 (March 9, 2022)\\n  epiga:9189                                                                                                                           NaN        \n",
       "\n",
       "category                                                                                                                                                                                              supr-con  \n",
       "journal-ref                                                                                                                                                                                                     \n",
       "\" Coding and Cryptography,\" Proceedings of the First International\\n  Workshop, Wuyi Mountain, Fujian, China, 11 - 15 June 2007, edited by Yongqing\\n  Li et al., World Scientific, 2008, pp. 15--24 NaN        \n",
       "\" Trends in Materials Science Research\", B.M.Caruta Editor,Nova\\n  Science Publishers,New York,2006,pp.245-260                                                                                       NaN        \n",
       "\".Astronomy: Networked Astronomy and the New Media\", 2009, edited\\n  by R.J. Simpson, D. Ward-Thompson                                                                                               NaN        \n",
       "\"2008 Cosmology, Proceedings of the 43rd Rencontres de Moriond\",\\n  Eds. J. Dumarchez, Y. Giraud-Heraud, J. Tran Thanh Van, pp. 71-74, 2009, The\\n  Gioi Publishers, Vietnam                         NaN        \n",
       "\"2010 Cosmology\", Ed.: Etienne Aug\\'e, Jacques Dumarchez, Jean\\n  Tr\\^an Thanh V\\^an, Th\\~e gi\\'oi, 2010, pp. 177-180                                                                                NaN        \n",
       "...                                                                                                                                                                                                   ..        \n",
       "Épijournal de Géométrie Algébrique, Volume 6 (January 28, 2022)\\n  epiga:9011                                                                                                                        NaN        \n",
       "Épijournal de Géométrie Algébrique, Volume 6 (March 1, 2022)\\n  epiga:9149                                                                                                                           NaN        \n",
       "Épijournal de Géométrie Algébrique, Volume 6 (March 1, 2022)\\n  epiga:9150                                                                                                                           NaN        \n",
       "Épijournal de Géométrie Algébrique, Volume 6 (March 7, 2022)\\n  epiga:9177                                                                                                                           NaN        \n",
       "Épijournal de Géométrie Algébrique, Volume 6 (March 9, 2022)\\n  epiga:9189                                                                                                                           NaN        \n",
       "\n",
       "[646440 rows x 176 columns]"
      ]
     },
     "execution_count": 33,
     "metadata": {},
     "output_type": "execute_result"
    }
   ],
   "source": [
    "## pivot dataset and assign it as df_category_journal_pv\n",
    "## the purpose is to prepare data for pairwise correlation\n",
    "## this will help us analyse relations between papers cited by diffeent categories\n",
    "\n",
    "df_category_journal_pv = df_group.reset_index().pivot_table(index=['journal-ref'],columns=['category'],values='count')\n",
    "df_category_journal_pv"
   ]
  },
  {
   "cell_type": "markdown",
   "metadata": {},
   "source": [
    "### relationship with journal ref and categories"
   ]
  },
  {
   "cell_type": "code",
   "execution_count": 34,
   "metadata": {
    "scrolled": false
   },
   "outputs": [
    {
     "name": "stderr",
     "output_type": "stream",
     "text": [
      "C:\\ProgramData\\Anaconda3\\lib\\site-packages\\numpy\\lib\\function_base.py:2634: RuntimeWarning: Degrees of freedom <= 0 for slice\n",
      "  c = cov(x, y, rowvar, dtype=dtype)\n",
      "C:\\ProgramData\\Anaconda3\\lib\\site-packages\\numpy\\lib\\function_base.py:2493: RuntimeWarning: divide by zero encountered in true_divide\n",
      "  c *= np.true_divide(1, fact)\n"
     ]
    }
   ],
   "source": [
    "## Construct a journal / category matrix. \n",
    "# Note how NaN indicates missing data - category without tagged papers\n",
    "\n",
    "similarCategory = pd.DataFrame([])\n",
    "\n",
    "for c in df_cat.category.unique():\n",
    "    sim = pd.DataFrame(df_category_journal_pv.corrwith(df_category_journal_pv[c])\\\n",
    "             .dropna()).rename(columns={0:'correlation'}).reset_index()\n",
    "    sim.insert(1,\"category1\", c)\n",
    "    similarCategory = similarCategory.append(sim,ignore_index=True)\n"
   ]
  },
  {
   "cell_type": "code",
   "execution_count": 35,
   "metadata": {},
   "outputs": [
    {
     "data": {
      "text/html": [
       "<div>\n",
       "<style scoped>\n",
       "    .dataframe tbody tr th:only-of-type {\n",
       "        vertical-align: middle;\n",
       "    }\n",
       "\n",
       "    .dataframe tbody tr th {\n",
       "        vertical-align: top;\n",
       "    }\n",
       "\n",
       "    .dataframe thead th {\n",
       "        text-align: right;\n",
       "    }\n",
       "</style>\n",
       "<table border=\"1\" class=\"dataframe\">\n",
       "  <thead>\n",
       "    <tr style=\"text-align: right;\">\n",
       "      <th></th>\n",
       "      <th>correlation</th>\n",
       "    </tr>\n",
       "  </thead>\n",
       "  <tbody>\n",
       "    <tr>\n",
       "      <th>count</th>\n",
       "      <td>1588.00000</td>\n",
       "    </tr>\n",
       "    <tr>\n",
       "      <th>mean</th>\n",
       "      <td>0.52182</td>\n",
       "    </tr>\n",
       "    <tr>\n",
       "      <th>std</th>\n",
       "      <td>0.41164</td>\n",
       "    </tr>\n",
       "    <tr>\n",
       "      <th>min</th>\n",
       "      <td>-1.00000</td>\n",
       "    </tr>\n",
       "    <tr>\n",
       "      <th>25%</th>\n",
       "      <td>0.13412</td>\n",
       "    </tr>\n",
       "    <tr>\n",
       "      <th>50%</th>\n",
       "      <td>0.56657</td>\n",
       "    </tr>\n",
       "    <tr>\n",
       "      <th>75%</th>\n",
       "      <td>1.00000</td>\n",
       "    </tr>\n",
       "    <tr>\n",
       "      <th>max</th>\n",
       "      <td>1.00000</td>\n",
       "    </tr>\n",
       "  </tbody>\n",
       "</table>\n",
       "</div>"
      ],
      "text/plain": [
       "       correlation\n",
       "count 1588.00000  \n",
       "mean  0.52182     \n",
       "std   0.41164     \n",
       "min   -1.00000    \n",
       "25%   0.13412     \n",
       "50%   0.56657     \n",
       "75%   1.00000     \n",
       "max   1.00000     "
      ]
     },
     "execution_count": 35,
     "metadata": {},
     "output_type": "execute_result"
    }
   ],
   "source": [
    "similarCategory.describe()"
   ]
  },
  {
   "cell_type": "code",
   "execution_count": 36,
   "metadata": {},
   "outputs": [
    {
     "data": {
      "text/html": [
       "<div>\n",
       "<style scoped>\n",
       "    .dataframe tbody tr th:only-of-type {\n",
       "        vertical-align: middle;\n",
       "    }\n",
       "\n",
       "    .dataframe tbody tr th {\n",
       "        vertical-align: top;\n",
       "    }\n",
       "\n",
       "    .dataframe thead th {\n",
       "        text-align: right;\n",
       "    }\n",
       "</style>\n",
       "<table border=\"1\" class=\"dataframe\">\n",
       "  <thead>\n",
       "    <tr style=\"text-align: right;\">\n",
       "      <th></th>\n",
       "      <th>category</th>\n",
       "      <th>category1</th>\n",
       "      <th>correlation</th>\n",
       "      <th>abs_val</th>\n",
       "    </tr>\n",
       "  </thead>\n",
       "  <tbody>\n",
       "    <tr>\n",
       "      <th>1097</th>\n",
       "      <td>cs.SE</td>\n",
       "      <td>cs.PF</td>\n",
       "      <td>0.89469</td>\n",
       "      <td>0.89000</td>\n",
       "    </tr>\n",
       "    <tr>\n",
       "      <th>1142</th>\n",
       "      <td>cs.PF</td>\n",
       "      <td>cs.SE</td>\n",
       "      <td>0.89469</td>\n",
       "      <td>0.89000</td>\n",
       "    </tr>\n",
       "    <tr>\n",
       "      <th>457</th>\n",
       "      <td>cond-mat.stat-mech</td>\n",
       "      <td>physics.atom-ph</td>\n",
       "      <td>0.89400</td>\n",
       "      <td>0.89000</td>\n",
       "    </tr>\n",
       "    <tr>\n",
       "      <th>280</th>\n",
       "      <td>physics.atom-ph</td>\n",
       "      <td>cond-mat.stat-mech</td>\n",
       "      <td>0.89400</td>\n",
       "      <td>0.89000</td>\n",
       "    </tr>\n",
       "    <tr>\n",
       "      <th>331</th>\n",
       "      <td>quant-ph</td>\n",
       "      <td>nucl-ex</td>\n",
       "      <td>0.89329</td>\n",
       "      <td>0.89000</td>\n",
       "    </tr>\n",
       "    <tr>\n",
       "      <th>...</th>\n",
       "      <td>...</td>\n",
       "      <td>...</td>\n",
       "      <td>...</td>\n",
       "      <td>...</td>\n",
       "    </tr>\n",
       "    <tr>\n",
       "      <th>1114</th>\n",
       "      <td>cs.LG</td>\n",
       "      <td>cs.OH</td>\n",
       "      <td>-0.33333</td>\n",
       "      <td>0.33000</td>\n",
       "    </tr>\n",
       "    <tr>\n",
       "      <th>96</th>\n",
       "      <td>cond-mat.quant-gas</td>\n",
       "      <td>hep-ex</td>\n",
       "      <td>-0.38125</td>\n",
       "      <td>0.38000</td>\n",
       "    </tr>\n",
       "    <tr>\n",
       "      <th>1214</th>\n",
       "      <td>hep-ex</td>\n",
       "      <td>cond-mat.quant-gas</td>\n",
       "      <td>-0.38125</td>\n",
       "      <td>0.38000</td>\n",
       "    </tr>\n",
       "    <tr>\n",
       "      <th>680</th>\n",
       "      <td>cs.MM</td>\n",
       "      <td>cs.LO</td>\n",
       "      <td>-1.00000</td>\n",
       "      <td>1.00000</td>\n",
       "    </tr>\n",
       "    <tr>\n",
       "      <th>1155</th>\n",
       "      <td>cs.LO</td>\n",
       "      <td>cs.MM</td>\n",
       "      <td>-1.00000</td>\n",
       "      <td>1.00000</td>\n",
       "    </tr>\n",
       "  </tbody>\n",
       "</table>\n",
       "<p>1088 rows × 4 columns</p>\n",
       "</div>"
      ],
      "text/plain": [
       "                category           category1  correlation  abs_val\n",
       "1097  cs.SE               cs.PF              0.89469      0.89000 \n",
       "1142  cs.PF               cs.SE              0.89469      0.89000 \n",
       "457   cond-mat.stat-mech  physics.atom-ph    0.89400      0.89000 \n",
       "280   physics.atom-ph     cond-mat.stat-mech 0.89400      0.89000 \n",
       "331   quant-ph            nucl-ex            0.89329      0.89000 \n",
       "...        ...                ...                ...          ... \n",
       "1114  cs.LG               cs.OH              -0.33333     0.33000 \n",
       "96    cond-mat.quant-gas  hep-ex             -0.38125     0.38000 \n",
       "1214  hep-ex              cond-mat.quant-gas -0.38125     0.38000 \n",
       "680   cs.MM               cs.LO              -1.00000     1.00000 \n",
       "1155  cs.LO               cs.MM              -1.00000     1.00000 \n",
       "\n",
       "[1088 rows x 4 columns]"
      ]
     },
     "execution_count": 36,
     "metadata": {},
     "output_type": "execute_result"
    }
   ],
   "source": [
    "## Compute the pairwise correlation of all categories\n",
    "# After that, we'll drop any results that have no data\n",
    "# and construct a new DataFrame of categories and their correlation score (similarity) by each pair of category\n",
    "# Compute absolute value because we are interested in both positive and neative correlation\n",
    "\n",
    "similarCategory['abs_val'] = round(abs(similarCategory['correlation']),2)\n",
    "sims2 = similarCategory.copy()\n",
    "#similarCategory[similarCategory['abs_val']=1.00]\n",
    "sims2[(sims2['category']!=sims2['category1']) &(sims2['correlation'] <0.9) ].sort_values(by=\"correlation\", ascending=False)"
   ]
  },
  {
   "cell_type": "code",
   "execution_count": 37,
   "metadata": {},
   "outputs": [
    {
     "data": {
      "text/html": [
       "<div>\n",
       "<style scoped>\n",
       "    .dataframe tbody tr th:only-of-type {\n",
       "        vertical-align: middle;\n",
       "    }\n",
       "\n",
       "    .dataframe tbody tr th {\n",
       "        vertical-align: top;\n",
       "    }\n",
       "\n",
       "    .dataframe thead tr th {\n",
       "        text-align: left;\n",
       "    }\n",
       "\n",
       "    .dataframe thead tr:last-of-type th {\n",
       "        text-align: right;\n",
       "    }\n",
       "</style>\n",
       "<table border=\"1\" class=\"dataframe\">\n",
       "  <thead>\n",
       "    <tr>\n",
       "      <th></th>\n",
       "      <th colspan=\"2\" halign=\"left\">correlation</th>\n",
       "    </tr>\n",
       "    <tr>\n",
       "      <th></th>\n",
       "      <th>size</th>\n",
       "      <th>mean</th>\n",
       "    </tr>\n",
       "    <tr>\n",
       "      <th>category1</th>\n",
       "      <th></th>\n",
       "      <th></th>\n",
       "    </tr>\n",
       "  </thead>\n",
       "  <tbody>\n",
       "    <tr>\n",
       "      <th>astro-ph</th>\n",
       "      <td>4</td>\n",
       "      <td>0.80240</td>\n",
       "    </tr>\n",
       "    <tr>\n",
       "      <th>astro-ph.CO</th>\n",
       "      <td>19</td>\n",
       "      <td>0.51425</td>\n",
       "    </tr>\n",
       "    <tr>\n",
       "      <th>astro-ph.EP</th>\n",
       "      <td>9</td>\n",
       "      <td>0.38472</td>\n",
       "    </tr>\n",
       "    <tr>\n",
       "      <th>astro-ph.GA</th>\n",
       "      <td>10</td>\n",
       "      <td>0.33611</td>\n",
       "    </tr>\n",
       "    <tr>\n",
       "      <th>astro-ph.HE</th>\n",
       "      <td>20</td>\n",
       "      <td>0.35787</td>\n",
       "    </tr>\n",
       "    <tr>\n",
       "      <th>...</th>\n",
       "      <td>...</td>\n",
       "      <td>...</td>\n",
       "    </tr>\n",
       "    <tr>\n",
       "      <th>stat.AP</th>\n",
       "      <td>8</td>\n",
       "      <td>0.39470</td>\n",
       "    </tr>\n",
       "    <tr>\n",
       "      <th>stat.CO</th>\n",
       "      <td>4</td>\n",
       "      <td>0.56009</td>\n",
       "    </tr>\n",
       "    <tr>\n",
       "      <th>stat.ME</th>\n",
       "      <td>7</td>\n",
       "      <td>0.37703</td>\n",
       "    </tr>\n",
       "    <tr>\n",
       "      <th>stat.ML</th>\n",
       "      <td>32</td>\n",
       "      <td>0.23096</td>\n",
       "    </tr>\n",
       "    <tr>\n",
       "      <th>stat.TH</th>\n",
       "      <td>9</td>\n",
       "      <td>0.66964</td>\n",
       "    </tr>\n",
       "  </tbody>\n",
       "</table>\n",
       "<p>142 rows × 2 columns</p>\n",
       "</div>"
      ],
      "text/plain": [
       "            correlation        \n",
       "                   size    mean\n",
       "category1                      \n",
       "astro-ph     4          0.80240\n",
       "astro-ph.CO  19         0.51425\n",
       "astro-ph.EP  9          0.38472\n",
       "astro-ph.GA  10         0.33611\n",
       "astro-ph.HE  20         0.35787\n",
       "...         ..              ...\n",
       "stat.AP      8          0.39470\n",
       "stat.CO      4          0.56009\n",
       "stat.ME      7          0.37703\n",
       "stat.ML      32         0.23096\n",
       "stat.TH      9          0.66964\n",
       "\n",
       "[142 rows x 2 columns]"
      ]
     },
     "execution_count": 37,
     "metadata": {},
     "output_type": "execute_result"
    }
   ],
   "source": [
    "sims3 = sims2.groupby('category1').agg({'correlation': [np.size, np.mean]})\n",
    "sims3\n"
   ]
  },
  {
   "cell_type": "code",
   "execution_count": 38,
   "metadata": {},
   "outputs": [
    {
     "name": "stderr",
     "output_type": "stream",
     "text": [
      "C:\\Users\\NHaswell\\AppData\\Local\\Temp\\ipykernel_18320\\1617869089.py:3: UserWarning: Boolean Series key will be reindexed to match DataFrame index.\n",
      "  sims3[popularPapers]\n"
     ]
    },
    {
     "data": {
      "text/html": [
       "<div>\n",
       "<style scoped>\n",
       "    .dataframe tbody tr th:only-of-type {\n",
       "        vertical-align: middle;\n",
       "    }\n",
       "\n",
       "    .dataframe tbody tr th {\n",
       "        vertical-align: top;\n",
       "    }\n",
       "\n",
       "    .dataframe thead tr th {\n",
       "        text-align: left;\n",
       "    }\n",
       "\n",
       "    .dataframe thead tr:last-of-type th {\n",
       "        text-align: right;\n",
       "    }\n",
       "</style>\n",
       "<table border=\"1\" class=\"dataframe\">\n",
       "  <thead>\n",
       "    <tr>\n",
       "      <th></th>\n",
       "      <th colspan=\"2\" halign=\"left\">correlation</th>\n",
       "    </tr>\n",
       "    <tr>\n",
       "      <th></th>\n",
       "      <th>size</th>\n",
       "      <th>mean</th>\n",
       "    </tr>\n",
       "    <tr>\n",
       "      <th>category1</th>\n",
       "      <th></th>\n",
       "      <th></th>\n",
       "    </tr>\n",
       "  </thead>\n",
       "  <tbody>\n",
       "    <tr>\n",
       "      <th>physics.soc-ph</th>\n",
       "      <td>10</td>\n",
       "      <td>0.80692</td>\n",
       "    </tr>\n",
       "    <tr>\n",
       "      <th>cs.PF</th>\n",
       "      <td>17</td>\n",
       "      <td>0.77453</td>\n",
       "    </tr>\n",
       "    <tr>\n",
       "      <th>cond-mat.supr-con</th>\n",
       "      <td>17</td>\n",
       "      <td>0.77392</td>\n",
       "    </tr>\n",
       "    <tr>\n",
       "      <th>math.DG</th>\n",
       "      <td>19</td>\n",
       "      <td>0.77311</td>\n",
       "    </tr>\n",
       "    <tr>\n",
       "      <th>nucl-ex</th>\n",
       "      <td>17</td>\n",
       "      <td>0.76724</td>\n",
       "    </tr>\n",
       "    <tr>\n",
       "      <th>...</th>\n",
       "      <td>...</td>\n",
       "      <td>...</td>\n",
       "    </tr>\n",
       "    <tr>\n",
       "      <th>cs.AI</th>\n",
       "      <td>35</td>\n",
       "      <td>0.22458</td>\n",
       "    </tr>\n",
       "    <tr>\n",
       "      <th>cs.DC</th>\n",
       "      <td>10</td>\n",
       "      <td>0.21622</td>\n",
       "    </tr>\n",
       "    <tr>\n",
       "      <th>cs.IR</th>\n",
       "      <td>18</td>\n",
       "      <td>0.21292</td>\n",
       "    </tr>\n",
       "    <tr>\n",
       "      <th>eess.SP</th>\n",
       "      <td>18</td>\n",
       "      <td>0.19515</td>\n",
       "    </tr>\n",
       "    <tr>\n",
       "      <th>cs.RO</th>\n",
       "      <td>18</td>\n",
       "      <td>0.18384</td>\n",
       "    </tr>\n",
       "  </tbody>\n",
       "</table>\n",
       "<p>65 rows × 2 columns</p>\n",
       "</div>"
      ],
      "text/plain": [
       "                  correlation        \n",
       "                         size    mean\n",
       "category1                            \n",
       "physics.soc-ph     10         0.80692\n",
       "cs.PF              17         0.77453\n",
       "cond-mat.supr-con  17         0.77392\n",
       "math.DG            19         0.77311\n",
       "nucl-ex            17         0.76724\n",
       "...                ..             ...\n",
       "cs.AI              35         0.22458\n",
       "cs.DC              10         0.21622\n",
       "cs.IR              18         0.21292\n",
       "eess.SP            18         0.19515\n",
       "cs.RO              18         0.18384\n",
       "\n",
       "[65 rows x 2 columns]"
      ]
     },
     "execution_count": 38,
     "metadata": {},
     "output_type": "execute_result"
    }
   ],
   "source": [
    "popularPapers = sims3['correlation']['size'] >= 10\n",
    "sims3 = sims3[popularPapers].sort_values([('correlation', 'mean')], ascending=False)\n",
    "sims3[popularPapers]"
   ]
  },
  {
   "cell_type": "code",
   "execution_count": 39,
   "metadata": {},
   "outputs": [
    {
     "name": "stderr",
     "output_type": "stream",
     "text": [
      "C:\\Users\\NHaswell\\AppData\\Local\\Temp\\ipykernel_18320\\1829972436.py:1: UserWarning: Boolean Series key will be reindexed to match DataFrame index.\n",
      "  sims3[popularPapers].join(pd.DataFrame(sims2, columns=['correlation']))\n",
      "C:\\ProgramData\\Anaconda3\\lib\\site-packages\\pandas\\core\\frame.py:9130: FutureWarning: merging between different levels is deprecated and will be removed in a future version. (2 levels on the left,1 on the right)\n",
      "  return merge(\n"
     ]
    },
    {
     "data": {
      "text/html": [
       "<div>\n",
       "<style scoped>\n",
       "    .dataframe tbody tr th:only-of-type {\n",
       "        vertical-align: middle;\n",
       "    }\n",
       "\n",
       "    .dataframe tbody tr th {\n",
       "        vertical-align: top;\n",
       "    }\n",
       "\n",
       "    .dataframe thead th {\n",
       "        text-align: right;\n",
       "    }\n",
       "</style>\n",
       "<table border=\"1\" class=\"dataframe\">\n",
       "  <thead>\n",
       "    <tr style=\"text-align: right;\">\n",
       "      <th></th>\n",
       "      <th>(correlation, size)</th>\n",
       "      <th>(correlation, mean)</th>\n",
       "      <th>correlation</th>\n",
       "    </tr>\n",
       "    <tr>\n",
       "      <th>category1</th>\n",
       "      <th></th>\n",
       "      <th></th>\n",
       "      <th></th>\n",
       "    </tr>\n",
       "  </thead>\n",
       "  <tbody>\n",
       "    <tr>\n",
       "      <th>physics.soc-ph</th>\n",
       "      <td>10</td>\n",
       "      <td>0.80692</td>\n",
       "      <td>NaN</td>\n",
       "    </tr>\n",
       "    <tr>\n",
       "      <th>cs.PF</th>\n",
       "      <td>17</td>\n",
       "      <td>0.77453</td>\n",
       "      <td>NaN</td>\n",
       "    </tr>\n",
       "    <tr>\n",
       "      <th>cond-mat.supr-con</th>\n",
       "      <td>17</td>\n",
       "      <td>0.77392</td>\n",
       "      <td>NaN</td>\n",
       "    </tr>\n",
       "    <tr>\n",
       "      <th>math.DG</th>\n",
       "      <td>19</td>\n",
       "      <td>0.77311</td>\n",
       "      <td>NaN</td>\n",
       "    </tr>\n",
       "    <tr>\n",
       "      <th>nucl-ex</th>\n",
       "      <td>17</td>\n",
       "      <td>0.76724</td>\n",
       "      <td>NaN</td>\n",
       "    </tr>\n",
       "    <tr>\n",
       "      <th>...</th>\n",
       "      <td>...</td>\n",
       "      <td>...</td>\n",
       "      <td>...</td>\n",
       "    </tr>\n",
       "    <tr>\n",
       "      <th>cs.AI</th>\n",
       "      <td>35</td>\n",
       "      <td>0.22458</td>\n",
       "      <td>NaN</td>\n",
       "    </tr>\n",
       "    <tr>\n",
       "      <th>cs.DC</th>\n",
       "      <td>10</td>\n",
       "      <td>0.21622</td>\n",
       "      <td>NaN</td>\n",
       "    </tr>\n",
       "    <tr>\n",
       "      <th>cs.IR</th>\n",
       "      <td>18</td>\n",
       "      <td>0.21292</td>\n",
       "      <td>NaN</td>\n",
       "    </tr>\n",
       "    <tr>\n",
       "      <th>eess.SP</th>\n",
       "      <td>18</td>\n",
       "      <td>0.19515</td>\n",
       "      <td>NaN</td>\n",
       "    </tr>\n",
       "    <tr>\n",
       "      <th>cs.RO</th>\n",
       "      <td>18</td>\n",
       "      <td>0.18384</td>\n",
       "      <td>NaN</td>\n",
       "    </tr>\n",
       "  </tbody>\n",
       "</table>\n",
       "<p>65 rows × 3 columns</p>\n",
       "</div>"
      ],
      "text/plain": [
       "                   (correlation, size)  (correlation, mean)  correlation\n",
       "category1                                                               \n",
       "physics.soc-ph     10                  0.80692              NaN         \n",
       "cs.PF              17                  0.77453              NaN         \n",
       "cond-mat.supr-con  17                  0.77392              NaN         \n",
       "math.DG            19                  0.77311              NaN         \n",
       "nucl-ex            17                  0.76724              NaN         \n",
       "...                ..                      ...               ..         \n",
       "cs.AI              35                  0.22458              NaN         \n",
       "cs.DC              10                  0.21622              NaN         \n",
       "cs.IR              18                  0.21292              NaN         \n",
       "eess.SP            18                  0.19515              NaN         \n",
       "cs.RO              18                  0.18384              NaN         \n",
       "\n",
       "[65 rows x 3 columns]"
      ]
     },
     "execution_count": 39,
     "metadata": {},
     "output_type": "execute_result"
    }
   ],
   "source": [
    "sims3[popularPapers].join(pd.DataFrame(sims2, columns=['correlation']))"
   ]
  },
  {
   "cell_type": "code",
   "execution_count": 40,
   "metadata": {},
   "outputs": [
    {
     "data": {
      "text/html": [
       "<div>\n",
       "<style scoped>\n",
       "    .dataframe tbody tr th:only-of-type {\n",
       "        vertical-align: middle;\n",
       "    }\n",
       "\n",
       "    .dataframe tbody tr th {\n",
       "        vertical-align: top;\n",
       "    }\n",
       "\n",
       "    .dataframe thead th {\n",
       "        text-align: right;\n",
       "    }\n",
       "</style>\n",
       "<table border=\"1\" class=\"dataframe\">\n",
       "  <thead>\n",
       "    <tr style=\"text-align: right;\">\n",
       "      <th></th>\n",
       "      <th>category</th>\n",
       "      <th>category1</th>\n",
       "      <th>correlation</th>\n",
       "      <th>abs_val</th>\n",
       "    </tr>\n",
       "  </thead>\n",
       "  <tbody>\n",
       "    <tr>\n",
       "      <th>0</th>\n",
       "      <td>astro-ph</td>\n",
       "      <td>hep-ph</td>\n",
       "      <td>0.57727</td>\n",
       "      <td>0.58000</td>\n",
       "    </tr>\n",
       "    <tr>\n",
       "      <th>1</th>\n",
       "      <td>astro-ph.CO</td>\n",
       "      <td>hep-ph</td>\n",
       "      <td>0.39229</td>\n",
       "      <td>0.39000</td>\n",
       "    </tr>\n",
       "    <tr>\n",
       "      <th>2</th>\n",
       "      <td>astro-ph.GA</td>\n",
       "      <td>hep-ph</td>\n",
       "      <td>0.79931</td>\n",
       "      <td>0.80000</td>\n",
       "    </tr>\n",
       "    <tr>\n",
       "      <th>3</th>\n",
       "      <td>astro-ph.HE</td>\n",
       "      <td>hep-ph</td>\n",
       "      <td>0.24168</td>\n",
       "      <td>0.24000</td>\n",
       "    </tr>\n",
       "    <tr>\n",
       "      <th>4</th>\n",
       "      <td>astro-ph.SR</td>\n",
       "      <td>hep-ph</td>\n",
       "      <td>1.00000</td>\n",
       "      <td>1.00000</td>\n",
       "    </tr>\n",
       "    <tr>\n",
       "      <th>...</th>\n",
       "      <td>...</td>\n",
       "      <td>...</td>\n",
       "      <td>...</td>\n",
       "      <td>...</td>\n",
       "    </tr>\n",
       "    <tr>\n",
       "      <th>1583</th>\n",
       "      <td>physics.soc-ph</td>\n",
       "      <td>stat.TH</td>\n",
       "      <td>1.00000</td>\n",
       "      <td>1.00000</td>\n",
       "    </tr>\n",
       "    <tr>\n",
       "      <th>1584</th>\n",
       "      <td>stat.ML</td>\n",
       "      <td>stat.TH</td>\n",
       "      <td>0.14911</td>\n",
       "      <td>0.15000</td>\n",
       "    </tr>\n",
       "    <tr>\n",
       "      <th>1585</th>\n",
       "      <td>stat.TH</td>\n",
       "      <td>stat.TH</td>\n",
       "      <td>1.00000</td>\n",
       "      <td>1.00000</td>\n",
       "    </tr>\n",
       "    <tr>\n",
       "      <th>1586</th>\n",
       "      <td>cond-mat.dis-nn</td>\n",
       "      <td>q-bio</td>\n",
       "      <td>1.00000</td>\n",
       "      <td>1.00000</td>\n",
       "    </tr>\n",
       "    <tr>\n",
       "      <th>1587</th>\n",
       "      <td>q-bio</td>\n",
       "      <td>q-bio</td>\n",
       "      <td>1.00000</td>\n",
       "      <td>1.00000</td>\n",
       "    </tr>\n",
       "  </tbody>\n",
       "</table>\n",
       "<p>1588 rows × 4 columns</p>\n",
       "</div>"
      ],
      "text/plain": [
       "             category category1  correlation  abs_val\n",
       "0     astro-ph         hep-ph   0.57727      0.58000 \n",
       "1     astro-ph.CO      hep-ph   0.39229      0.39000 \n",
       "2     astro-ph.GA      hep-ph   0.79931      0.80000 \n",
       "3     astro-ph.HE      hep-ph   0.24168      0.24000 \n",
       "4     astro-ph.SR      hep-ph   1.00000      1.00000 \n",
       "...           ...         ...       ...          ... \n",
       "1583  physics.soc-ph   stat.TH  1.00000      1.00000 \n",
       "1584  stat.ML          stat.TH  0.14911      0.15000 \n",
       "1585  stat.TH          stat.TH  1.00000      1.00000 \n",
       "1586  cond-mat.dis-nn  q-bio    1.00000      1.00000 \n",
       "1587  q-bio            q-bio    1.00000      1.00000 \n",
       "\n",
       "[1588 rows x 4 columns]"
      ]
     },
     "execution_count": 40,
     "metadata": {},
     "output_type": "execute_result"
    }
   ],
   "source": [
    "sims2"
   ]
  },
  {
   "cell_type": "code",
   "execution_count": 41,
   "metadata": {},
   "outputs": [
    {
     "data": {
      "image/png": "[encoded data removed]",
      "text/plain": [
       "<Figure size 432x288 with 2 Axes>"
      ]
     },
     "metadata": {
      "needs_background": "light"
     },
     "output_type": "display_data"
    }
   ],
   "source": [
    "sim_hm = sims2.pivot('category', 'category1', 'correlation')\n",
    "import seaborn as sns\n",
    "sns.heatmap(sim_hm, cmap='YlGnBu',vmin=-1, vmax=1, xticklabels=True, yticklabels=True);\n",
    "plt.title(\"Result of pairwise correlation by journal categories\")\n",
    "\n",
    "plt.show()"
   ]
  },
  {
   "cell_type": "markdown",
   "metadata": {},
   "source": [
    "This appear to have a mix result of correlation. Positive value refer to positive correlation and negative value refers to negative correlation.\n",
    "To make it easier to read, we will sort the value of this data frame"
   ]
  },
  {
   "cell_type": "markdown",
   "metadata": {},
   "source": [
    "It appears that `Astro Physics` categories are highly correlated with\n",
    "- Perfect correlation between `astro_ph` and `physics.atm-clus`, `physics.plasm-ph`, `math.GR` tells us that journals that are cited in `astro_ph` also cited in the other 3 categories.  Atomic and Molecular ClustersPlasma Physics and Math Grroup Theory.\n",
    "- Positive correlation: `physics.optics`, `hep-ex`, `hep-lat`, `cond-mat.supr-con`\t(Correlation pearson score > 0.9)\n",
    "- Negative correlation: Math Differential Geometry and Math Number Theory are likely to not be cited along with `astro_ph` (Correlation pearson score <0), however Number Theory has stronger negative correlation (-0.777714) with `astro_ph` comparing to Differential Geometry (Pearson score -0.058222)\n"
   ]
  },
  {
   "cell_type": "code",
   "execution_count": 42,
   "metadata": {},
   "outputs": [
    {
     "name": "stdout",
     "output_type": "stream",
     "text": [
      "Enter a category (eg astro, hep, math, stat): stat\n",
      "Enter another category to compare (eg astro, hep, math, stat): math\n"
     ]
    },
    {
     "data": {
      "image/png": "[encoded data removed]",
      "text/plain": [
       "<Figure size 720x720 with 2 Axes>"
      ]
     },
     "metadata": {
      "needs_background": "light"
     },
     "output_type": "display_data"
    }
   ],
   "source": [
    "## Validation\n",
    "## The below code takes a user input \n",
    "## Convert input to lowercase\n",
    "## Return a pandas dataframe with correlation excluding self-loop\n",
    "## self-loop defined as identical pairwise e.g stat.TH and stat.TH\n",
    "fig, ax = plt.subplots(figsize=(10, 10))\n",
    "\n",
    "var_cat = str(input(\"Enter a category (eg astro, hep, math, stat): \")).lower()\n",
    "var_cat1 = str(input(\"Enter another category to compare (eg astro, hep, math, stat): \")).lower()\n",
    "sim_val = sims2[(sims2['category1'].str.contains(var_cat)) & (sims2['category'].str.contains(var_cat1))]\\\n",
    "            .sort_values(by=\"correlation\", ascending=False)\n",
    "sim_hm_val = sim_val.pivot('category', 'category1', 'correlation')\n",
    "\n",
    "sns.heatmap(sim_hm_val, cmap='YlGnBu',  xticklabels=True, yticklabels=True);\n",
    "plt.title(\"Result of pairwise correlation by journal categories\")\n",
    "plt.show()\n"
   ]
  },
  {
   "cell_type": "code",
   "execution_count": 43,
   "metadata": {},
   "outputs": [
    {
     "name": "stdout",
     "output_type": "stream",
     "text": [
      "Enter a category (eg astro, hep, math, stat): math\n"
     ]
    },
    {
     "data": {
      "image/png": "[encoded data removed]",
      "text/plain": [
       "<Figure size 720x720 with 2 Axes>"
      ]
     },
     "metadata": {
      "needs_background": "light"
     },
     "output_type": "display_data"
    }
   ],
   "source": [
    "## Validation\n",
    "## The below code takes a user input \n",
    "## Convert input to lowercase\n",
    "## Return a pandas dataframe with correlation excluding self-loop\n",
    "## self-loop defined as identical pairwise e.g stat.TH and stat.TH\n",
    "fig, ax = plt.subplots(figsize=(10, 10))\n",
    "\n",
    "var_cat = str(input(\"Enter a category (eg astro, hep, math, stat): \")).lower()\n",
    "sim_val = sims2[(sims2['category1'].str.contains(var_cat)) & (sims2['category1']!=sims2['category'])]\\\n",
    "            .sort_values(by=\"correlation\", ascending=False)\n",
    "sim_hm_val = sim_val.pivot('category', 'category1', 'correlation')\n",
    "\n",
    "sns.heatmap(sim_hm_val, cmap='YlGnBu',  xticklabels=True, yticklabels=True);\n",
    "plt.title(\"Result of pairwise correlation by journal categories\")\n",
    "plt.show()\n"
   ]
  },
  {
   "cell_type": "markdown",
   "metadata": {},
   "source": [
    "### Task C"
   ]
  },
  {
   "cell_type": "code",
   "execution_count": 44,
   "metadata": {},
   "outputs": [
    {
     "name": "stdout",
     "output_type": "stream",
     "text": [
      "frozenset({'full', 'once', 'latter', 'how', 'should', 'anyhow', 'hers', 'meanwhile', 'nevertheless', 'already', 'wherein', 'i', 'two', 'beyond', 'in', 'often', 'next', 'whatever', 'found', 'mill', 'bottom', 'amount', 'became', 'other', 'becoming', 'a', 'latterly', 'call', 'something', 'could', 'onto', 'without', 'sixty', 'yourselves', 'may', 'below', 'several', 'least', 'with', 'its', 'what', 'few', 'do', 'above', 'only', 'hundred', 'anywhere', 'this', 'none', 'ltd', 'three', 'thence', 'inc', 'have', 'except', 'her', 'to', 'moreover', 'nothing', 'are', 'never', 'hasnt', 'he', 'forty', 'besides', 'behind', 'where', 'un', 'bill', 'elsewhere', 'since', 'your', 'nor', 'nobody', 'herself', 'ten', 'etc', 'then', 'almost', 'show', 'neither', 'hereupon', 'hereby', 'me', 'mostly', 'beforehand', 'was', 'all', 'we', 'there', 'around', 'themselves', 'alone', 'off', 'done', 'myself', 'whence', 'one', 'that', 'for', 'de', 'many', 'upon', 'out', 'anyway', 'the', 'than', 'together', 'nowhere', 'be', 'or', 'via', 'because', 'move', 'fire', 'at', 'five', 'those', 'though', 'side', 'and', 'more', 'detail', 'now', 'therefore', 'on', 'otherwise', 'after', 'con', 'twenty', 're', 'much', 'you', 'third', 'less', 'seeming', 'thick', 'co', 'our', 'per', 'would', 'first', 'enough', 'namely', 'whom', 'get', 'sometimes', 'see', 'an', 'whither', 'becomes', 'yours', 'ie', 'no', 'either', 'ourselves', 'last', 'four', 'well', 'give', 'each', 'whole', 'am', 'whether', 'from', 'every', 'still', 'serious', 'herein', 'she', 'top', 'indeed', 'across', 'between', 'so', 'had', 'seem', 'him', 'anything', 'further', 'over', 'made', 'everything', 'up', 'thereby', 'too', 'ours', 'is', 'keep', 'everywhere', 'mine', 'same', 'under', 'thereupon', 'whereby', 'fifty', 'us', 'most', 'if', 'along', 'describe', 'hence', 'were', 'not', 'hereafter', 'find', 'empty', 'why', 'by', 'put', 'any', 'somehow', 'through', 'as', 'rather', 'whereafter', 'when', 'however', 'must', 'yet', 'during', 'amoungst', 'of', 'others', 'part', 'who', 'some', 'until', 'down', 'will', 'has', 'seemed', 'cry', 'within', 'whereas', 'whereupon', 'always', 'it', 'wherever', 'among', 'itself', 'six', 'fill', 'beside', 'front', 'seems', 'another', 'my', 'again', 'eg', 'himself', 'sometime', 'before', 'about', 'both', 'become', 'due', 'formerly', 'amongst', 'very', 'anyone', 'therein', 'afterwards', 'being', 'sincere', 'here', 'such', 'which', 'yourself', 'whenever', 'perhaps', 'even', 'noone', 'can', 'fifteen', 'towards', 'back', 'also', 'cannot', 'against', 'somewhere', 'go', 'please', 'cant', 'thereafter', 'toward', 'former', 'twelve', 'eleven', 'own', 'these', 'thus', 'else', 'throughout', 'take', 'might', 'they', 'thin', 'whose', 'whoever', 'system', 'into', 'been', 'but', 'their', 'someone', 'them', 'everyone', 'eight', 'thru', 'name', 'while', 'his', 'interest', 'ever', 'couldnt', 'although', 'nine'})\n"
     ]
    }
   ],
   "source": [
    "## Load NLTK library to process text data\n",
    "## tokenise each title: the process that split words to one row per one column\n",
    "\n",
    "from nltk.tokenize import word_tokenize\n",
    "\n",
    "## Load a list of English stop words\n",
    "## Stop words describe words that don't add meaning in the phases or sentences\n",
    "## In English grammar, general refer to article, pronouns, proposition etc...\n",
    "\n",
    "\n",
    "from sklearn.feature_extraction import text\n",
    "stop = text.ENGLISH_STOP_WORDS\n",
    "\n",
    "## display stop words\n",
    "print(text.ENGLISH_STOP_WORDS)\n"
   ]
  },
  {
   "cell_type": "code",
   "execution_count": 45,
   "metadata": {},
   "outputs": [],
   "source": [
    "def remove_stop_words(sentence):\n",
    "    word_list=sentence.split()\n",
    "    clean_sentence=' '.join([w for w in word_list if w.lower() not in stop])\n",
    "    return(clean_sentence)\n",
    "\n"
   ]
  },
  {
   "cell_type": "code",
   "execution_count": null,
   "metadata": {},
   "outputs": [],
   "source": []
  },
  {
   "cell_type": "markdown",
   "metadata": {},
   "source": [
    "#### Task: Tokenisation"
   ]
  },
  {
   "cell_type": "code",
   "execution_count": 46,
   "metadata": {},
   "outputs": [
    {
     "name": "stdout",
     "output_type": "stream",
     "text": [
      "Filtered out missing journal ref now there are total of 650,330 records.\n"
     ]
    }
   ],
   "source": [
    "df_cleaned = df[~df['journal-ref'].isna()]\n",
    "len_df_cleaned = len(df_cleaned)\n",
    "print(f'Filtered out missing journal ref now there are total of {len_df_cleaned:,} records.')"
   ]
  },
  {
   "cell_type": "code",
   "execution_count": 47,
   "metadata": {},
   "outputs": [],
   "source": [
    "df_copy = df.copy()\n",
    "df = df_cleaned.copy()"
   ]
  },
  {
   "cell_type": "code",
   "execution_count": 48,
   "metadata": {},
   "outputs": [
    {
     "data": {
      "text/plain": [
       "0          [Calculation, of, prompt, diphoton, production, cross, sections, at, Tevatron, and, LHC, energies]          \n",
       "6          [Polymer, Quantum, Mechanics, and, its, Continuum, Limit]                                                   \n",
       "7          [Numerical, solution, of, shock, and, ramp, compression, for, general, material, properties]                \n",
       "14         [Fermionic, superstring, loop, amplitudes, in, the, pure, spinor, formalism]                                \n",
       "15         [Lifetime, of, doubly, charmed, baryons]                                                                    \n",
       "                             ...                                                                                       \n",
       "2061355    [Topology, and, Phase, Transitions, in, the, Little-Parks, Experiment]                                      \n",
       "2061357    [Extended, bound, states, and, resonances, of, two, fermions, on, a, periodic, lattice]                     \n",
       "2061358    [Ginzburg-Landau-Gor'kov, Theory, of, Magnetic, oscillations, in, a, type-II, 2-dimensional, Superconductor]\n",
       "2061359    [Evidence, for, Quasiparticle, Decay, in, Photoemission, from, Underdoped, Cuprates]                        \n",
       "2061366    [Ginzburg, Landau, theory, for, d-wave, pairing, and, fourfold, symmetric, vortex, core, structure]         \n",
       "Name: tokens, Length: 650330, dtype: object"
      ]
     },
     "execution_count": 48,
     "metadata": {},
     "output_type": "execute_result"
    }
   ],
   "source": [
    "## create a new columns that store tokens, return a list of tokens\n",
    "df['tokens'] = df.apply(lambda row: nltk.word_tokenize(row['title']), axis=1)\n",
    "df['tokens']"
   ]
  },
  {
   "cell_type": "code",
   "execution_count": 49,
   "metadata": {},
   "outputs": [
    {
     "name": "stderr",
     "output_type": "stream",
     "text": [
      "C:\\Users\\NHaswell\\AppData\\Local\\Temp\\ipykernel_18320\\538418747.py:1: SettingWithCopyWarning: \n",
      "A value is trying to be set on a copy of a slice from a DataFrame.\n",
      "Try using .loc[row_indexer,col_indexer] = value instead\n",
      "\n",
      "See the caveats in the documentation: https://pandas.pydata.org/pandas-docs/stable/user_guide/indexing.html#returning-a-view-versus-a-copy\n",
      "  df_cat['main_cat'] = np.where(df_cat['category'].str.startswith('cs'), \"Computer Science\",\n"
     ]
    }
   ],
   "source": [
    "## create a new columns that store description of category taxonomy\n",
    "\n",
    "df_cat['main_cat'] = np.where(df_cat['category'].str.startswith('cs'), \"Computer Science\",\n",
    "                             np.where(df_cat['category'].str.startswith('eess'), \"Economics\",\n",
    "                             np.where(df_cat['category'].str.startswith('math'), \"Mathematics\",\n",
    "                             np.where(df_cat['category'].str.startswith('q-bio'), \"Quantitative Biology\",\n",
    "                             np.where(df_cat['category'].str.startswith('q-fin'), \"Quantitative Finance\",\n",
    "                             np.where(df_cat['category'].str.startswith('stat'), \"Statistics\", \"Physics\"\n",
    "                                     ))))))"
   ]
  },
  {
   "cell_type": "code",
   "execution_count": 50,
   "metadata": {},
   "outputs": [
    {
     "data": {
      "text/html": [
       "<div>\n",
       "<style scoped>\n",
       "    .dataframe tbody tr th:only-of-type {\n",
       "        vertical-align: middle;\n",
       "    }\n",
       "\n",
       "    .dataframe tbody tr th {\n",
       "        vertical-align: top;\n",
       "    }\n",
       "\n",
       "    .dataframe thead th {\n",
       "        text-align: right;\n",
       "    }\n",
       "</style>\n",
       "<table border=\"1\" class=\"dataframe\">\n",
       "  <thead>\n",
       "    <tr style=\"text-align: right;\">\n",
       "      <th></th>\n",
       "      <th>id</th>\n",
       "      <th>title</th>\n",
       "      <th>comments</th>\n",
       "      <th>journal-ref</th>\n",
       "      <th>categories</th>\n",
       "      <th>tokens</th>\n",
       "    </tr>\n",
       "  </thead>\n",
       "  <tbody>\n",
       "    <tr>\n",
       "      <th>0</th>\n",
       "      <td>0704.0001</td>\n",
       "      <td>Calculation of prompt diphoton production cross sections at Tevatron and\\n  LHC energies</td>\n",
       "      <td>37 pages, 15 figures; published version</td>\n",
       "      <td>Phys.Rev.D76:013009,2007</td>\n",
       "      <td>hep-ph</td>\n",
       "      <td>Calculation</td>\n",
       "    </tr>\n",
       "    <tr>\n",
       "      <th>0</th>\n",
       "      <td>0704.0001</td>\n",
       "      <td>Calculation of prompt diphoton production cross sections at Tevatron and\\n  LHC energies</td>\n",
       "      <td>37 pages, 15 figures; published version</td>\n",
       "      <td>Phys.Rev.D76:013009,2007</td>\n",
       "      <td>hep-ph</td>\n",
       "      <td>of</td>\n",
       "    </tr>\n",
       "    <tr>\n",
       "      <th>0</th>\n",
       "      <td>0704.0001</td>\n",
       "      <td>Calculation of prompt diphoton production cross sections at Tevatron and\\n  LHC energies</td>\n",
       "      <td>37 pages, 15 figures; published version</td>\n",
       "      <td>Phys.Rev.D76:013009,2007</td>\n",
       "      <td>hep-ph</td>\n",
       "      <td>prompt</td>\n",
       "    </tr>\n",
       "    <tr>\n",
       "      <th>0</th>\n",
       "      <td>0704.0001</td>\n",
       "      <td>Calculation of prompt diphoton production cross sections at Tevatron and\\n  LHC energies</td>\n",
       "      <td>37 pages, 15 figures; published version</td>\n",
       "      <td>Phys.Rev.D76:013009,2007</td>\n",
       "      <td>hep-ph</td>\n",
       "      <td>diphoton</td>\n",
       "    </tr>\n",
       "    <tr>\n",
       "      <th>0</th>\n",
       "      <td>0704.0001</td>\n",
       "      <td>Calculation of prompt diphoton production cross sections at Tevatron and\\n  LHC energies</td>\n",
       "      <td>37 pages, 15 figures; published version</td>\n",
       "      <td>Phys.Rev.D76:013009,2007</td>\n",
       "      <td>hep-ph</td>\n",
       "      <td>production</td>\n",
       "    </tr>\n",
       "    <tr>\n",
       "      <th>0</th>\n",
       "      <td>0704.0001</td>\n",
       "      <td>Calculation of prompt diphoton production cross sections at Tevatron and\\n  LHC energies</td>\n",
       "      <td>37 pages, 15 figures; published version</td>\n",
       "      <td>Phys.Rev.D76:013009,2007</td>\n",
       "      <td>hep-ph</td>\n",
       "      <td>cross</td>\n",
       "    </tr>\n",
       "    <tr>\n",
       "      <th>0</th>\n",
       "      <td>0704.0001</td>\n",
       "      <td>Calculation of prompt diphoton production cross sections at Tevatron and\\n  LHC energies</td>\n",
       "      <td>37 pages, 15 figures; published version</td>\n",
       "      <td>Phys.Rev.D76:013009,2007</td>\n",
       "      <td>hep-ph</td>\n",
       "      <td>sections</td>\n",
       "    </tr>\n",
       "    <tr>\n",
       "      <th>0</th>\n",
       "      <td>0704.0001</td>\n",
       "      <td>Calculation of prompt diphoton production cross sections at Tevatron and\\n  LHC energies</td>\n",
       "      <td>37 pages, 15 figures; published version</td>\n",
       "      <td>Phys.Rev.D76:013009,2007</td>\n",
       "      <td>hep-ph</td>\n",
       "      <td>at</td>\n",
       "    </tr>\n",
       "    <tr>\n",
       "      <th>0</th>\n",
       "      <td>0704.0001</td>\n",
       "      <td>Calculation of prompt diphoton production cross sections at Tevatron and\\n  LHC energies</td>\n",
       "      <td>37 pages, 15 figures; published version</td>\n",
       "      <td>Phys.Rev.D76:013009,2007</td>\n",
       "      <td>hep-ph</td>\n",
       "      <td>Tevatron</td>\n",
       "    </tr>\n",
       "    <tr>\n",
       "      <th>0</th>\n",
       "      <td>0704.0001</td>\n",
       "      <td>Calculation of prompt diphoton production cross sections at Tevatron and\\n  LHC energies</td>\n",
       "      <td>37 pages, 15 figures; published version</td>\n",
       "      <td>Phys.Rev.D76:013009,2007</td>\n",
       "      <td>hep-ph</td>\n",
       "      <td>and</td>\n",
       "    </tr>\n",
       "    <tr>\n",
       "      <th>0</th>\n",
       "      <td>0704.0001</td>\n",
       "      <td>Calculation of prompt diphoton production cross sections at Tevatron and\\n  LHC energies</td>\n",
       "      <td>37 pages, 15 figures; published version</td>\n",
       "      <td>Phys.Rev.D76:013009,2007</td>\n",
       "      <td>hep-ph</td>\n",
       "      <td>LHC</td>\n",
       "    </tr>\n",
       "    <tr>\n",
       "      <th>0</th>\n",
       "      <td>0704.0001</td>\n",
       "      <td>Calculation of prompt diphoton production cross sections at Tevatron and\\n  LHC energies</td>\n",
       "      <td>37 pages, 15 figures; published version</td>\n",
       "      <td>Phys.Rev.D76:013009,2007</td>\n",
       "      <td>hep-ph</td>\n",
       "      <td>energies</td>\n",
       "    </tr>\n",
       "  </tbody>\n",
       "</table>\n",
       "</div>"
      ],
      "text/plain": [
       "          id  \\\n",
       "0  0704.0001   \n",
       "0  0704.0001   \n",
       "0  0704.0001   \n",
       "0  0704.0001   \n",
       "0  0704.0001   \n",
       "0  0704.0001   \n",
       "0  0704.0001   \n",
       "0  0704.0001   \n",
       "0  0704.0001   \n",
       "0  0704.0001   \n",
       "0  0704.0001   \n",
       "0  0704.0001   \n",
       "\n",
       "                                                                                      title  \\\n",
       "0  Calculation of prompt diphoton production cross sections at Tevatron and\\n  LHC energies   \n",
       "0  Calculation of prompt diphoton production cross sections at Tevatron and\\n  LHC energies   \n",
       "0  Calculation of prompt diphoton production cross sections at Tevatron and\\n  LHC energies   \n",
       "0  Calculation of prompt diphoton production cross sections at Tevatron and\\n  LHC energies   \n",
       "0  Calculation of prompt diphoton production cross sections at Tevatron and\\n  LHC energies   \n",
       "0  Calculation of prompt diphoton production cross sections at Tevatron and\\n  LHC energies   \n",
       "0  Calculation of prompt diphoton production cross sections at Tevatron and\\n  LHC energies   \n",
       "0  Calculation of prompt diphoton production cross sections at Tevatron and\\n  LHC energies   \n",
       "0  Calculation of prompt diphoton production cross sections at Tevatron and\\n  LHC energies   \n",
       "0  Calculation of prompt diphoton production cross sections at Tevatron and\\n  LHC energies   \n",
       "0  Calculation of prompt diphoton production cross sections at Tevatron and\\n  LHC energies   \n",
       "0  Calculation of prompt diphoton production cross sections at Tevatron and\\n  LHC energies   \n",
       "\n",
       "                                  comments               journal-ref  \\\n",
       "0  37 pages, 15 figures; published version  Phys.Rev.D76:013009,2007   \n",
       "0  37 pages, 15 figures; published version  Phys.Rev.D76:013009,2007   \n",
       "0  37 pages, 15 figures; published version  Phys.Rev.D76:013009,2007   \n",
       "0  37 pages, 15 figures; published version  Phys.Rev.D76:013009,2007   \n",
       "0  37 pages, 15 figures; published version  Phys.Rev.D76:013009,2007   \n",
       "0  37 pages, 15 figures; published version  Phys.Rev.D76:013009,2007   \n",
       "0  37 pages, 15 figures; published version  Phys.Rev.D76:013009,2007   \n",
       "0  37 pages, 15 figures; published version  Phys.Rev.D76:013009,2007   \n",
       "0  37 pages, 15 figures; published version  Phys.Rev.D76:013009,2007   \n",
       "0  37 pages, 15 figures; published version  Phys.Rev.D76:013009,2007   \n",
       "0  37 pages, 15 figures; published version  Phys.Rev.D76:013009,2007   \n",
       "0  37 pages, 15 figures; published version  Phys.Rev.D76:013009,2007   \n",
       "\n",
       "  categories       tokens  \n",
       "0  hep-ph     Calculation  \n",
       "0  hep-ph     of           \n",
       "0  hep-ph     prompt       \n",
       "0  hep-ph     diphoton     \n",
       "0  hep-ph     production   \n",
       "0  hep-ph     cross        \n",
       "0  hep-ph     sections     \n",
       "0  hep-ph     at           \n",
       "0  hep-ph     Tevatron     \n",
       "0  hep-ph     and          \n",
       "0  hep-ph     LHC          \n",
       "0  hep-ph     energies     "
      ]
     },
     "execution_count": 50,
     "metadata": {},
     "output_type": "execute_result"
    }
   ],
   "source": [
    "# An example of records\n",
    "\n",
    "df_tokens = df.explode('tokens')\n",
    "df_tokens = df_tokens[~df_tokens['journal-ref'].isna()]\n",
    "df_tokens[df_tokens['id']==\"0704.0001\"]"
   ]
  },
  {
   "cell_type": "code",
   "execution_count": 51,
   "metadata": {},
   "outputs": [
    {
     "data": {
      "text/html": [
       "<div>\n",
       "<style scoped>\n",
       "    .dataframe tbody tr th:only-of-type {\n",
       "        vertical-align: middle;\n",
       "    }\n",
       "\n",
       "    .dataframe tbody tr th {\n",
       "        vertical-align: top;\n",
       "    }\n",
       "\n",
       "    .dataframe thead th {\n",
       "        text-align: right;\n",
       "    }\n",
       "</style>\n",
       "<table border=\"1\" class=\"dataframe\">\n",
       "  <thead>\n",
       "    <tr style=\"text-align: right;\">\n",
       "      <th></th>\n",
       "      <th>title</th>\n",
       "      <th>comments</th>\n",
       "      <th>journal-ref</th>\n",
       "      <th>categories</th>\n",
       "      <th>tokens</th>\n",
       "      <th>category</th>\n",
       "      <th>main_cat</th>\n",
       "    </tr>\n",
       "    <tr>\n",
       "      <th>id</th>\n",
       "      <th></th>\n",
       "      <th></th>\n",
       "      <th></th>\n",
       "      <th></th>\n",
       "      <th></th>\n",
       "      <th></th>\n",
       "      <th></th>\n",
       "    </tr>\n",
       "  </thead>\n",
       "  <tbody>\n",
       "    <tr>\n",
       "      <th>0704.0001</th>\n",
       "      <td>Calculation of prompt diphoton production cross sections at Tevatron and\\n  LHC energies</td>\n",
       "      <td>37 pages, 15 figures; published version</td>\n",
       "      <td>Phys.Rev.D76:013009,2007</td>\n",
       "      <td>hep-ph</td>\n",
       "      <td>Calculation</td>\n",
       "      <td>hep-ph</td>\n",
       "      <td>Physics</td>\n",
       "    </tr>\n",
       "    <tr>\n",
       "      <th>0704.0001</th>\n",
       "      <td>Calculation of prompt diphoton production cross sections at Tevatron and\\n  LHC energies</td>\n",
       "      <td>37 pages, 15 figures; published version</td>\n",
       "      <td>Phys.Rev.D76:013009,2007</td>\n",
       "      <td>hep-ph</td>\n",
       "      <td>Calculation</td>\n",
       "      <td>hep-ph</td>\n",
       "      <td>Physics</td>\n",
       "    </tr>\n",
       "    <tr>\n",
       "      <th>0704.0001</th>\n",
       "      <td>Calculation of prompt diphoton production cross sections at Tevatron and\\n  LHC energies</td>\n",
       "      <td>37 pages, 15 figures; published version</td>\n",
       "      <td>Phys.Rev.D76:013009,2007</td>\n",
       "      <td>hep-ph</td>\n",
       "      <td>of</td>\n",
       "      <td>hep-ph</td>\n",
       "      <td>Physics</td>\n",
       "    </tr>\n",
       "    <tr>\n",
       "      <th>0704.0001</th>\n",
       "      <td>Calculation of prompt diphoton production cross sections at Tevatron and\\n  LHC energies</td>\n",
       "      <td>37 pages, 15 figures; published version</td>\n",
       "      <td>Phys.Rev.D76:013009,2007</td>\n",
       "      <td>hep-ph</td>\n",
       "      <td>of</td>\n",
       "      <td>hep-ph</td>\n",
       "      <td>Physics</td>\n",
       "    </tr>\n",
       "    <tr>\n",
       "      <th>0704.0001</th>\n",
       "      <td>Calculation of prompt diphoton production cross sections at Tevatron and\\n  LHC energies</td>\n",
       "      <td>37 pages, 15 figures; published version</td>\n",
       "      <td>Phys.Rev.D76:013009,2007</td>\n",
       "      <td>hep-ph</td>\n",
       "      <td>prompt</td>\n",
       "      <td>hep-ph</td>\n",
       "      <td>Physics</td>\n",
       "    </tr>\n",
       "    <tr>\n",
       "      <th>0704.0001</th>\n",
       "      <td>Calculation of prompt diphoton production cross sections at Tevatron and\\n  LHC energies</td>\n",
       "      <td>37 pages, 15 figures; published version</td>\n",
       "      <td>Phys.Rev.D76:013009,2007</td>\n",
       "      <td>hep-ph</td>\n",
       "      <td>prompt</td>\n",
       "      <td>hep-ph</td>\n",
       "      <td>Physics</td>\n",
       "    </tr>\n",
       "    <tr>\n",
       "      <th>0704.0001</th>\n",
       "      <td>Calculation of prompt diphoton production cross sections at Tevatron and\\n  LHC energies</td>\n",
       "      <td>37 pages, 15 figures; published version</td>\n",
       "      <td>Phys.Rev.D76:013009,2007</td>\n",
       "      <td>hep-ph</td>\n",
       "      <td>diphoton</td>\n",
       "      <td>hep-ph</td>\n",
       "      <td>Physics</td>\n",
       "    </tr>\n",
       "    <tr>\n",
       "      <th>0704.0001</th>\n",
       "      <td>Calculation of prompt diphoton production cross sections at Tevatron and\\n  LHC energies</td>\n",
       "      <td>37 pages, 15 figures; published version</td>\n",
       "      <td>Phys.Rev.D76:013009,2007</td>\n",
       "      <td>hep-ph</td>\n",
       "      <td>diphoton</td>\n",
       "      <td>hep-ph</td>\n",
       "      <td>Physics</td>\n",
       "    </tr>\n",
       "    <tr>\n",
       "      <th>0704.0001</th>\n",
       "      <td>Calculation of prompt diphoton production cross sections at Tevatron and\\n  LHC energies</td>\n",
       "      <td>37 pages, 15 figures; published version</td>\n",
       "      <td>Phys.Rev.D76:013009,2007</td>\n",
       "      <td>hep-ph</td>\n",
       "      <td>production</td>\n",
       "      <td>hep-ph</td>\n",
       "      <td>Physics</td>\n",
       "    </tr>\n",
       "    <tr>\n",
       "      <th>0704.0001</th>\n",
       "      <td>Calculation of prompt diphoton production cross sections at Tevatron and\\n  LHC energies</td>\n",
       "      <td>37 pages, 15 figures; published version</td>\n",
       "      <td>Phys.Rev.D76:013009,2007</td>\n",
       "      <td>hep-ph</td>\n",
       "      <td>production</td>\n",
       "      <td>hep-ph</td>\n",
       "      <td>Physics</td>\n",
       "    </tr>\n",
       "  </tbody>\n",
       "</table>\n",
       "</div>"
      ],
      "text/plain": [
       "                                                                                              title  \\\n",
       "id                                                                                                    \n",
       "0704.0001  Calculation of prompt diphoton production cross sections at Tevatron and\\n  LHC energies   \n",
       "0704.0001  Calculation of prompt diphoton production cross sections at Tevatron and\\n  LHC energies   \n",
       "0704.0001  Calculation of prompt diphoton production cross sections at Tevatron and\\n  LHC energies   \n",
       "0704.0001  Calculation of prompt diphoton production cross sections at Tevatron and\\n  LHC energies   \n",
       "0704.0001  Calculation of prompt diphoton production cross sections at Tevatron and\\n  LHC energies   \n",
       "0704.0001  Calculation of prompt diphoton production cross sections at Tevatron and\\n  LHC energies   \n",
       "0704.0001  Calculation of prompt diphoton production cross sections at Tevatron and\\n  LHC energies   \n",
       "0704.0001  Calculation of prompt diphoton production cross sections at Tevatron and\\n  LHC energies   \n",
       "0704.0001  Calculation of prompt diphoton production cross sections at Tevatron and\\n  LHC energies   \n",
       "0704.0001  Calculation of prompt diphoton production cross sections at Tevatron and\\n  LHC energies   \n",
       "\n",
       "                                          comments               journal-ref  \\\n",
       "id                                                                             \n",
       "0704.0001  37 pages, 15 figures; published version  Phys.Rev.D76:013009,2007   \n",
       "0704.0001  37 pages, 15 figures; published version  Phys.Rev.D76:013009,2007   \n",
       "0704.0001  37 pages, 15 figures; published version  Phys.Rev.D76:013009,2007   \n",
       "0704.0001  37 pages, 15 figures; published version  Phys.Rev.D76:013009,2007   \n",
       "0704.0001  37 pages, 15 figures; published version  Phys.Rev.D76:013009,2007   \n",
       "0704.0001  37 pages, 15 figures; published version  Phys.Rev.D76:013009,2007   \n",
       "0704.0001  37 pages, 15 figures; published version  Phys.Rev.D76:013009,2007   \n",
       "0704.0001  37 pages, 15 figures; published version  Phys.Rev.D76:013009,2007   \n",
       "0704.0001  37 pages, 15 figures; published version  Phys.Rev.D76:013009,2007   \n",
       "0704.0001  37 pages, 15 figures; published version  Phys.Rev.D76:013009,2007   \n",
       "\n",
       "          categories       tokens category main_cat  \n",
       "id                                                   \n",
       "0704.0001  hep-ph     Calculation  hep-ph   Physics  \n",
       "0704.0001  hep-ph     Calculation  hep-ph   Physics  \n",
       "0704.0001  hep-ph     of           hep-ph   Physics  \n",
       "0704.0001  hep-ph     of           hep-ph   Physics  \n",
       "0704.0001  hep-ph     prompt       hep-ph   Physics  \n",
       "0704.0001  hep-ph     prompt       hep-ph   Physics  \n",
       "0704.0001  hep-ph     diphoton     hep-ph   Physics  \n",
       "0704.0001  hep-ph     diphoton     hep-ph   Physics  \n",
       "0704.0001  hep-ph     production   hep-ph   Physics  \n",
       "0704.0001  hep-ph     production   hep-ph   Physics  "
      ]
     },
     "execution_count": 51,
     "metadata": {},
     "output_type": "execute_result"
    }
   ],
   "source": [
    "df_tokens = pd.merge(df_tokens, df_cat, left_on='id',\n",
    "                  right_on='id',\n",
    "                  how='left').set_index('id')\n",
    "df_tokens.head(10)"
   ]
  },
  {
   "cell_type": "code",
   "execution_count": 52,
   "metadata": {},
   "outputs": [
    {
     "data": {
      "text/html": [
       "<div>\n",
       "<style scoped>\n",
       "    .dataframe tbody tr th:only-of-type {\n",
       "        vertical-align: middle;\n",
       "    }\n",
       "\n",
       "    .dataframe tbody tr th {\n",
       "        vertical-align: top;\n",
       "    }\n",
       "\n",
       "    .dataframe thead th {\n",
       "        text-align: right;\n",
       "    }\n",
       "</style>\n",
       "<table border=\"1\" class=\"dataframe\">\n",
       "  <thead>\n",
       "    <tr style=\"text-align: right;\">\n",
       "      <th></th>\n",
       "      <th>title</th>\n",
       "      <th>comments</th>\n",
       "      <th>journal-ref</th>\n",
       "      <th>categories</th>\n",
       "      <th>tokens</th>\n",
       "      <th>category</th>\n",
       "      <th>main_cat</th>\n",
       "    </tr>\n",
       "    <tr>\n",
       "      <th>id</th>\n",
       "      <th></th>\n",
       "      <th></th>\n",
       "      <th></th>\n",
       "      <th></th>\n",
       "      <th></th>\n",
       "      <th></th>\n",
       "      <th></th>\n",
       "    </tr>\n",
       "  </thead>\n",
       "  <tbody>\n",
       "    <tr>\n",
       "      <th>0704.0001</th>\n",
       "      <td>Calculation of prompt diphoton production cross sections at Tevatron and\\n  LHC energies</td>\n",
       "      <td>37 pages, 15 figures; published version</td>\n",
       "      <td>Phys.Rev.D76:013009,2007</td>\n",
       "      <td>hep-ph</td>\n",
       "      <td>calculation</td>\n",
       "      <td>hep-ph</td>\n",
       "      <td>Physics</td>\n",
       "    </tr>\n",
       "    <tr>\n",
       "      <th>0704.0001</th>\n",
       "      <td>Calculation of prompt diphoton production cross sections at Tevatron and\\n  LHC energies</td>\n",
       "      <td>37 pages, 15 figures; published version</td>\n",
       "      <td>Phys.Rev.D76:013009,2007</td>\n",
       "      <td>hep-ph</td>\n",
       "      <td>calculation</td>\n",
       "      <td>hep-ph</td>\n",
       "      <td>Physics</td>\n",
       "    </tr>\n",
       "    <tr>\n",
       "      <th>0704.0001</th>\n",
       "      <td>Calculation of prompt diphoton production cross sections at Tevatron and\\n  LHC energies</td>\n",
       "      <td>37 pages, 15 figures; published version</td>\n",
       "      <td>Phys.Rev.D76:013009,2007</td>\n",
       "      <td>hep-ph</td>\n",
       "      <td>of</td>\n",
       "      <td>hep-ph</td>\n",
       "      <td>Physics</td>\n",
       "    </tr>\n",
       "    <tr>\n",
       "      <th>0704.0001</th>\n",
       "      <td>Calculation of prompt diphoton production cross sections at Tevatron and\\n  LHC energies</td>\n",
       "      <td>37 pages, 15 figures; published version</td>\n",
       "      <td>Phys.Rev.D76:013009,2007</td>\n",
       "      <td>hep-ph</td>\n",
       "      <td>of</td>\n",
       "      <td>hep-ph</td>\n",
       "      <td>Physics</td>\n",
       "    </tr>\n",
       "    <tr>\n",
       "      <th>0704.0001</th>\n",
       "      <td>Calculation of prompt diphoton production cross sections at Tevatron and\\n  LHC energies</td>\n",
       "      <td>37 pages, 15 figures; published version</td>\n",
       "      <td>Phys.Rev.D76:013009,2007</td>\n",
       "      <td>hep-ph</td>\n",
       "      <td>prompt</td>\n",
       "      <td>hep-ph</td>\n",
       "      <td>Physics</td>\n",
       "    </tr>\n",
       "    <tr>\n",
       "      <th>...</th>\n",
       "      <td>...</td>\n",
       "      <td>...</td>\n",
       "      <td>...</td>\n",
       "      <td>...</td>\n",
       "      <td>...</td>\n",
       "      <td>...</td>\n",
       "      <td>...</td>\n",
       "    </tr>\n",
       "    <tr>\n",
       "      <th>supr-con/9609004</th>\n",
       "      <td>Ginzburg Landau theory for d-wave pairing and fourfold symmetric vortex\\n  core structure</td>\n",
       "      <td>12 pages including 8 eps figs, LaTeX with jpsj.sty &amp; epsfig</td>\n",
       "      <td>J. Phys. Soc. Jpn. 66, 204 (1997).</td>\n",
       "      <td>supr-con cond-mat.supr-con</td>\n",
       "      <td>vortex</td>\n",
       "      <td>cond-mat.supr-con</td>\n",
       "      <td>Physics</td>\n",
       "    </tr>\n",
       "    <tr>\n",
       "      <th>supr-con/9609004</th>\n",
       "      <td>Ginzburg Landau theory for d-wave pairing and fourfold symmetric vortex\\n  core structure</td>\n",
       "      <td>12 pages including 8 eps figs, LaTeX with jpsj.sty &amp; epsfig</td>\n",
       "      <td>J. Phys. Soc. Jpn. 66, 204 (1997).</td>\n",
       "      <td>supr-con cond-mat.supr-con</td>\n",
       "      <td>core</td>\n",
       "      <td>supr-con</td>\n",
       "      <td>Physics</td>\n",
       "    </tr>\n",
       "    <tr>\n",
       "      <th>supr-con/9609004</th>\n",
       "      <td>Ginzburg Landau theory for d-wave pairing and fourfold symmetric vortex\\n  core structure</td>\n",
       "      <td>12 pages including 8 eps figs, LaTeX with jpsj.sty &amp; epsfig</td>\n",
       "      <td>J. Phys. Soc. Jpn. 66, 204 (1997).</td>\n",
       "      <td>supr-con cond-mat.supr-con</td>\n",
       "      <td>core</td>\n",
       "      <td>cond-mat.supr-con</td>\n",
       "      <td>Physics</td>\n",
       "    </tr>\n",
       "    <tr>\n",
       "      <th>supr-con/9609004</th>\n",
       "      <td>Ginzburg Landau theory for d-wave pairing and fourfold symmetric vortex\\n  core structure</td>\n",
       "      <td>12 pages including 8 eps figs, LaTeX with jpsj.sty &amp; epsfig</td>\n",
       "      <td>J. Phys. Soc. Jpn. 66, 204 (1997).</td>\n",
       "      <td>supr-con cond-mat.supr-con</td>\n",
       "      <td>structure</td>\n",
       "      <td>supr-con</td>\n",
       "      <td>Physics</td>\n",
       "    </tr>\n",
       "    <tr>\n",
       "      <th>supr-con/9609004</th>\n",
       "      <td>Ginzburg Landau theory for d-wave pairing and fourfold symmetric vortex\\n  core structure</td>\n",
       "      <td>12 pages including 8 eps figs, LaTeX with jpsj.sty &amp; epsfig</td>\n",
       "      <td>J. Phys. Soc. Jpn. 66, 204 (1997).</td>\n",
       "      <td>supr-con cond-mat.supr-con</td>\n",
       "      <td>structure</td>\n",
       "      <td>cond-mat.supr-con</td>\n",
       "      <td>Physics</td>\n",
       "    </tr>\n",
       "  </tbody>\n",
       "</table>\n",
       "<p>14383437 rows × 7 columns</p>\n",
       "</div>"
      ],
      "text/plain": [
       "                                                                                                      title  \\\n",
       "id                                                                                                            \n",
       "0704.0001         Calculation of prompt diphoton production cross sections at Tevatron and\\n  LHC energies    \n",
       "0704.0001         Calculation of prompt diphoton production cross sections at Tevatron and\\n  LHC energies    \n",
       "0704.0001         Calculation of prompt diphoton production cross sections at Tevatron and\\n  LHC energies    \n",
       "0704.0001         Calculation of prompt diphoton production cross sections at Tevatron and\\n  LHC energies    \n",
       "0704.0001         Calculation of prompt diphoton production cross sections at Tevatron and\\n  LHC energies    \n",
       "...                                                                                                    ...    \n",
       "supr-con/9609004  Ginzburg Landau theory for d-wave pairing and fourfold symmetric vortex\\n  core structure   \n",
       "supr-con/9609004  Ginzburg Landau theory for d-wave pairing and fourfold symmetric vortex\\n  core structure   \n",
       "supr-con/9609004  Ginzburg Landau theory for d-wave pairing and fourfold symmetric vortex\\n  core structure   \n",
       "supr-con/9609004  Ginzburg Landau theory for d-wave pairing and fourfold symmetric vortex\\n  core structure   \n",
       "supr-con/9609004  Ginzburg Landau theory for d-wave pairing and fourfold symmetric vortex\\n  core structure   \n",
       "\n",
       "                                                                     comments  \\\n",
       "id                                                                              \n",
       "0704.0001         37 pages, 15 figures; published version                       \n",
       "0704.0001         37 pages, 15 figures; published version                       \n",
       "0704.0001         37 pages, 15 figures; published version                       \n",
       "0704.0001         37 pages, 15 figures; published version                       \n",
       "0704.0001         37 pages, 15 figures; published version                       \n",
       "...                                                   ...                       \n",
       "supr-con/9609004  12 pages including 8 eps figs, LaTeX with jpsj.sty & epsfig   \n",
       "supr-con/9609004  12 pages including 8 eps figs, LaTeX with jpsj.sty & epsfig   \n",
       "supr-con/9609004  12 pages including 8 eps figs, LaTeX with jpsj.sty & epsfig   \n",
       "supr-con/9609004  12 pages including 8 eps figs, LaTeX with jpsj.sty & epsfig   \n",
       "supr-con/9609004  12 pages including 8 eps figs, LaTeX with jpsj.sty & epsfig   \n",
       "\n",
       "                                         journal-ref  \\\n",
       "id                                                     \n",
       "0704.0001         Phys.Rev.D76:013009,2007             \n",
       "0704.0001         Phys.Rev.D76:013009,2007             \n",
       "0704.0001         Phys.Rev.D76:013009,2007             \n",
       "0704.0001         Phys.Rev.D76:013009,2007             \n",
       "0704.0001         Phys.Rev.D76:013009,2007             \n",
       "...                                    ...             \n",
       "supr-con/9609004  J. Phys. Soc. Jpn. 66, 204 (1997).   \n",
       "supr-con/9609004  J. Phys. Soc. Jpn. 66, 204 (1997).   \n",
       "supr-con/9609004  J. Phys. Soc. Jpn. 66, 204 (1997).   \n",
       "supr-con/9609004  J. Phys. Soc. Jpn. 66, 204 (1997).   \n",
       "supr-con/9609004  J. Phys. Soc. Jpn. 66, 204 (1997).   \n",
       "\n",
       "                                  categories       tokens           category  \\\n",
       "id                                                                             \n",
       "0704.0001         hep-ph                      calculation  hep-ph              \n",
       "0704.0001         hep-ph                      calculation  hep-ph              \n",
       "0704.0001         hep-ph                      of           hep-ph              \n",
       "0704.0001         hep-ph                      of           hep-ph              \n",
       "0704.0001         hep-ph                      prompt       hep-ph              \n",
       "...                  ...                      ..              ...              \n",
       "supr-con/9609004  supr-con cond-mat.supr-con  vortex       cond-mat.supr-con   \n",
       "supr-con/9609004  supr-con cond-mat.supr-con  core         supr-con            \n",
       "supr-con/9609004  supr-con cond-mat.supr-con  core         cond-mat.supr-con   \n",
       "supr-con/9609004  supr-con cond-mat.supr-con  structure    supr-con            \n",
       "supr-con/9609004  supr-con cond-mat.supr-con  structure    cond-mat.supr-con   \n",
       "\n",
       "                 main_cat  \n",
       "id                         \n",
       "0704.0001         Physics  \n",
       "0704.0001         Physics  \n",
       "0704.0001         Physics  \n",
       "0704.0001         Physics  \n",
       "0704.0001         Physics  \n",
       "...                   ...  \n",
       "supr-con/9609004  Physics  \n",
       "supr-con/9609004  Physics  \n",
       "supr-con/9609004  Physics  \n",
       "supr-con/9609004  Physics  \n",
       "supr-con/9609004  Physics  \n",
       "\n",
       "[14383437 rows x 7 columns]"
      ]
     },
     "execution_count": 52,
     "metadata": {},
     "output_type": "execute_result"
    }
   ],
   "source": [
    "import string\n",
    "#table = str.maketrans('', '', string.punctuation)\n",
    "\n",
    "# Make token lower case\n",
    "df_tokens['tokens'] = df_tokens['tokens'].str.lower()\n",
    "\n",
    "df_tokens = df_tokens[~df_tokens['tokens'].isin(list(string.punctuation))]\n",
    "\n",
    "# Remove punctionations\n",
    "#df_tokens['tokens'] = df_tokens['tokens'].str.translate(table)\n",
    "df_tokens\n",
    "\n"
   ]
  },
  {
   "cell_type": "code",
   "execution_count": 53,
   "metadata": {},
   "outputs": [
    {
     "name": "stdout",
     "output_type": "stream",
     "text": [
      "Removed 1,341,598 from the dataset for non alphabetic words\n"
     ]
    },
    {
     "name": "stderr",
     "output_type": "stream",
     "text": [
      "C:\\ProgramData\\Anaconda3\\lib\\site-packages\\pandas\\core\\frame.py:4906: SettingWithCopyWarning: \n",
      "A value is trying to be set on a copy of a slice from a DataFrame\n",
      "\n",
      "See the caveats in the documentation: https://pandas.pydata.org/pandas-docs/stable/user_guide/indexing.html#returning-a-view-versus-a-copy\n",
      "  return super().drop(\n"
     ]
    }
   ],
   "source": [
    "## Remove non alphabetic tokens\n",
    "\n",
    "df_tokens['dumy_bool']= df_tokens[\"tokens\"].str.isalpha()\n",
    "cnt_non_alpha = len(df_tokens[df_tokens['dumy_bool']!=True])\n",
    "df_tokens = df_tokens[df_tokens['dumy_bool']==True]\n",
    "print(f'Removed {cnt_non_alpha:,} from the dataset for non alphabetic words')\n",
    "\n",
    "#remove dummy columns\n",
    "df_tokens.drop('dumy_bool', axis=1, inplace=True)"
   ]
  },
  {
   "cell_type": "code",
   "execution_count": 54,
   "metadata": {},
   "outputs": [
    {
     "name": "stdout",
     "output_type": "stream",
     "text": [
      "Total number of tokens with special characters: 0\n"
     ]
    }
   ],
   "source": [
    "## check if special characters still exist\n",
    "len_punct = len(df_tokens[df_tokens['tokens'].isin(list(string.punctuation))])\n",
    "print(f'Total number of tokens with special characters: {len_punct}')"
   ]
  },
  {
   "cell_type": "code",
   "execution_count": 55,
   "metadata": {},
   "outputs": [
    {
     "data": {
      "text/html": [
       "<div>\n",
       "<style scoped>\n",
       "    .dataframe tbody tr th:only-of-type {\n",
       "        vertical-align: middle;\n",
       "    }\n",
       "\n",
       "    .dataframe tbody tr th {\n",
       "        vertical-align: top;\n",
       "    }\n",
       "\n",
       "    .dataframe thead th {\n",
       "        text-align: right;\n",
       "    }\n",
       "</style>\n",
       "<table border=\"1\" class=\"dataframe\">\n",
       "  <thead>\n",
       "    <tr style=\"text-align: right;\">\n",
       "      <th></th>\n",
       "      <th>title</th>\n",
       "      <th>comments</th>\n",
       "      <th>journal-ref</th>\n",
       "      <th>categories</th>\n",
       "      <th>tokens</th>\n",
       "      <th>category</th>\n",
       "      <th>main_cat</th>\n",
       "    </tr>\n",
       "    <tr>\n",
       "      <th>id</th>\n",
       "      <th></th>\n",
       "      <th></th>\n",
       "      <th></th>\n",
       "      <th></th>\n",
       "      <th></th>\n",
       "      <th></th>\n",
       "      <th></th>\n",
       "    </tr>\n",
       "  </thead>\n",
       "  <tbody>\n",
       "    <tr>\n",
       "      <th>0704.0001</th>\n",
       "      <td>Calculation of prompt diphoton production cross sections at Tevatron and\\n  LHC energies</td>\n",
       "      <td>37 pages, 15 figures; published version</td>\n",
       "      <td>Phys.Rev.D76:013009,2007</td>\n",
       "      <td>hep-ph</td>\n",
       "      <td>calculation</td>\n",
       "      <td>hep-ph</td>\n",
       "      <td>Physics</td>\n",
       "    </tr>\n",
       "    <tr>\n",
       "      <th>0704.0001</th>\n",
       "      <td>Calculation of prompt diphoton production cross sections at Tevatron and\\n  LHC energies</td>\n",
       "      <td>37 pages, 15 figures; published version</td>\n",
       "      <td>Phys.Rev.D76:013009,2007</td>\n",
       "      <td>hep-ph</td>\n",
       "      <td>calculation</td>\n",
       "      <td>hep-ph</td>\n",
       "      <td>Physics</td>\n",
       "    </tr>\n",
       "    <tr>\n",
       "      <th>0704.0001</th>\n",
       "      <td>Calculation of prompt diphoton production cross sections at Tevatron and\\n  LHC energies</td>\n",
       "      <td>37 pages, 15 figures; published version</td>\n",
       "      <td>Phys.Rev.D76:013009,2007</td>\n",
       "      <td>hep-ph</td>\n",
       "      <td>of</td>\n",
       "      <td>hep-ph</td>\n",
       "      <td>Physics</td>\n",
       "    </tr>\n",
       "    <tr>\n",
       "      <th>0704.0001</th>\n",
       "      <td>Calculation of prompt diphoton production cross sections at Tevatron and\\n  LHC energies</td>\n",
       "      <td>37 pages, 15 figures; published version</td>\n",
       "      <td>Phys.Rev.D76:013009,2007</td>\n",
       "      <td>hep-ph</td>\n",
       "      <td>of</td>\n",
       "      <td>hep-ph</td>\n",
       "      <td>Physics</td>\n",
       "    </tr>\n",
       "    <tr>\n",
       "      <th>0704.0001</th>\n",
       "      <td>Calculation of prompt diphoton production cross sections at Tevatron and\\n  LHC energies</td>\n",
       "      <td>37 pages, 15 figures; published version</td>\n",
       "      <td>Phys.Rev.D76:013009,2007</td>\n",
       "      <td>hep-ph</td>\n",
       "      <td>prompt</td>\n",
       "      <td>hep-ph</td>\n",
       "      <td>Physics</td>\n",
       "    </tr>\n",
       "    <tr>\n",
       "      <th>0704.0001</th>\n",
       "      <td>Calculation of prompt diphoton production cross sections at Tevatron and\\n  LHC energies</td>\n",
       "      <td>37 pages, 15 figures; published version</td>\n",
       "      <td>Phys.Rev.D76:013009,2007</td>\n",
       "      <td>hep-ph</td>\n",
       "      <td>prompt</td>\n",
       "      <td>hep-ph</td>\n",
       "      <td>Physics</td>\n",
       "    </tr>\n",
       "  </tbody>\n",
       "</table>\n",
       "</div>"
      ],
      "text/plain": [
       "                                                                                              title  \\\n",
       "id                                                                                                    \n",
       "0704.0001  Calculation of prompt diphoton production cross sections at Tevatron and\\n  LHC energies   \n",
       "0704.0001  Calculation of prompt diphoton production cross sections at Tevatron and\\n  LHC energies   \n",
       "0704.0001  Calculation of prompt diphoton production cross sections at Tevatron and\\n  LHC energies   \n",
       "0704.0001  Calculation of prompt diphoton production cross sections at Tevatron and\\n  LHC energies   \n",
       "0704.0001  Calculation of prompt diphoton production cross sections at Tevatron and\\n  LHC energies   \n",
       "0704.0001  Calculation of prompt diphoton production cross sections at Tevatron and\\n  LHC energies   \n",
       "\n",
       "                                          comments               journal-ref  \\\n",
       "id                                                                             \n",
       "0704.0001  37 pages, 15 figures; published version  Phys.Rev.D76:013009,2007   \n",
       "0704.0001  37 pages, 15 figures; published version  Phys.Rev.D76:013009,2007   \n",
       "0704.0001  37 pages, 15 figures; published version  Phys.Rev.D76:013009,2007   \n",
       "0704.0001  37 pages, 15 figures; published version  Phys.Rev.D76:013009,2007   \n",
       "0704.0001  37 pages, 15 figures; published version  Phys.Rev.D76:013009,2007   \n",
       "0704.0001  37 pages, 15 figures; published version  Phys.Rev.D76:013009,2007   \n",
       "\n",
       "          categories       tokens category main_cat  \n",
       "id                                                   \n",
       "0704.0001  hep-ph     calculation  hep-ph   Physics  \n",
       "0704.0001  hep-ph     calculation  hep-ph   Physics  \n",
       "0704.0001  hep-ph     of           hep-ph   Physics  \n",
       "0704.0001  hep-ph     of           hep-ph   Physics  \n",
       "0704.0001  hep-ph     prompt       hep-ph   Physics  \n",
       "0704.0001  hep-ph     prompt       hep-ph   Physics  "
      ]
     },
     "execution_count": 55,
     "metadata": {},
     "output_type": "execute_result"
    }
   ],
   "source": [
    "df_tokens.head(6)"
   ]
  },
  {
   "cell_type": "code",
   "execution_count": 56,
   "metadata": {},
   "outputs": [
    {
     "name": "stderr",
     "output_type": "stream",
     "text": [
      "C:\\Users\\NHaswell\\AppData\\Local\\Temp\\ipykernel_18320\\2616418069.py:6: SettingWithCopyWarning: \n",
      "A value is trying to be set on a copy of a slice from a DataFrame.\n",
      "Try using .loc[row_indexer,col_indexer] = value instead\n",
      "\n",
      "See the caveats in the documentation: https://pandas.pydata.org/pandas-docs/stable/user_guide/indexing.html#returning-a-view-versus-a-copy\n",
      "  df_tokens['journal-ref'] = df_tokens['journal-ref'].replace(r'\\n','', regex=True)\n",
      "C:\\Users\\NHaswell\\AppData\\Local\\Temp\\ipykernel_18320\\2616418069.py:7: FutureWarning: The default value of regex will change from True to False in a future version.\n",
      "  df_tokens['journal-ref'] = df_tokens['journal-ref'].str.replace(r\"\\(.*\\)\",\"\")\n",
      "C:\\Users\\NHaswell\\AppData\\Local\\Temp\\ipykernel_18320\\2616418069.py:7: SettingWithCopyWarning: \n",
      "A value is trying to be set on a copy of a slice from a DataFrame.\n",
      "Try using .loc[row_indexer,col_indexer] = value instead\n",
      "\n",
      "See the caveats in the documentation: https://pandas.pydata.org/pandas-docs/stable/user_guide/indexing.html#returning-a-view-versus-a-copy\n",
      "  df_tokens['journal-ref'] = df_tokens['journal-ref'].str.replace(r\"\\(.*\\)\",\"\")\n",
      "C:\\Users\\NHaswell\\AppData\\Local\\Temp\\ipykernel_18320\\2616418069.py:8: SettingWithCopyWarning: \n",
      "A value is trying to be set on a copy of a slice from a DataFrame.\n",
      "Try using .loc[row_indexer,col_indexer] = value instead\n",
      "\n",
      "See the caveats in the documentation: https://pandas.pydata.org/pandas-docs/stable/user_guide/indexing.html#returning-a-view-versus-a-copy\n",
      "  df_tokens['journal-ref'] = df_tokens['journal-ref'].str.strip()\n"
     ]
    }
   ],
   "source": [
    "## Cleaning journal reference \n",
    "## remove newline \\n from text\n",
    "## remove quote at the start of the text\n",
    "## remove leading / trailing whitespace\n",
    "\n",
    "df_tokens['journal-ref'] = df_tokens['journal-ref'].replace(r'\\n','', regex=True) \n",
    "df_tokens['journal-ref'] = df_tokens['journal-ref'].str.replace(r\"\\(.*\\)\",\"\")\n",
    "df_tokens['journal-ref'] = df_tokens['journal-ref'].str.strip()"
   ]
  },
  {
   "cell_type": "code",
   "execution_count": 57,
   "metadata": {},
   "outputs": [
    {
     "data": {
      "text/html": [
       "<div>\n",
       "<style scoped>\n",
       "    .dataframe tbody tr th:only-of-type {\n",
       "        vertical-align: middle;\n",
       "    }\n",
       "\n",
       "    .dataframe tbody tr th {\n",
       "        vertical-align: top;\n",
       "    }\n",
       "\n",
       "    .dataframe thead th {\n",
       "        text-align: right;\n",
       "    }\n",
       "</style>\n",
       "<table border=\"1\" class=\"dataframe\">\n",
       "  <thead>\n",
       "    <tr style=\"text-align: right;\">\n",
       "      <th></th>\n",
       "      <th>title</th>\n",
       "      <th>comments</th>\n",
       "      <th>journal-ref</th>\n",
       "      <th>categories</th>\n",
       "      <th>tokens</th>\n",
       "      <th>category</th>\n",
       "      <th>main_cat</th>\n",
       "    </tr>\n",
       "    <tr>\n",
       "      <th>id</th>\n",
       "      <th></th>\n",
       "      <th></th>\n",
       "      <th></th>\n",
       "      <th></th>\n",
       "      <th></th>\n",
       "      <th></th>\n",
       "      <th></th>\n",
       "    </tr>\n",
       "  </thead>\n",
       "  <tbody>\n",
       "  </tbody>\n",
       "</table>\n",
       "</div>"
      ],
      "text/plain": [
       "Empty DataFrame\n",
       "Columns: [title, comments, journal-ref, categories, tokens, category, main_cat]\n",
       "Index: []"
      ]
     },
     "execution_count": 57,
     "metadata": {},
     "output_type": "execute_result"
    }
   ],
   "source": [
    "df_tokens[df_tokens['journal-ref'].str.startswith(\"\\*\")]"
   ]
  },
  {
   "cell_type": "code",
   "execution_count": 58,
   "metadata": {},
   "outputs": [
    {
     "data": {
      "text/plain": [
       "id\n",
       "0704.0001           Phys.Rev.D76:013009,2007    \n",
       "0704.0001           Phys.Rev.D76:013009,2007    \n",
       "0704.0001           Phys.Rev.D76:013009,2007    \n",
       "0704.0001           Phys.Rev.D76:013009,2007    \n",
       "0704.0001           Phys.Rev.D76:013009,2007    \n",
       "                              ...               \n",
       "supr-con/9609004    J. Phys. Soc. Jpn. 66, 204 .\n",
       "supr-con/9609004    J. Phys. Soc. Jpn. 66, 204 .\n",
       "supr-con/9609004    J. Phys. Soc. Jpn. 66, 204 .\n",
       "supr-con/9609004    J. Phys. Soc. Jpn. 66, 204 .\n",
       "supr-con/9609004    J. Phys. Soc. Jpn. 66, 204 .\n",
       "Name: journal-ref, Length: 13041839, dtype: object"
      ]
     },
     "execution_count": 58,
     "metadata": {},
     "output_type": "execute_result"
    }
   ],
   "source": [
    "df_tokens['journal-ref'].str.strip()"
   ]
  },
  {
   "cell_type": "markdown",
   "metadata": {},
   "source": [
    "### Word frequencies"
   ]
  },
  {
   "cell_type": "code",
   "execution_count": 59,
   "metadata": {},
   "outputs": [
    {
     "name": "stderr",
     "output_type": "stream",
     "text": [
      "C:\\Users\\NHaswell\\AppData\\Local\\Temp\\ipykernel_18320\\1377296028.py:1: SettingWithCopyWarning: \n",
      "A value is trying to be set on a copy of a slice from a DataFrame.\n",
      "Try using .loc[row_indexer,col_indexer] = value instead\n",
      "\n",
      "See the caveats in the documentation: https://pandas.pydata.org/pandas-docs/stable/user_guide/indexing.html#returning-a-view-versus-a-copy\n",
      "  df_tokens['tokens'] = df_tokens['tokens'].str.lower()\n"
     ]
    }
   ],
   "source": [
    "df_tokens['tokens'] = df_tokens['tokens'].str.lower()\n",
    "df_tokens = df_tokens[~df_tokens['tokens'].isin(stop)]\n"
   ]
  },
  {
   "cell_type": "code",
   "execution_count": 60,
   "metadata": {},
   "outputs": [],
   "source": [
    "word_count = df_tokens.groupby(['journal-ref','tokens']).size().reset_index(name=\"Count\")\n",
    "word_count_top50 = df_tokens.groupby(['journal-ref','tokens']).size().nlargest(50).reset_index(name=\"Count\")\n"
   ]
  },
  {
   "cell_type": "code",
   "execution_count": 61,
   "metadata": {},
   "outputs": [
    {
     "data": {
      "text/html": [
       "<div>\n",
       "<style scoped>\n",
       "    .dataframe tbody tr th:only-of-type {\n",
       "        vertical-align: middle;\n",
       "    }\n",
       "\n",
       "    .dataframe tbody tr th {\n",
       "        vertical-align: top;\n",
       "    }\n",
       "\n",
       "    .dataframe thead th {\n",
       "        text-align: right;\n",
       "    }\n",
       "</style>\n",
       "<table border=\"1\" class=\"dataframe\">\n",
       "  <thead>\n",
       "    <tr style=\"text-align: right;\">\n",
       "      <th></th>\n",
       "      <th>tokens</th>\n",
       "      <th>Count</th>\n",
       "    </tr>\n",
       "  </thead>\n",
       "  <tbody>\n",
       "    <tr>\n",
       "      <th>0</th>\n",
       "      <td>quantum</td>\n",
       "      <td>124659</td>\n",
       "    </tr>\n",
       "    <tr>\n",
       "      <th>1</th>\n",
       "      <td>model</td>\n",
       "      <td>76811</td>\n",
       "    </tr>\n",
       "    <tr>\n",
       "      <th>2</th>\n",
       "      <td>theory</td>\n",
       "      <td>59197</td>\n",
       "    </tr>\n",
       "    <tr>\n",
       "      <th>3</th>\n",
       "      <td>field</td>\n",
       "      <td>44538</td>\n",
       "    </tr>\n",
       "    <tr>\n",
       "      <th>4</th>\n",
       "      <td>systems</td>\n",
       "      <td>39834</td>\n",
       "    </tr>\n",
       "    <tr>\n",
       "      <th>5</th>\n",
       "      <td>models</td>\n",
       "      <td>36849</td>\n",
       "    </tr>\n",
       "    <tr>\n",
       "      <th>6</th>\n",
       "      <td>magnetic</td>\n",
       "      <td>34852</td>\n",
       "    </tr>\n",
       "    <tr>\n",
       "      <th>7</th>\n",
       "      <td>spin</td>\n",
       "      <td>34756</td>\n",
       "    </tr>\n",
       "    <tr>\n",
       "      <th>8</th>\n",
       "      <td>phase</td>\n",
       "      <td>33870</td>\n",
       "    </tr>\n",
       "    <tr>\n",
       "      <th>9</th>\n",
       "      <td>energy</td>\n",
       "      <td>33708</td>\n",
       "    </tr>\n",
       "  </tbody>\n",
       "</table>\n",
       "</div>"
      ],
      "text/plain": [
       "     tokens   Count\n",
       "0  quantum   124659\n",
       "1  model     76811 \n",
       "2  theory    59197 \n",
       "3  field     44538 \n",
       "4  systems   39834 \n",
       "5  models    36849 \n",
       "6  magnetic  34852 \n",
       "7  spin      34756 \n",
       "8  phase     33870 \n",
       "9  energy    33708 "
      ]
     },
     "execution_count": 61,
     "metadata": {},
     "output_type": "execute_result"
    }
   ],
   "source": [
    "### Create a new dataframe for top 10 most frequently used words\n",
    "word_count_top10 = df_tokens.groupby(['tokens']).size().nlargest(10).reset_index(name=\"Count\")\n",
    "word_count_top10"
   ]
  },
  {
   "cell_type": "code",
   "execution_count": 62,
   "metadata": {
    "scrolled": false
   },
   "outputs": [
    {
     "data": {
      "image/png": "[encoded data removed]",
      "text/plain": [
       "<Figure size 432x288 with 1 Axes>"
      ]
     },
     "metadata": {
      "needs_background": "light"
     },
     "output_type": "display_data"
    },
    {
     "data": {
      "image/png": "[encoded data removed]",
      "text/plain": [
       "<Figure size 432x288 with 1 Axes>"
      ]
     },
     "metadata": {
      "needs_background": "light"
     },
     "output_type": "display_data"
    },
    {
     "data": {
      "image/png": "[encoded data removed]",
      "text/plain": [
       "<Figure size 432x288 with 1 Axes>"
      ]
     },
     "metadata": {
      "needs_background": "light"
     },
     "output_type": "display_data"
    },
    {
     "data": {
      "image/png": "[encoded data removed]",
      "text/plain": [
       "<Figure size 432x288 with 1 Axes>"
      ]
     },
     "metadata": {
      "needs_background": "light"
     },
     "output_type": "display_data"
    },
    {
     "data": {
      "image/png": "[encoded data removed]",
      "text/plain": [
       "<Figure size 432x288 with 1 Axes>"
      ]
     },
     "metadata": {
      "needs_background": "light"
     },
     "output_type": "display_data"
    },
    {
     "data": {
      "image/png": "[encoded data removed]",
      "text/plain": [
       "<Figure size 432x288 with 1 Axes>"
      ]
     },
     "metadata": {
      "needs_background": "light"
     },
     "output_type": "display_data"
    },
    {
     "data": {
      "image/png": "[encoded data removed]",
      "text/plain": [
       "<Figure size 432x288 with 1 Axes>"
      ]
     },
     "metadata": {
      "needs_background": "light"
     },
     "output_type": "display_data"
    }
   ],
   "source": [
    "## loop through main category\n",
    "## Then plot top 10 tokens by each category\n",
    "for cat in df_tokens.main_cat.unique():\n",
    "    #print(\"category: \", cat)\n",
    "    temp = df_tokens[df_tokens['main_cat']==cat]\\\n",
    "        .groupby(['main_cat','tokens']).size().nlargest(20).reset_index(name=\"Count\")\n",
    "    temp = temp.sort_values(by=\"Count\", ascending=False)\n",
    "    ax = temp.plot.barh(x='tokens', y='Count')\n",
    "    ax.set_title(\"Total 20 most frequent words in \" + str(cat))\n",
    "    ax.set_xlabel(\"Tokens\")\n",
    "    ax.set_ylabel(\"Word counts\")\n",
    "    "
   ]
  },
  {
   "cell_type": "code",
   "execution_count": 63,
   "metadata": {},
   "outputs": [
    {
     "data": {
      "text/html": [
       "<div>\n",
       "<style scoped>\n",
       "    .dataframe tbody tr th:only-of-type {\n",
       "        vertical-align: middle;\n",
       "    }\n",
       "\n",
       "    .dataframe tbody tr th {\n",
       "        vertical-align: top;\n",
       "    }\n",
       "\n",
       "    .dataframe thead th {\n",
       "        text-align: right;\n",
       "    }\n",
       "</style>\n",
       "<table border=\"1\" class=\"dataframe\">\n",
       "  <thead>\n",
       "    <tr style=\"text-align: right;\">\n",
       "      <th></th>\n",
       "      <th>title</th>\n",
       "      <th>comments</th>\n",
       "      <th>journal-ref</th>\n",
       "      <th>categories</th>\n",
       "      <th>tokens</th>\n",
       "      <th>category</th>\n",
       "      <th>main_cat</th>\n",
       "    </tr>\n",
       "    <tr>\n",
       "      <th>id</th>\n",
       "      <th></th>\n",
       "      <th></th>\n",
       "      <th></th>\n",
       "      <th></th>\n",
       "      <th></th>\n",
       "      <th></th>\n",
       "      <th></th>\n",
       "    </tr>\n",
       "  </thead>\n",
       "  <tbody>\n",
       "    <tr>\n",
       "      <th>0704.0001</th>\n",
       "      <td>Calculation of prompt diphoton production cross sections at Tevatron and\\n  LHC energies</td>\n",
       "      <td>37 pages, 15 figures; published version</td>\n",
       "      <td>Phys.Rev.D76:013009,2007</td>\n",
       "      <td>hep-ph</td>\n",
       "      <td>calculation</td>\n",
       "      <td>hep-ph</td>\n",
       "      <td>Physics</td>\n",
       "    </tr>\n",
       "  </tbody>\n",
       "</table>\n",
       "</div>"
      ],
      "text/plain": [
       "                                                                                              title  \\\n",
       "id                                                                                                    \n",
       "0704.0001  Calculation of prompt diphoton production cross sections at Tevatron and\\n  LHC energies   \n",
       "\n",
       "                                          comments               journal-ref  \\\n",
       "id                                                                             \n",
       "0704.0001  37 pages, 15 figures; published version  Phys.Rev.D76:013009,2007   \n",
       "\n",
       "          categories       tokens category main_cat  \n",
       "id                                                   \n",
       "0704.0001  hep-ph     calculation  hep-ph   Physics  "
      ]
     },
     "execution_count": 63,
     "metadata": {},
     "output_type": "execute_result"
    }
   ],
   "source": [
    "df_tokens.head(1)\n",
    "#nlargest(50)"
   ]
  },
  {
   "cell_type": "code",
   "execution_count": 64,
   "metadata": {},
   "outputs": [
    {
     "name": "stdout",
     "output_type": "stream",
     "text": [
      "  tokens          main_cat  Count\n",
      "0  aa     Computer Science  2    \n",
      "1  aa     Physics           177  \n",
      "2  aaa    Physics           2    \n",
      "3  aab    Computer Science  2    \n",
      "4  aab    Physics           2    \n",
      "               main_cat    Count\n",
      "0  Computer Science      449593 \n",
      "1  Economics             29228  \n",
      "2  Mathematics           1190748\n",
      "3  Physics               7222159\n",
      "4  Quantitative Biology  81050  \n"
     ]
    }
   ],
   "source": [
    "## Create two new dataframes\n",
    "## word_count_by_cat_tokens group \"token\" and \"main category\", then count total of rows by each combination\n",
    "## word_count_by gr\n",
    "word_count_by_cat_tokens = df_tokens.groupby(['tokens','main_cat']).size().reset_index(name=\"Count\")\n",
    "word_count_by_cat = df_tokens.groupby(['main_cat']).size().reset_index(name=\"Count\")\n",
    "\n",
    "print(word_count_by_cat_tokens.head(5))\n",
    "print(word_count_by_cat.head(5))"
   ]
  },
  {
   "cell_type": "code",
   "execution_count": 65,
   "metadata": {},
   "outputs": [],
   "source": [
    "df_combined = pd.merge(word_count_by_cat_tokens,word_count_by_cat, left_on='main_cat',\n",
    "                  right_on='main_cat',\n",
    "                  how='left').rename(columns={\"Count_x\": \"count_words\", \"Count_y\": \"words_in_doc\"})\n",
    "df_combined['prop'] = df_combined['count_words'] / df_combined['words_in_doc']\n",
    "\n"
   ]
  },
  {
   "cell_type": "code",
   "execution_count": 66,
   "metadata": {},
   "outputs": [
    {
     "data": {
      "text/html": [
       "<div>\n",
       "<style scoped>\n",
       "    .dataframe tbody tr th:only-of-type {\n",
       "        vertical-align: middle;\n",
       "    }\n",
       "\n",
       "    .dataframe tbody tr th {\n",
       "        vertical-align: top;\n",
       "    }\n",
       "\n",
       "    .dataframe thead th {\n",
       "        text-align: right;\n",
       "    }\n",
       "</style>\n",
       "<table border=\"1\" class=\"dataframe\">\n",
       "  <thead>\n",
       "    <tr style=\"text-align: right;\">\n",
       "      <th></th>\n",
       "      <th>tokens</th>\n",
       "      <th>main_cat</th>\n",
       "      <th>count_words</th>\n",
       "      <th>words_in_doc</th>\n",
       "      <th>prop</th>\n",
       "    </tr>\n",
       "  </thead>\n",
       "  <tbody>\n",
       "    <tr>\n",
       "      <th>0</th>\n",
       "      <td>aa</td>\n",
       "      <td>Computer Science</td>\n",
       "      <td>2</td>\n",
       "      <td>449593</td>\n",
       "      <td>0.00000</td>\n",
       "    </tr>\n",
       "    <tr>\n",
       "      <th>1</th>\n",
       "      <td>aa</td>\n",
       "      <td>Physics</td>\n",
       "      <td>177</td>\n",
       "      <td>7222159</td>\n",
       "      <td>0.00002</td>\n",
       "    </tr>\n",
       "  </tbody>\n",
       "</table>\n",
       "</div>"
      ],
      "text/plain": [
       "  tokens          main_cat  count_words  words_in_doc    prop\n",
       "0  aa     Computer Science  2            449593       0.00000\n",
       "1  aa     Physics           177          7222159      0.00002"
      ]
     },
     "execution_count": 66,
     "metadata": {},
     "output_type": "execute_result"
    }
   ],
   "source": [
    "df_combined.head(2)"
   ]
  },
  {
   "cell_type": "code",
   "execution_count": 67,
   "metadata": {
    "scrolled": false
   },
   "outputs": [
    {
     "data": {
      "image/png": "[encoded data removed]",
      "text/plain": [
       "<Figure size 432x288 with 1 Axes>"
      ]
     },
     "metadata": {
      "needs_background": "light"
     },
     "output_type": "display_data"
    },
    {
     "data": {
      "image/png": "[encoded data removed]",
      "text/plain": [
       "<Figure size 432x288 with 1 Axes>"
      ]
     },
     "metadata": {
      "needs_background": "light"
     },
     "output_type": "display_data"
    },
    {
     "data": {
      "image/png": "[encoded data removed]",
      "text/plain": [
       "<Figure size 432x288 with 1 Axes>"
      ]
     },
     "metadata": {
      "needs_background": "light"
     },
     "output_type": "display_data"
    },
    {
     "data": {
      "image/png": "[encoded data removed]",
      "text/plain": [
       "<Figure size 432x288 with 1 Axes>"
      ]
     },
     "metadata": {
      "needs_background": "light"
     },
     "output_type": "display_data"
    },
    {
     "data": {
      "image/png": "[encoded data removed]",
      "text/plain": [
       "<Figure size 432x288 with 1 Axes>"
      ]
     },
     "metadata": {
      "needs_background": "light"
     },
     "output_type": "display_data"
    },
    {
     "data": {
      "image/png": "[encoded data removed]",
      "text/plain": [
       "<Figure size 432x288 with 1 Axes>"
      ]
     },
     "metadata": {
      "needs_background": "light"
     },
     "output_type": "display_data"
    },
    {
     "data": {
      "image/png": "[encoded data removed]",
      "text/plain": [
       "<Figure size 432x288 with 1 Axes>"
      ]
     },
     "metadata": {
      "needs_background": "light"
     },
     "output_type": "display_data"
    }
   ],
   "source": [
    "df_comb1 = df_combined[df_combined['count_words']>100].sort_values(\"prop\", ascending=False)\n",
    "for comb in df_comb1.main_cat.unique():\n",
    "    df_comb1[df_comb1['main_cat']==comb]['prop'].hist()\n",
    "    plt.title(\"Word frequencies distribution in \" + str(comb))\n",
    "    plt.xlabel(\"Number of words / Total number of words by category\")\n",
    "    plt.ylabel(\"Count\")\n",
    "    plt.show()\n",
    "                                "
   ]
  },
  {
   "cell_type": "code",
   "execution_count": 68,
   "metadata": {},
   "outputs": [
    {
     "data": {
      "text/plain": [
       "array(['Computer Science', 'Physics', 'Mathematics', 'Statistics',\n",
       "       'Quantitative Biology', 'Economics', 'Quantitative Finance'],\n",
       "      dtype=object)"
      ]
     },
     "execution_count": 68,
     "metadata": {},
     "output_type": "execute_result"
    }
   ],
   "source": [
    "word_count_by_cat_tokens.main_cat.unique()"
   ]
  },
  {
   "cell_type": "code",
   "execution_count": 69,
   "metadata": {},
   "outputs": [],
   "source": [
    "#word_count['journal-ref'] = word_count['journal-ref'].replace(r'\\n','', regex=True) \n",
    "# word count by journal\n",
    "journal_word_total = word_count.groupby(['journal-ref']).sum().reset_index().sort_values(by=\"Count\", ascending=False)"
   ]
  },
  {
   "cell_type": "code",
   "execution_count": 70,
   "metadata": {},
   "outputs": [],
   "source": [
    "mean = sum(word_count_top50['Count'])/len(word_count_top50['Count'])\n",
    "standard_d =  np.std(word_count_top50['Count'])\n",
    "\n",
    "word_count_top50['normalised_count'] = np.log(word_count_top50['Count'])"
   ]
  },
  {
   "cell_type": "code",
   "execution_count": 71,
   "metadata": {},
   "outputs": [
    {
     "data": {
      "text/html": [
       "<div>\n",
       "<style scoped>\n",
       "    .dataframe tbody tr th:only-of-type {\n",
       "        vertical-align: middle;\n",
       "    }\n",
       "\n",
       "    .dataframe tbody tr th {\n",
       "        vertical-align: top;\n",
       "    }\n",
       "\n",
       "    .dataframe thead th {\n",
       "        text-align: right;\n",
       "    }\n",
       "</style>\n",
       "<table border=\"1\" class=\"dataframe\">\n",
       "  <thead>\n",
       "    <tr style=\"text-align: right;\">\n",
       "      <th></th>\n",
       "      <th>journal-ref</th>\n",
       "      <th>tokens</th>\n",
       "      <th>Count</th>\n",
       "      <th>normalised_count</th>\n",
       "    </tr>\n",
       "  </thead>\n",
       "  <tbody>\n",
       "    <tr>\n",
       "      <th>0</th>\n",
       "      <td>Prog Theor Exp Phys</td>\n",
       "      <td>model</td>\n",
       "      <td>93</td>\n",
       "      <td>4.53260</td>\n",
       "    </tr>\n",
       "  </tbody>\n",
       "</table>\n",
       "</div>"
      ],
      "text/plain": [
       "           journal-ref tokens  Count  normalised_count\n",
       "0  Prog Theor Exp Phys  model  93    4.53260          "
      ]
     },
     "execution_count": 71,
     "metadata": {},
     "output_type": "execute_result"
    }
   ],
   "source": [
    "word_count_top50.head(1)"
   ]
  },
  {
   "cell_type": "code",
   "execution_count": 72,
   "metadata": {},
   "outputs": [
    {
     "name": "stderr",
     "output_type": "stream",
     "text": [
      "C:\\ProgramData\\Anaconda3\\lib\\site-packages\\seaborn\\distributions.py:2619: FutureWarning: `distplot` is a deprecated function and will be removed in a future version. Please adapt your code to use either `displot` (a figure-level function with similar flexibility) or `histplot` (an axes-level function for histograms).\n",
      "  warnings.warn(msg, FutureWarning)\n"
     ]
    },
    {
     "data": {
      "image/png": "[encoded data removed]",
      "text/plain": [
       "<Figure size 432x288 with 1 Axes>"
      ]
     },
     "metadata": {
      "needs_background": "light"
     },
     "output_type": "display_data"
    }
   ],
   "source": [
    "import seaborn as sns\n",
    "sns.distplot(word_count_top50['normalised_count']).set_title('Distribution of word frequencies (normalised)');\n"
   ]
  },
  {
   "cell_type": "code",
   "execution_count": 73,
   "metadata": {},
   "outputs": [
    {
     "name": "stderr",
     "output_type": "stream",
     "text": [
      "C:\\ProgramData\\Anaconda3\\lib\\site-packages\\seaborn\\distributions.py:2619: FutureWarning: `distplot` is a deprecated function and will be removed in a future version. Please adapt your code to use either `displot` (a figure-level function with similar flexibility) or `histplot` (an axes-level function for histograms).\n",
      "  warnings.warn(msg, FutureWarning)\n"
     ]
    },
    {
     "data": {
      "image/png": "[encoded data removed]",
      "text/plain": [
       "<Figure size 432x288 with 1 Axes>"
      ]
     },
     "metadata": {
      "needs_background": "light"
     },
     "output_type": "display_data"
    }
   ],
   "source": [
    "sns.distplot(word_count_top50['Count']).set_title('Distribution of word frequencies');\n"
   ]
  },
  {
   "cell_type": "code",
   "execution_count": 74,
   "metadata": {},
   "outputs": [
    {
     "data": {
      "text/html": [
       "<div>\n",
       "<style scoped>\n",
       "    .dataframe tbody tr th:only-of-type {\n",
       "        vertical-align: middle;\n",
       "    }\n",
       "\n",
       "    .dataframe tbody tr th {\n",
       "        vertical-align: top;\n",
       "    }\n",
       "\n",
       "    .dataframe thead th {\n",
       "        text-align: right;\n",
       "    }\n",
       "</style>\n",
       "<table border=\"1\" class=\"dataframe\">\n",
       "  <thead>\n",
       "    <tr style=\"text-align: right;\">\n",
       "      <th></th>\n",
       "      <th>journal-ref</th>\n",
       "      <th>tokens</th>\n",
       "      <th>Count</th>\n",
       "      <th>normalised_count</th>\n",
       "    </tr>\n",
       "  </thead>\n",
       "  <tbody>\n",
       "    <tr>\n",
       "      <th>0</th>\n",
       "      <td>Prog Theor Exp Phys</td>\n",
       "      <td>model</td>\n",
       "      <td>93</td>\n",
       "      <td>4.53260</td>\n",
       "    </tr>\n",
       "    <tr>\n",
       "      <th>1</th>\n",
       "      <td>Ann. Phys.</td>\n",
       "      <td>quantum</td>\n",
       "      <td>87</td>\n",
       "      <td>4.46591</td>\n",
       "    </tr>\n",
       "    <tr>\n",
       "      <th>2</th>\n",
       "      <td>IEEE Transactions on Information Theory</td>\n",
       "      <td>quantum</td>\n",
       "      <td>56</td>\n",
       "      <td>4.02535</td>\n",
       "    </tr>\n",
       "  </tbody>\n",
       "</table>\n",
       "</div>"
      ],
      "text/plain": [
       "                               journal-ref   tokens  Count  normalised_count\n",
       "0  Prog Theor Exp Phys                      model    93    4.53260          \n",
       "1  Ann. Phys.                               quantum  87    4.46591          \n",
       "2  IEEE Transactions on Information Theory  quantum  56    4.02535          "
      ]
     },
     "execution_count": 74,
     "metadata": {},
     "output_type": "execute_result"
    }
   ],
   "source": [
    "word_count_top50.head(3)"
   ]
  },
  {
   "cell_type": "code",
   "execution_count": 75,
   "metadata": {},
   "outputs": [
    {
     "data": {
      "image/png": "[encoded data removed]",
      "text/plain": [
       "<Figure size 432x288 with 1 Axes>"
      ]
     },
     "metadata": {
      "needs_background": "light"
     },
     "output_type": "display_data"
    }
   ],
   "source": [
    "## Top 50 word counts in the dataset\n",
    "word_count_top50_a =word_count_top50.groupby('tokens').sum('Count').drop(\"normalised_count\", axis=1).reset_index()\n",
    "word_count_top50_a = word_count_top50_a.sort_values(by=\"Count\", ascending=False)\n",
    "sns.barplot(x=\"tokens\", y=\"Count\",data=word_count_top50_a, ci=None)\n",
    "plt.title('Total of occurence by tokens')\n",
    "plt.xlabel('Token')\n",
    "plt.ylabel('Total occurence')\n",
    "plt.xticks(rotation=90)\n",
    "sns.despine()\n",
    "plt.show()\n"
   ]
  },
  {
   "cell_type": "code",
   "execution_count": 76,
   "metadata": {},
   "outputs": [
    {
     "data": {
      "image/png": "[encoded data removed]",
      "text/plain": [
       "<Figure size 432x288 with 1 Axes>"
      ]
     },
     "metadata": {
      "needs_background": "light"
     },
     "output_type": "display_data"
    }
   ],
   "source": [
    "## Top 10 word counts in the dataset\n",
    "word_count_top10_a =word_count_top10.groupby('tokens').sum('Count').reset_index()\n",
    "word_count_top10_a = word_count_top10_a.sort_values(by=\"Count\", ascending=False)\n",
    "sns.barplot(x=\"tokens\", y=\"Count\",data=word_count_top10_a, ci=None)\n",
    "plt.title('Top 10 words by frequencies')\n",
    "plt.xlabel('Token')\n",
    "plt.ylabel('Total occurence')\n",
    "plt.xticks(rotation=90)\n",
    "sns.despine()\n",
    "plt.show()\n"
   ]
  },
  {
   "cell_type": "code",
   "execution_count": 77,
   "metadata": {},
   "outputs": [
    {
     "data": {
      "text/html": [
       "<div>\n",
       "<style scoped>\n",
       "    .dataframe tbody tr th:only-of-type {\n",
       "        vertical-align: middle;\n",
       "    }\n",
       "\n",
       "    .dataframe tbody tr th {\n",
       "        vertical-align: top;\n",
       "    }\n",
       "\n",
       "    .dataframe thead th {\n",
       "        text-align: right;\n",
       "    }\n",
       "</style>\n",
       "<table border=\"1\" class=\"dataframe\">\n",
       "  <thead>\n",
       "    <tr style=\"text-align: right;\">\n",
       "      <th></th>\n",
       "      <th>tokens</th>\n",
       "      <th>Count</th>\n",
       "    </tr>\n",
       "  </thead>\n",
       "  <tbody>\n",
       "    <tr>\n",
       "      <th>6</th>\n",
       "      <td>quantum</td>\n",
       "      <td>124659</td>\n",
       "    </tr>\n",
       "    <tr>\n",
       "      <th>3</th>\n",
       "      <td>model</td>\n",
       "      <td>76811</td>\n",
       "    </tr>\n",
       "    <tr>\n",
       "      <th>9</th>\n",
       "      <td>theory</td>\n",
       "      <td>59197</td>\n",
       "    </tr>\n",
       "    <tr>\n",
       "      <th>1</th>\n",
       "      <td>field</td>\n",
       "      <td>44538</td>\n",
       "    </tr>\n",
       "    <tr>\n",
       "      <th>8</th>\n",
       "      <td>systems</td>\n",
       "      <td>39834</td>\n",
       "    </tr>\n",
       "    <tr>\n",
       "      <th>4</th>\n",
       "      <td>models</td>\n",
       "      <td>36849</td>\n",
       "    </tr>\n",
       "    <tr>\n",
       "      <th>2</th>\n",
       "      <td>magnetic</td>\n",
       "      <td>34852</td>\n",
       "    </tr>\n",
       "    <tr>\n",
       "      <th>7</th>\n",
       "      <td>spin</td>\n",
       "      <td>34756</td>\n",
       "    </tr>\n",
       "    <tr>\n",
       "      <th>5</th>\n",
       "      <td>phase</td>\n",
       "      <td>33870</td>\n",
       "    </tr>\n",
       "    <tr>\n",
       "      <th>0</th>\n",
       "      <td>energy</td>\n",
       "      <td>33708</td>\n",
       "    </tr>\n",
       "  </tbody>\n",
       "</table>\n",
       "</div>"
      ],
      "text/plain": [
       "     tokens   Count\n",
       "6  quantum   124659\n",
       "3  model     76811 \n",
       "9  theory    59197 \n",
       "1  field     44538 \n",
       "8  systems   39834 \n",
       "4  models    36849 \n",
       "2  magnetic  34852 \n",
       "7  spin      34756 \n",
       "5  phase     33870 \n",
       "0  energy    33708 "
      ]
     },
     "execution_count": 77,
     "metadata": {},
     "output_type": "execute_result"
    }
   ],
   "source": [
    "word_count_top10_a"
   ]
  },
  {
   "cell_type": "code",
   "execution_count": 78,
   "metadata": {},
   "outputs": [
    {
     "name": "stdout",
     "output_type": "stream",
     "text": [
      "Suggested journal for keyword quantum is Ann. Phys.\n",
      "Suggested journal for keyword model is Prog Theor Exp Phys\n",
      "Suggested journal for keyword theory is Prog Theor Exp Phys\n",
      "Suggested journal for keyword field is Prog Theor Exp Phys\n",
      "Suggested journal for keyword systems is Ann. Phys.\n",
      "Suggested journal for keyword models is Prog Theor Exp Phys\n",
      "Suggested journal for keyword magnetic is Prog Theor Exp Phys\n",
      "Suggested journal for keyword spin is Ann. Phys.\n",
      "Suggested journal for keyword phase is Ann. Phys.\n",
      "Suggested journal for keyword energy is Prog Theor Exp Phys\n"
     ]
    }
   ],
   "source": [
    "for word in word_count_top10_a.tokens:\n",
    "    s = word_count[word_count['tokens']==word].sort_values(by=\"Count\", ascending=False)['journal-ref'].iloc[0]\n",
    "    print(f'Suggested journal for keyword {word} is {s}')\n"
   ]
  },
  {
   "cell_type": "code",
   "execution_count": 79,
   "metadata": {},
   "outputs": [
    {
     "name": "stdout",
     "output_type": "stream",
     "text": [
      "Enter a single word search: \n",
      "model\n"
     ]
    },
    {
     "data": {
      "text/plain": [
       "'Prog Theor Exp Phys'"
      ]
     },
     "execution_count": 79,
     "metadata": {},
     "output_type": "execute_result"
    }
   ],
   "source": [
    "## Diagnostic Tools: \n",
    "## \n",
    "## Enter word token from top 50 above\n",
    "## This test will use the word: theory\n",
    "## Standardise the user input by converting it to lowercase \n",
    "\n",
    "sel_word = str(input(\"Enter a single word search: \\n\")).lower()\n",
    "result = word_count_top50.loc[word_count_top50[word_count_top50['tokens']==sel_word].index][['journal-ref','Count']]\n",
    "result = result.sort_values(by=\"Count\", ascending=False).iloc[0][0]\n",
    "\n",
    "result\n"
   ]
  },
  {
   "cell_type": "code",
   "execution_count": 80,
   "metadata": {},
   "outputs": [
    {
     "name": "stdout",
     "output_type": "stream",
     "text": [
      "Enter a single word search: \n",
      " k\n"
     ]
    },
    {
     "data": {
      "text/html": [
       "<div>\n",
       "<style scoped>\n",
       "    .dataframe tbody tr th:only-of-type {\n",
       "        vertical-align: middle;\n",
       "    }\n",
       "\n",
       "    .dataframe tbody tr th {\n",
       "        vertical-align: top;\n",
       "    }\n",
       "\n",
       "    .dataframe thead th {\n",
       "        text-align: right;\n",
       "    }\n",
       "</style>\n",
       "<table border=\"1\" class=\"dataframe\">\n",
       "  <thead>\n",
       "    <tr style=\"text-align: right;\">\n",
       "      <th></th>\n",
       "      <th>journal-ref</th>\n",
       "      <th>Count</th>\n",
       "    </tr>\n",
       "  </thead>\n",
       "  <tbody>\n",
       "  </tbody>\n",
       "</table>\n",
       "</div>"
      ],
      "text/plain": [
       "Empty DataFrame\n",
       "Columns: [journal-ref, Count]\n",
       "Index: []"
      ]
     },
     "execution_count": 80,
     "metadata": {},
     "output_type": "execute_result"
    }
   ],
   "source": [
    "\n",
    "sel_word = str(input(\"Enter a single word search: \\n\")).lower()\n",
    "result = word_count_top50.loc[word_count_top50[word_count_top50['tokens']==sel_word].index][['journal-ref','Count']]\n",
    "result"
   ]
  },
  {
   "cell_type": "code",
   "execution_count": 81,
   "metadata": {},
   "outputs": [
    {
     "data": {
      "text/html": [
       "<div>\n",
       "<style scoped>\n",
       "    .dataframe tbody tr th:only-of-type {\n",
       "        vertical-align: middle;\n",
       "    }\n",
       "\n",
       "    .dataframe tbody tr th {\n",
       "        vertical-align: top;\n",
       "    }\n",
       "\n",
       "    .dataframe thead th {\n",
       "        text-align: right;\n",
       "    }\n",
       "</style>\n",
       "<table border=\"1\" class=\"dataframe\">\n",
       "  <thead>\n",
       "    <tr style=\"text-align: right;\">\n",
       "      <th></th>\n",
       "      <th>journal-ref</th>\n",
       "      <th>Count</th>\n",
       "      <th>rank</th>\n",
       "    </tr>\n",
       "  </thead>\n",
       "  <tbody>\n",
       "  </tbody>\n",
       "</table>\n",
       "</div>"
      ],
      "text/plain": [
       "Empty DataFrame\n",
       "Columns: [journal-ref, Count, rank]\n",
       "Index: []"
      ]
     },
     "execution_count": 81,
     "metadata": {},
     "output_type": "execute_result"
    }
   ],
   "source": [
    "result = result.sort_values(by=\"Count\", ascending=False)\n",
    "result['rank'] = np.arange(len(result))+1\n",
    "result"
   ]
  },
  {
   "cell_type": "code",
   "execution_count": 82,
   "metadata": {},
   "outputs": [
    {
     "data": {
      "text/html": [
       "<div>\n",
       "<style scoped>\n",
       "    .dataframe tbody tr th:only-of-type {\n",
       "        vertical-align: middle;\n",
       "    }\n",
       "\n",
       "    .dataframe tbody tr th {\n",
       "        vertical-align: top;\n",
       "    }\n",
       "\n",
       "    .dataframe thead th {\n",
       "        text-align: right;\n",
       "    }\n",
       "</style>\n",
       "<table border=\"1\" class=\"dataframe\">\n",
       "  <thead>\n",
       "    <tr style=\"text-align: right;\">\n",
       "      <th></th>\n",
       "      <th>title</th>\n",
       "      <th>comments</th>\n",
       "      <th>journal-ref</th>\n",
       "      <th>categories</th>\n",
       "      <th>tokens</th>\n",
       "      <th>category</th>\n",
       "      <th>main_cat</th>\n",
       "    </tr>\n",
       "    <tr>\n",
       "      <th>id</th>\n",
       "      <th></th>\n",
       "      <th></th>\n",
       "      <th></th>\n",
       "      <th></th>\n",
       "      <th></th>\n",
       "      <th></th>\n",
       "      <th></th>\n",
       "    </tr>\n",
       "  </thead>\n",
       "  <tbody>\n",
       "    <tr>\n",
       "      <th>1701.06748</th>\n",
       "      <td>Heat kernel approach to relations between covariant and consistent\\n  currents in chiral gauge theories</td>\n",
       "      <td>22pages, no figures</td>\n",
       "      <td>Prog Theor Exp Phys</td>\n",
       "      <td>hep-th</td>\n",
       "      <td>heat</td>\n",
       "      <td>hep-th</td>\n",
       "      <td>Physics</td>\n",
       "    </tr>\n",
       "    <tr>\n",
       "      <th>1701.06748</th>\n",
       "      <td>Heat kernel approach to relations between covariant and consistent\\n  currents in chiral gauge theories</td>\n",
       "      <td>22pages, no figures</td>\n",
       "      <td>Prog Theor Exp Phys</td>\n",
       "      <td>hep-th</td>\n",
       "      <td>heat</td>\n",
       "      <td>hep-th</td>\n",
       "      <td>Physics</td>\n",
       "    </tr>\n",
       "    <tr>\n",
       "      <th>1701.06748</th>\n",
       "      <td>Heat kernel approach to relations between covariant and consistent\\n  currents in chiral gauge theories</td>\n",
       "      <td>22pages, no figures</td>\n",
       "      <td>Prog Theor Exp Phys</td>\n",
       "      <td>hep-th</td>\n",
       "      <td>kernel</td>\n",
       "      <td>hep-th</td>\n",
       "      <td>Physics</td>\n",
       "    </tr>\n",
       "    <tr>\n",
       "      <th>1701.06748</th>\n",
       "      <td>Heat kernel approach to relations between covariant and consistent\\n  currents in chiral gauge theories</td>\n",
       "      <td>22pages, no figures</td>\n",
       "      <td>Prog Theor Exp Phys</td>\n",
       "      <td>hep-th</td>\n",
       "      <td>kernel</td>\n",
       "      <td>hep-th</td>\n",
       "      <td>Physics</td>\n",
       "    </tr>\n",
       "    <tr>\n",
       "      <th>1701.06748</th>\n",
       "      <td>Heat kernel approach to relations between covariant and consistent\\n  currents in chiral gauge theories</td>\n",
       "      <td>22pages, no figures</td>\n",
       "      <td>Prog Theor Exp Phys</td>\n",
       "      <td>hep-th</td>\n",
       "      <td>approach</td>\n",
       "      <td>hep-th</td>\n",
       "      <td>Physics</td>\n",
       "    </tr>\n",
       "    <tr>\n",
       "      <th>...</th>\n",
       "      <td>...</td>\n",
       "      <td>...</td>\n",
       "      <td>...</td>\n",
       "      <td>...</td>\n",
       "      <td>...</td>\n",
       "      <td>...</td>\n",
       "      <td>...</td>\n",
       "    </tr>\n",
       "    <tr>\n",
       "      <th>2110.00127</th>\n",
       "      <td>Characterization of two-level system noise for microwave kinetic\\n  inductance detector comprising niobium film on silicon substrate</td>\n",
       "      <td>14 pages, 12 figures</td>\n",
       "      <td>Prog Theor Exp Phys</td>\n",
       "      <td>physics.ins-det</td>\n",
       "      <td>film</td>\n",
       "      <td>physics.ins-det</td>\n",
       "      <td>Physics</td>\n",
       "    </tr>\n",
       "    <tr>\n",
       "      <th>2110.00127</th>\n",
       "      <td>Characterization of two-level system noise for microwave kinetic\\n  inductance detector comprising niobium film on silicon substrate</td>\n",
       "      <td>14 pages, 12 figures</td>\n",
       "      <td>Prog Theor Exp Phys</td>\n",
       "      <td>physics.ins-det</td>\n",
       "      <td>silicon</td>\n",
       "      <td>physics.ins-det</td>\n",
       "      <td>Physics</td>\n",
       "    </tr>\n",
       "    <tr>\n",
       "      <th>2110.00127</th>\n",
       "      <td>Characterization of two-level system noise for microwave kinetic\\n  inductance detector comprising niobium film on silicon substrate</td>\n",
       "      <td>14 pages, 12 figures</td>\n",
       "      <td>Prog Theor Exp Phys</td>\n",
       "      <td>physics.ins-det</td>\n",
       "      <td>silicon</td>\n",
       "      <td>physics.ins-det</td>\n",
       "      <td>Physics</td>\n",
       "    </tr>\n",
       "    <tr>\n",
       "      <th>2110.00127</th>\n",
       "      <td>Characterization of two-level system noise for microwave kinetic\\n  inductance detector comprising niobium film on silicon substrate</td>\n",
       "      <td>14 pages, 12 figures</td>\n",
       "      <td>Prog Theor Exp Phys</td>\n",
       "      <td>physics.ins-det</td>\n",
       "      <td>substrate</td>\n",
       "      <td>physics.ins-det</td>\n",
       "      <td>Physics</td>\n",
       "    </tr>\n",
       "    <tr>\n",
       "      <th>2110.00127</th>\n",
       "      <td>Characterization of two-level system noise for microwave kinetic\\n  inductance detector comprising niobium film on silicon substrate</td>\n",
       "      <td>14 pages, 12 figures</td>\n",
       "      <td>Prog Theor Exp Phys</td>\n",
       "      <td>physics.ins-det</td>\n",
       "      <td>substrate</td>\n",
       "      <td>physics.ins-det</td>\n",
       "      <td>Physics</td>\n",
       "    </tr>\n",
       "  </tbody>\n",
       "</table>\n",
       "<p>69 rows × 7 columns</p>\n",
       "</div>"
      ],
      "text/plain": [
       "                                                                                                                                           title  \\\n",
       "id                                                                                                                                                 \n",
       "1701.06748  Heat kernel approach to relations between covariant and consistent\\n  currents in chiral gauge theories                                \n",
       "1701.06748  Heat kernel approach to relations between covariant and consistent\\n  currents in chiral gauge theories                                \n",
       "1701.06748  Heat kernel approach to relations between covariant and consistent\\n  currents in chiral gauge theories                                \n",
       "1701.06748  Heat kernel approach to relations between covariant and consistent\\n  currents in chiral gauge theories                                \n",
       "1701.06748  Heat kernel approach to relations between covariant and consistent\\n  currents in chiral gauge theories                                \n",
       "...                                                                                                             ...                                \n",
       "2110.00127  Characterization of two-level system noise for microwave kinetic\\n  inductance detector comprising niobium film on silicon substrate   \n",
       "2110.00127  Characterization of two-level system noise for microwave kinetic\\n  inductance detector comprising niobium film on silicon substrate   \n",
       "2110.00127  Characterization of two-level system noise for microwave kinetic\\n  inductance detector comprising niobium film on silicon substrate   \n",
       "2110.00127  Characterization of two-level system noise for microwave kinetic\\n  inductance detector comprising niobium film on silicon substrate   \n",
       "2110.00127  Characterization of two-level system noise for microwave kinetic\\n  inductance detector comprising niobium film on silicon substrate   \n",
       "\n",
       "                        comments          journal-ref       categories  \\\n",
       "id                                                                       \n",
       "1701.06748  22pages, no figures   Prog Theor Exp Phys  hep-th            \n",
       "1701.06748  22pages, no figures   Prog Theor Exp Phys  hep-th            \n",
       "1701.06748  22pages, no figures   Prog Theor Exp Phys  hep-th            \n",
       "1701.06748  22pages, no figures   Prog Theor Exp Phys  hep-th            \n",
       "1701.06748  22pages, no figures   Prog Theor Exp Phys  hep-th            \n",
       "...                         ...                   ...     ...            \n",
       "2110.00127  14 pages, 12 figures  Prog Theor Exp Phys  physics.ins-det   \n",
       "2110.00127  14 pages, 12 figures  Prog Theor Exp Phys  physics.ins-det   \n",
       "2110.00127  14 pages, 12 figures  Prog Theor Exp Phys  physics.ins-det   \n",
       "2110.00127  14 pages, 12 figures  Prog Theor Exp Phys  physics.ins-det   \n",
       "2110.00127  14 pages, 12 figures  Prog Theor Exp Phys  physics.ins-det   \n",
       "\n",
       "               tokens         category main_cat  \n",
       "id                                               \n",
       "1701.06748  heat       hep-th           Physics  \n",
       "1701.06748  heat       hep-th           Physics  \n",
       "1701.06748  kernel     hep-th           Physics  \n",
       "1701.06748  kernel     hep-th           Physics  \n",
       "1701.06748  approach   hep-th           Physics  \n",
       "...            ...        ...               ...  \n",
       "2110.00127  film       physics.ins-det  Physics  \n",
       "2110.00127  silicon    physics.ins-det  Physics  \n",
       "2110.00127  silicon    physics.ins-det  Physics  \n",
       "2110.00127  substrate  physics.ins-det  Physics  \n",
       "2110.00127  substrate  physics.ins-det  Physics  \n",
       "\n",
       "[69 rows x 7 columns]"
      ]
     },
     "execution_count": 82,
     "metadata": {},
     "output_type": "execute_result"
    }
   ],
   "source": [
    "##  Validating the result\n",
    "df_tokens[(df_tokens['journal-ref'].str.contains('Prog Theor Exp Phys')) & \\\n",
    "          (df_tokens['title'].str.contains(sel_word))]"
   ]
  },
  {
   "cell_type": "markdown",
   "metadata": {},
   "source": [
    "### Interactive Tool"
   ]
  },
  {
   "cell_type": "code",
   "execution_count": 111,
   "metadata": {},
   "outputs": [
    {
     "data": {
      "application/vnd.plotly.v1+json": {
       "config": {
        "plotlyServerURL": "https://plot.ly"
       },
       "data": [
        {
         "colorscale": [
          [
           0,
           "rgb(103,0,31)"
          ],
          [
           0.1,
           "rgb(178,24,43)"
          ],
          [
           0.2,
           "rgb(214,96,77)"
          ],
          [
           0.3,
           "rgb(244,165,130)"
          ],
          [
           0.4,
           "rgb(253,219,199)"
          ],
          [
           0.5,
           "rgb(247,247,247)"
          ],
          [
           0.6,
           "rgb(209,229,240)"
          ],
          [
           0.7,
           "rgb(146,197,222)"
          ],
          [
           0.8,
           "rgb(67,147,195)"
          ],
          [
           0.9,
           "rgb(33,102,172)"
          ],
          [
           1,
           "rgb(5,48,97)"
          ]
         ],
         "type": "heatmap",
         "x": [
          "nlin.CD",
          "physics.data-an",
          "physics.flu-dyn",
          "cond-mat",
          "cond-mat.dis-nn",
          "cond-mat.mes-hall",
          "cond-mat.mtrl-sci",
          "cond-mat.other",
          "cond-mat.soft",
          "cs.CV",
          "cs.LG",
          "cs.NE",
          "eess.IV",
          "gr-qc",
          "nlin.CD",
          "physics.app-ph",
          "physics.atom-ph",
          "physics.chem-ph",
          "physics.class-ph",
          "physics.optics",
          "quant-ph",
          "astro-ph.GA",
          "astro-ph.HE",
          "astro-ph.SR",
          "cond-mat.soft",
          "cond-mat.stat-mech",
          "physics.plasm-ph",
          "physics.space-ph",
          "cond-mat.mes-hall",
          "cond-mat.mtrl-sci",
          "cond-mat.soft",
          "cond-mat.stat-mech",
          "cs.LG",
          "math.NA",
          "physics.class-ph",
          "physics.comp-ph",
          "physics.flu-dyn",
          "quant-ph",
          "cond-mat.mtrl-sci",
          "cond-mat.other",
          "cond-mat.soft",
          "cond-mat.stat-mech",
          "physics.bio-ph",
          "physics.flu-dyn",
          "astro-ph.IM",
          "cond-mat.stat-mech",
          "cs.LG",
          "cs.SI",
          "math.ST",
          "physics.ao-ph",
          "physics.soc-ph",
          "q-fin.GN",
          "stat.ML",
          "stat.TH",
          "physics.gen-ph",
          "physics.acc-ph",
          "astro-ph.CO",
          "cond-mat.mes-hall",
          "cond-mat.quant-gas",
          "cond-mat.stat-mech",
          "cond-mat.str-el",
          "gr-qc",
          "hep-ex",
          "hep-lat",
          "hep-ph",
          "hep-th",
          "math-ph",
          "math.MP",
          "nucl-ex",
          "nucl-th",
          "physics.ao-ph",
          "physics.atom-ph",
          "physics.optics",
          "quant-ph",
          "astro-ph.SR",
          "cond-mat.soft",
          "cond-mat.stat-mech",
          "cs.LG",
          "cs.NA",
          "math.NA",
          "nlin.CD",
          "physics.ao-ph",
          "physics.app-ph",
          "physics.bio-ph",
          "physics.class-ph",
          "physics.comp-ph",
          "physics.data-an",
          "physics.flu-dyn",
          "physics.ins-det",
          "physics.atm-clus",
          "cs.CV",
          "cs.LG",
          "cs.NA",
          "eess.IV",
          "math.NA",
          "physics.app-ph",
          "physics.med-ph",
          "astro-ph.EP",
          "cs.LG",
          "physics.ao-ph",
          "physics.atom-ph",
          "physics.flu-dyn",
          "physics.soc-ph",
          "physics.space-ph",
          "astro-ph.GA",
          "astro-ph.HE",
          "astro-ph.SR",
          "physics.ao-ph",
          "physics.plasm-ph",
          "physics.space-ph",
          "cond-mat.mtrl-sci",
          "physics.chem-ph",
          "physics.optics",
          "cond-mat.mtrl-sci",
          "cond-mat.stat-mech",
          "math-ph",
          "math.DS",
          "math.MP",
          "nlin.CD",
          "nlin.SI",
          "physics.class-ph",
          "physics.comp-ph",
          "physics.flu-dyn",
          "physics.optics",
          "physics.ed-ph",
          "cond-mat.mtrl-sci",
          "physics.geo-ph",
          "astro-ph.EP",
          "astro-ph.SR",
          "physics.hist-ph",
          "physics.pop-ph",
          "astro-ph.EP",
          "physics.hist-ph",
          "physics.pop-ph",
          "cond-mat.mes-hall",
          "cond-mat.mtrl-sci",
          "cs.CV",
          "cs.LG",
          "eess.IV",
          "physics.app-ph",
          "physics.flu-dyn",
          "physics.med-ph",
          "physics.optics"
         ],
         "y": [
          "physics.data-an",
          "physics.data-an",
          "physics.data-an",
          "physics.optics",
          "physics.optics",
          "physics.optics",
          "physics.optics",
          "physics.optics",
          "physics.optics",
          "physics.optics",
          "physics.optics",
          "physics.optics",
          "physics.optics",
          "physics.optics",
          "physics.optics",
          "physics.optics",
          "physics.optics",
          "physics.optics",
          "physics.optics",
          "physics.optics",
          "physics.optics",
          "physics.plasm-ph",
          "physics.plasm-ph",
          "physics.plasm-ph",
          "physics.plasm-ph",
          "physics.plasm-ph",
          "physics.plasm-ph",
          "physics.plasm-ph",
          "physics.comp-ph",
          "physics.comp-ph",
          "physics.comp-ph",
          "physics.comp-ph",
          "physics.comp-ph",
          "physics.comp-ph",
          "physics.comp-ph",
          "physics.comp-ph",
          "physics.comp-ph",
          "physics.comp-ph",
          "physics.bio-ph",
          "physics.bio-ph",
          "physics.bio-ph",
          "physics.bio-ph",
          "physics.bio-ph",
          "physics.bio-ph",
          "physics.soc-ph",
          "physics.soc-ph",
          "physics.soc-ph",
          "physics.soc-ph",
          "physics.soc-ph",
          "physics.soc-ph",
          "physics.soc-ph",
          "physics.soc-ph",
          "physics.soc-ph",
          "physics.soc-ph",
          "physics.gen-ph",
          "physics.acc-ph",
          "physics.atom-ph",
          "physics.atom-ph",
          "physics.atom-ph",
          "physics.atom-ph",
          "physics.atom-ph",
          "physics.atom-ph",
          "physics.atom-ph",
          "physics.atom-ph",
          "physics.atom-ph",
          "physics.atom-ph",
          "physics.atom-ph",
          "physics.atom-ph",
          "physics.atom-ph",
          "physics.atom-ph",
          "physics.atom-ph",
          "physics.atom-ph",
          "physics.atom-ph",
          "physics.atom-ph",
          "physics.flu-dyn",
          "physics.flu-dyn",
          "physics.flu-dyn",
          "physics.flu-dyn",
          "physics.flu-dyn",
          "physics.flu-dyn",
          "physics.flu-dyn",
          "physics.flu-dyn",
          "physics.flu-dyn",
          "physics.flu-dyn",
          "physics.flu-dyn",
          "physics.flu-dyn",
          "physics.flu-dyn",
          "physics.flu-dyn",
          "physics.ins-det",
          "physics.atm-clus",
          "physics.med-ph",
          "physics.med-ph",
          "physics.med-ph",
          "physics.med-ph",
          "physics.med-ph",
          "physics.med-ph",
          "physics.med-ph",
          "physics.ao-ph",
          "physics.ao-ph",
          "physics.ao-ph",
          "physics.ao-ph",
          "physics.ao-ph",
          "physics.ao-ph",
          "physics.ao-ph",
          "physics.space-ph",
          "physics.space-ph",
          "physics.space-ph",
          "physics.space-ph",
          "physics.space-ph",
          "physics.space-ph",
          "physics.chem-ph",
          "physics.chem-ph",
          "physics.chem-ph",
          "physics.class-ph",
          "physics.class-ph",
          "physics.class-ph",
          "physics.class-ph",
          "physics.class-ph",
          "physics.class-ph",
          "physics.class-ph",
          "physics.class-ph",
          "physics.class-ph",
          "physics.class-ph",
          "physics.class-ph",
          "physics.ed-ph",
          "physics.geo-ph",
          "physics.geo-ph",
          "physics.hist-ph",
          "physics.hist-ph",
          "physics.hist-ph",
          "physics.hist-ph",
          "physics.pop-ph",
          "physics.pop-ph",
          "physics.pop-ph",
          "physics.app-ph",
          "physics.app-ph",
          "physics.app-ph",
          "physics.app-ph",
          "physics.app-ph",
          "physics.app-ph",
          "physics.app-ph",
          "physics.app-ph",
          "physics.app-ph"
         ],
         "z": [
          0.9999999999999999,
          1,
          0.6997023176561113,
          0.6998542122237652,
          1,
          0.3462461316707463,
          0.3495235417311798,
          1,
          -0.008264462809917395,
          0.7827248015497822,
          0.907884332768915,
          0.9694244392808651,
          0.9903366260490916,
          0.13639105667698917,
          0.7046975517594634,
          0.32030702510910425,
          0.6692346290278911,
          0.7056382296923228,
          -0.0031446540880503125,
          1,
          0.47571141415724977,
          -0.011904761904761904,
          -0.005023857169510853,
          0.7063848751472057,
          1,
          1,
          1,
          -0.0021978021978022043,
          -0.0075477808795888475,
          0.545890777448223,
          -0.005229517722254509,
          0.2557940806941102,
          -0.016324410134800342,
          -0.008565310492505265,
          1,
          1,
          0.46733872562272444,
          0.5762680746689389,
          0.9828030073840305,
          0.9999999999999997,
          0.19488961979367786,
          0.4990583804143126,
          1,
          -0.003984063745019924,
          1,
          0.22197524119985648,
          0.3864447558701636,
          0.755294156028803,
          1,
          1,
          1,
          0.7055051782666677,
          1,
          1,
          0.9999999999999998,
          1,
          -0.01714229740350892,
          0.2609449089393404,
          0.3152243354612641,
          0.8939980088665969,
          0.13228651857265894,
          1,
          1,
          1,
          0.9989683570569344,
          0.7229314344328113,
          1,
          1,
          1,
          0.8156444250668949,
          1,
          1,
          0.6692346290278911,
          0.4807646729479273,
          1,
          0.6533415602711303,
          0.5316728943705253,
          -0.03874921291460645,
          1,
          0.6271490700466095,
          0.7064035420457005,
          1,
          -0.014084507042253508,
          -0.003984063745019923,
          0.7047138579747266,
          0.4673387256227245,
          0.6997023176561113,
          0.9999999999999999,
          0.9999999999999998,
          1,
          -0.022628141110071023,
          -0.0777713771047819,
          -0.14285714285714285,
          0.811107105653812,
          -0.06666666666666667,
          -0.026315789473684112,
          0.9999999999999999,
          -0.0060240963855421395,
          1,
          0.9999999999999998,
          1,
          1,
          1,
          0.7006490497453696,
          -0.042257712736425805,
          -0.010691875354929208,
          0.5740881279700073,
          0.7006490497453696,
          -0.002197802197802204,
          1,
          0.36693633908857065,
          1,
          0.7056382296923228,
          0.9999999999999999,
          0.9999999999999998,
          0.7058246282165994,
          1,
          0.7058246282165994,
          -0.014357683075131602,
          -0.017857142857142856,
          1,
          1,
          0.7047138579747266,
          -0.0031446540880503125,
          0.9999999999999999,
          0.9999999999999999,
          0.9999999999999999,
          0.989351646990535,
          0.9476332318507089,
          1,
          0.9483071581789114,
          0.8927525731124849,
          0.9483071581789113,
          1,
          0.4521958044032274,
          0.17784106368866073,
          0,
          0.14967267219401373,
          -0.10249000771134849,
          1,
          -0.01408450704225351,
          -0.026315789473684112,
          0.3203070251091043
         ],
         "zmax": 1,
         "zmin": -1
        }
       ],
       "layout": {
        "template": {
         "data": {
          "bar": [
           {
            "error_x": {
             "color": "#2a3f5f"
            },
            "error_y": {
             "color": "#2a3f5f"
            },
            "marker": {
             "line": {
              "color": "white",
              "width": 0.5
             },
             "pattern": {
              "fillmode": "overlay",
              "size": 10,
              "solidity": 0.2
             }
            },
            "type": "bar"
           }
          ],
          "barpolar": [
           {
            "marker": {
             "line": {
              "color": "white",
              "width": 0.5
             },
             "pattern": {
              "fillmode": "overlay",
              "size": 10,
              "solidity": 0.2
             }
            },
            "type": "barpolar"
           }
          ],
          "carpet": [
           {
            "aaxis": {
             "endlinecolor": "#2a3f5f",
             "gridcolor": "#C8D4E3",
             "linecolor": "#C8D4E3",
             "minorgridcolor": "#C8D4E3",
             "startlinecolor": "#2a3f5f"
            },
            "baxis": {
             "endlinecolor": "#2a3f5f",
             "gridcolor": "#C8D4E3",
             "linecolor": "#C8D4E3",
             "minorgridcolor": "#C8D4E3",
             "startlinecolor": "#2a3f5f"
            },
            "type": "carpet"
           }
          ],
          "choropleth": [
           {
            "colorbar": {
             "outlinewidth": 0,
             "ticks": ""
            },
            "type": "choropleth"
           }
          ],
          "contour": [
           {
            "colorbar": {
             "outlinewidth": 0,
             "ticks": ""
            },
            "colorscale": [
             [
              0,
              "#0d0887"
             ],
             [
              0.1111111111111111,
              "#46039f"
             ],
             [
              0.2222222222222222,
              "#7201a8"
             ],
             [
              0.3333333333333333,
              "#9c179e"
             ],
             [
              0.4444444444444444,
              "#bd3786"
             ],
             [
              0.5555555555555556,
              "#d8576b"
             ],
             [
              0.6666666666666666,
              "#ed7953"
             ],
             [
              0.7777777777777778,
              "#fb9f3a"
             ],
             [
              0.8888888888888888,
              "#fdca26"
             ],
             [
              1,
              "#f0f921"
             ]
            ],
            "type": "contour"
           }
          ],
          "contourcarpet": [
           {
            "colorbar": {
             "outlinewidth": 0,
             "ticks": ""
            },
            "type": "contourcarpet"
           }
          ],
          "heatmap": [
           {
            "colorbar": {
             "outlinewidth": 0,
             "ticks": ""
            },
            "colorscale": [
             [
              0,
              "#0d0887"
             ],
             [
              0.1111111111111111,
              "#46039f"
             ],
             [
              0.2222222222222222,
              "#7201a8"
             ],
             [
              0.3333333333333333,
              "#9c179e"
             ],
             [
              0.4444444444444444,
              "#bd3786"
             ],
             [
              0.5555555555555556,
              "#d8576b"
             ],
             [
              0.6666666666666666,
              "#ed7953"
             ],
             [
              0.7777777777777778,
              "#fb9f3a"
             ],
             [
              0.8888888888888888,
              "#fdca26"
             ],
             [
              1,
              "#f0f921"
             ]
            ],
            "type": "heatmap"
           }
          ],
          "heatmapgl": [
           {
            "colorbar": {
             "outlinewidth": 0,
             "ticks": ""
            },
            "colorscale": [
             [
              0,
              "#0d0887"
             ],
             [
              0.1111111111111111,
              "#46039f"
             ],
             [
              0.2222222222222222,
              "#7201a8"
             ],
             [
              0.3333333333333333,
              "#9c179e"
             ],
             [
              0.4444444444444444,
              "#bd3786"
             ],
             [
              0.5555555555555556,
              "#d8576b"
             ],
             [
              0.6666666666666666,
              "#ed7953"
             ],
             [
              0.7777777777777778,
              "#fb9f3a"
             ],
             [
              0.8888888888888888,
              "#fdca26"
             ],
             [
              1,
              "#f0f921"
             ]
            ],
            "type": "heatmapgl"
           }
          ],
          "histogram": [
           {
            "marker": {
             "pattern": {
              "fillmode": "overlay",
              "size": 10,
              "solidity": 0.2
             }
            },
            "type": "histogram"
           }
          ],
          "histogram2d": [
           {
            "colorbar": {
             "outlinewidth": 0,
             "ticks": ""
            },
            "colorscale": [
             [
              0,
              "#0d0887"
             ],
             [
              0.1111111111111111,
              "#46039f"
             ],
             [
              0.2222222222222222,
              "#7201a8"
             ],
             [
              0.3333333333333333,
              "#9c179e"
             ],
             [
              0.4444444444444444,
              "#bd3786"
             ],
             [
              0.5555555555555556,
              "#d8576b"
             ],
             [
              0.6666666666666666,
              "#ed7953"
             ],
             [
              0.7777777777777778,
              "#fb9f3a"
             ],
             [
              0.8888888888888888,
              "#fdca26"
             ],
             [
              1,
              "#f0f921"
             ]
            ],
            "type": "histogram2d"
           }
          ],
          "histogram2dcontour": [
           {
            "colorbar": {
             "outlinewidth": 0,
             "ticks": ""
            },
            "colorscale": [
             [
              0,
              "#0d0887"
             ],
             [
              0.1111111111111111,
              "#46039f"
             ],
             [
              0.2222222222222222,
              "#7201a8"
             ],
             [
              0.3333333333333333,
              "#9c179e"
             ],
             [
              0.4444444444444444,
              "#bd3786"
             ],
             [
              0.5555555555555556,
              "#d8576b"
             ],
             [
              0.6666666666666666,
              "#ed7953"
             ],
             [
              0.7777777777777778,
              "#fb9f3a"
             ],
             [
              0.8888888888888888,
              "#fdca26"
             ],
             [
              1,
              "#f0f921"
             ]
            ],
            "type": "histogram2dcontour"
           }
          ],
          "mesh3d": [
           {
            "colorbar": {
             "outlinewidth": 0,
             "ticks": ""
            },
            "type": "mesh3d"
           }
          ],
          "parcoords": [
           {
            "line": {
             "colorbar": {
              "outlinewidth": 0,
              "ticks": ""
             }
            },
            "type": "parcoords"
           }
          ],
          "pie": [
           {
            "automargin": true,
            "type": "pie"
           }
          ],
          "scatter": [
           {
            "fillpattern": {
             "fillmode": "overlay",
             "size": 10,
             "solidity": 0.2
            },
            "type": "scatter"
           }
          ],
          "scatter3d": [
           {
            "line": {
             "colorbar": {
              "outlinewidth": 0,
              "ticks": ""
             }
            },
            "marker": {
             "colorbar": {
              "outlinewidth": 0,
              "ticks": ""
             }
            },
            "type": "scatter3d"
           }
          ],
          "scattercarpet": [
           {
            "marker": {
             "colorbar": {
              "outlinewidth": 0,
              "ticks": ""
             }
            },
            "type": "scattercarpet"
           }
          ],
          "scattergeo": [
           {
            "marker": {
             "colorbar": {
              "outlinewidth": 0,
              "ticks": ""
             }
            },
            "type": "scattergeo"
           }
          ],
          "scattergl": [
           {
            "marker": {
             "colorbar": {
              "outlinewidth": 0,
              "ticks": ""
             }
            },
            "type": "scattergl"
           }
          ],
          "scattermapbox": [
           {
            "marker": {
             "colorbar": {
              "outlinewidth": 0,
              "ticks": ""
             }
            },
            "type": "scattermapbox"
           }
          ],
          "scatterpolar": [
           {
            "marker": {
             "colorbar": {
              "outlinewidth": 0,
              "ticks": ""
             }
            },
            "type": "scatterpolar"
           }
          ],
          "scatterpolargl": [
           {
            "marker": {
             "colorbar": {
              "outlinewidth": 0,
              "ticks": ""
             }
            },
            "type": "scatterpolargl"
           }
          ],
          "scatterternary": [
           {
            "marker": {
             "colorbar": {
              "outlinewidth": 0,
              "ticks": ""
             }
            },
            "type": "scatterternary"
           }
          ],
          "surface": [
           {
            "colorbar": {
             "outlinewidth": 0,
             "ticks": ""
            },
            "colorscale": [
             [
              0,
              "#0d0887"
             ],
             [
              0.1111111111111111,
              "#46039f"
             ],
             [
              0.2222222222222222,
              "#7201a8"
             ],
             [
              0.3333333333333333,
              "#9c179e"
             ],
             [
              0.4444444444444444,
              "#bd3786"
             ],
             [
              0.5555555555555556,
              "#d8576b"
             ],
             [
              0.6666666666666666,
              "#ed7953"
             ],
             [
              0.7777777777777778,
              "#fb9f3a"
             ],
             [
              0.8888888888888888,
              "#fdca26"
             ],
             [
              1,
              "#f0f921"
             ]
            ],
            "type": "surface"
           }
          ],
          "table": [
           {
            "cells": {
             "fill": {
              "color": "#EBF0F8"
             },
             "line": {
              "color": "white"
             }
            },
            "header": {
             "fill": {
              "color": "#C8D4E3"
             },
             "line": {
              "color": "white"
             }
            },
            "type": "table"
           }
          ]
         },
         "layout": {
          "annotationdefaults": {
           "arrowcolor": "#2a3f5f",
           "arrowhead": 0,
           "arrowwidth": 1
          },
          "autotypenumbers": "strict",
          "coloraxis": {
           "colorbar": {
            "outlinewidth": 0,
            "ticks": ""
           }
          },
          "colorscale": {
           "diverging": [
            [
             0,
             "#8e0152"
            ],
            [
             0.1,
             "#c51b7d"
            ],
            [
             0.2,
             "#de77ae"
            ],
            [
             0.3,
             "#f1b6da"
            ],
            [
             0.4,
             "#fde0ef"
            ],
            [
             0.5,
             "#f7f7f7"
            ],
            [
             0.6,
             "#e6f5d0"
            ],
            [
             0.7,
             "#b8e186"
            ],
            [
             0.8,
             "#7fbc41"
            ],
            [
             0.9,
             "#4d9221"
            ],
            [
             1,
             "#276419"
            ]
           ],
           "sequential": [
            [
             0,
             "#0d0887"
            ],
            [
             0.1111111111111111,
             "#46039f"
            ],
            [
             0.2222222222222222,
             "#7201a8"
            ],
            [
             0.3333333333333333,
             "#9c179e"
            ],
            [
             0.4444444444444444,
             "#bd3786"
            ],
            [
             0.5555555555555556,
             "#d8576b"
            ],
            [
             0.6666666666666666,
             "#ed7953"
            ],
            [
             0.7777777777777778,
             "#fb9f3a"
            ],
            [
             0.8888888888888888,
             "#fdca26"
            ],
            [
             1,
             "#f0f921"
            ]
           ],
           "sequentialminus": [
            [
             0,
             "#0d0887"
            ],
            [
             0.1111111111111111,
             "#46039f"
            ],
            [
             0.2222222222222222,
             "#7201a8"
            ],
            [
             0.3333333333333333,
             "#9c179e"
            ],
            [
             0.4444444444444444,
             "#bd3786"
            ],
            [
             0.5555555555555556,
             "#d8576b"
            ],
            [
             0.6666666666666666,
             "#ed7953"
            ],
            [
             0.7777777777777778,
             "#fb9f3a"
            ],
            [
             0.8888888888888888,
             "#fdca26"
            ],
            [
             1,
             "#f0f921"
            ]
           ]
          },
          "colorway": [
           "#636efa",
           "#EF553B",
           "#00cc96",
           "#ab63fa",
           "#FFA15A",
           "#19d3f3",
           "#FF6692",
           "#B6E880",
           "#FF97FF",
           "#FECB52"
          ],
          "font": {
           "color": "#2a3f5f"
          },
          "geo": {
           "bgcolor": "white",
           "lakecolor": "white",
           "landcolor": "white",
           "showlakes": true,
           "showland": true,
           "subunitcolor": "#C8D4E3"
          },
          "hoverlabel": {
           "align": "left"
          },
          "hovermode": "closest",
          "mapbox": {
           "style": "light"
          },
          "paper_bgcolor": "white",
          "plot_bgcolor": "white",
          "polar": {
           "angularaxis": {
            "gridcolor": "#EBF0F8",
            "linecolor": "#EBF0F8",
            "ticks": ""
           },
           "bgcolor": "white",
           "radialaxis": {
            "gridcolor": "#EBF0F8",
            "linecolor": "#EBF0F8",
            "ticks": ""
           }
          },
          "scene": {
           "xaxis": {
            "backgroundcolor": "white",
            "gridcolor": "#DFE8F3",
            "gridwidth": 2,
            "linecolor": "#EBF0F8",
            "showbackground": true,
            "ticks": "",
            "zerolinecolor": "#EBF0F8"
           },
           "yaxis": {
            "backgroundcolor": "white",
            "gridcolor": "#DFE8F3",
            "gridwidth": 2,
            "linecolor": "#EBF0F8",
            "showbackground": true,
            "ticks": "",
            "zerolinecolor": "#EBF0F8"
           },
           "zaxis": {
            "backgroundcolor": "white",
            "gridcolor": "#DFE8F3",
            "gridwidth": 2,
            "linecolor": "#EBF0F8",
            "showbackground": true,
            "ticks": "",
            "zerolinecolor": "#EBF0F8"
           }
          },
          "shapedefaults": {
           "line": {
            "color": "#2a3f5f"
           }
          },
          "ternary": {
           "aaxis": {
            "gridcolor": "#DFE8F3",
            "linecolor": "#A2B1C6",
            "ticks": ""
           },
           "baxis": {
            "gridcolor": "#DFE8F3",
            "linecolor": "#A2B1C6",
            "ticks": ""
           },
           "bgcolor": "white",
           "caxis": {
            "gridcolor": "#DFE8F3",
            "linecolor": "#A2B1C6",
            "ticks": ""
           }
          },
          "title": {
           "x": 0.05
          },
          "xaxis": {
           "automargin": true,
           "gridcolor": "#EBF0F8",
           "linecolor": "#EBF0F8",
           "ticks": "",
           "title": {
            "standoff": 15
           },
           "zerolinecolor": "#EBF0F8",
           "zerolinewidth": 2
          },
          "yaxis": {
           "automargin": true,
           "gridcolor": "#EBF0F8",
           "linecolor": "#EBF0F8",
           "ticks": "",
           "title": {
            "standoff": 15
           },
           "zerolinecolor": "#EBF0F8",
           "zerolinewidth": 2
          }
         }
        }
       }
      },
      "text/html": [
       "<div>                            <div id=\"20319011-5eb7-4c48-ae35-17fd283f467e\" class=\"plotly-graph-div\" style=\"height:525px; width:100%;\"></div>            <script type=\"text/javascript\">                require([\"plotly\"], function(Plotly) {                    window.PLOTLYENV=window.PLOTLYENV || {};                                    if (document.getElementById(\"20319011-5eb7-4c48-ae35-17fd283f467e\")) {                    Plotly.newPlot(                        \"20319011-5eb7-4c48-ae35-17fd283f467e\",                        [{\"colorscale\":[[0.0,\"rgb(103,0,31)\"],[0.1,\"rgb(178,24,43)\"],[0.2,\"rgb(214,96,77)\"],[0.3,\"rgb(244,165,130)\"],[0.4,\"rgb(253,219,199)\"],[0.5,\"rgb(247,247,247)\"],[0.6,\"rgb(209,229,240)\"],[0.7,\"rgb(146,197,222)\"],[0.8,\"rgb(67,147,195)\"],[0.9,\"rgb(33,102,172)\"],[1.0,\"rgb(5,48,97)\"]],\"x\":[\"nlin.CD\",\"physics.data-an\",\"physics.flu-dyn\",\"cond-mat\",\"cond-mat.dis-nn\",\"cond-mat.mes-hall\",\"cond-mat.mtrl-sci\",\"cond-mat.other\",\"cond-mat.soft\",\"cs.CV\",\"cs.LG\",\"cs.NE\",\"eess.IV\",\"gr-qc\",\"nlin.CD\",\"physics.app-ph\",\"physics.atom-ph\",\"physics.chem-ph\",\"physics.class-ph\",\"physics.optics\",\"quant-ph\",\"astro-ph.GA\",\"astro-ph.HE\",\"astro-ph.SR\",\"cond-mat.soft\",\"cond-mat.stat-mech\",\"physics.plasm-ph\",\"physics.space-ph\",\"cond-mat.mes-hall\",\"cond-mat.mtrl-sci\",\"cond-mat.soft\",\"cond-mat.stat-mech\",\"cs.LG\",\"math.NA\",\"physics.class-ph\",\"physics.comp-ph\",\"physics.flu-dyn\",\"quant-ph\",\"cond-mat.mtrl-sci\",\"cond-mat.other\",\"cond-mat.soft\",\"cond-mat.stat-mech\",\"physics.bio-ph\",\"physics.flu-dyn\",\"astro-ph.IM\",\"cond-mat.stat-mech\",\"cs.LG\",\"cs.SI\",\"math.ST\",\"physics.ao-ph\",\"physics.soc-ph\",\"q-fin.GN\",\"stat.ML\",\"stat.TH\",\"physics.gen-ph\",\"physics.acc-ph\",\"astro-ph.CO\",\"cond-mat.mes-hall\",\"cond-mat.quant-gas\",\"cond-mat.stat-mech\",\"cond-mat.str-el\",\"gr-qc\",\"hep-ex\",\"hep-lat\",\"hep-ph\",\"hep-th\",\"math-ph\",\"math.MP\",\"nucl-ex\",\"nucl-th\",\"physics.ao-ph\",\"physics.atom-ph\",\"physics.optics\",\"quant-ph\",\"astro-ph.SR\",\"cond-mat.soft\",\"cond-mat.stat-mech\",\"cs.LG\",\"cs.NA\",\"math.NA\",\"nlin.CD\",\"physics.ao-ph\",\"physics.app-ph\",\"physics.bio-ph\",\"physics.class-ph\",\"physics.comp-ph\",\"physics.data-an\",\"physics.flu-dyn\",\"physics.ins-det\",\"physics.atm-clus\",\"cs.CV\",\"cs.LG\",\"cs.NA\",\"eess.IV\",\"math.NA\",\"physics.app-ph\",\"physics.med-ph\",\"astro-ph.EP\",\"cs.LG\",\"physics.ao-ph\",\"physics.atom-ph\",\"physics.flu-dyn\",\"physics.soc-ph\",\"physics.space-ph\",\"astro-ph.GA\",\"astro-ph.HE\",\"astro-ph.SR\",\"physics.ao-ph\",\"physics.plasm-ph\",\"physics.space-ph\",\"cond-mat.mtrl-sci\",\"physics.chem-ph\",\"physics.optics\",\"cond-mat.mtrl-sci\",\"cond-mat.stat-mech\",\"math-ph\",\"math.DS\",\"math.MP\",\"nlin.CD\",\"nlin.SI\",\"physics.class-ph\",\"physics.comp-ph\",\"physics.flu-dyn\",\"physics.optics\",\"physics.ed-ph\",\"cond-mat.mtrl-sci\",\"physics.geo-ph\",\"astro-ph.EP\",\"astro-ph.SR\",\"physics.hist-ph\",\"physics.pop-ph\",\"astro-ph.EP\",\"physics.hist-ph\",\"physics.pop-ph\",\"cond-mat.mes-hall\",\"cond-mat.mtrl-sci\",\"cs.CV\",\"cs.LG\",\"eess.IV\",\"physics.app-ph\",\"physics.flu-dyn\",\"physics.med-ph\",\"physics.optics\"],\"y\":[\"physics.data-an\",\"physics.data-an\",\"physics.data-an\",\"physics.optics\",\"physics.optics\",\"physics.optics\",\"physics.optics\",\"physics.optics\",\"physics.optics\",\"physics.optics\",\"physics.optics\",\"physics.optics\",\"physics.optics\",\"physics.optics\",\"physics.optics\",\"physics.optics\",\"physics.optics\",\"physics.optics\",\"physics.optics\",\"physics.optics\",\"physics.optics\",\"physics.plasm-ph\",\"physics.plasm-ph\",\"physics.plasm-ph\",\"physics.plasm-ph\",\"physics.plasm-ph\",\"physics.plasm-ph\",\"physics.plasm-ph\",\"physics.comp-ph\",\"physics.comp-ph\",\"physics.comp-ph\",\"physics.comp-ph\",\"physics.comp-ph\",\"physics.comp-ph\",\"physics.comp-ph\",\"physics.comp-ph\",\"physics.comp-ph\",\"physics.comp-ph\",\"physics.bio-ph\",\"physics.bio-ph\",\"physics.bio-ph\",\"physics.bio-ph\",\"physics.bio-ph\",\"physics.bio-ph\",\"physics.soc-ph\",\"physics.soc-ph\",\"physics.soc-ph\",\"physics.soc-ph\",\"physics.soc-ph\",\"physics.soc-ph\",\"physics.soc-ph\",\"physics.soc-ph\",\"physics.soc-ph\",\"physics.soc-ph\",\"physics.gen-ph\",\"physics.acc-ph\",\"physics.atom-ph\",\"physics.atom-ph\",\"physics.atom-ph\",\"physics.atom-ph\",\"physics.atom-ph\",\"physics.atom-ph\",\"physics.atom-ph\",\"physics.atom-ph\",\"physics.atom-ph\",\"physics.atom-ph\",\"physics.atom-ph\",\"physics.atom-ph\",\"physics.atom-ph\",\"physics.atom-ph\",\"physics.atom-ph\",\"physics.atom-ph\",\"physics.atom-ph\",\"physics.atom-ph\",\"physics.flu-dyn\",\"physics.flu-dyn\",\"physics.flu-dyn\",\"physics.flu-dyn\",\"physics.flu-dyn\",\"physics.flu-dyn\",\"physics.flu-dyn\",\"physics.flu-dyn\",\"physics.flu-dyn\",\"physics.flu-dyn\",\"physics.flu-dyn\",\"physics.flu-dyn\",\"physics.flu-dyn\",\"physics.flu-dyn\",\"physics.ins-det\",\"physics.atm-clus\",\"physics.med-ph\",\"physics.med-ph\",\"physics.med-ph\",\"physics.med-ph\",\"physics.med-ph\",\"physics.med-ph\",\"physics.med-ph\",\"physics.ao-ph\",\"physics.ao-ph\",\"physics.ao-ph\",\"physics.ao-ph\",\"physics.ao-ph\",\"physics.ao-ph\",\"physics.ao-ph\",\"physics.space-ph\",\"physics.space-ph\",\"physics.space-ph\",\"physics.space-ph\",\"physics.space-ph\",\"physics.space-ph\",\"physics.chem-ph\",\"physics.chem-ph\",\"physics.chem-ph\",\"physics.class-ph\",\"physics.class-ph\",\"physics.class-ph\",\"physics.class-ph\",\"physics.class-ph\",\"physics.class-ph\",\"physics.class-ph\",\"physics.class-ph\",\"physics.class-ph\",\"physics.class-ph\",\"physics.class-ph\",\"physics.ed-ph\",\"physics.geo-ph\",\"physics.geo-ph\",\"physics.hist-ph\",\"physics.hist-ph\",\"physics.hist-ph\",\"physics.hist-ph\",\"physics.pop-ph\",\"physics.pop-ph\",\"physics.pop-ph\",\"physics.app-ph\",\"physics.app-ph\",\"physics.app-ph\",\"physics.app-ph\",\"physics.app-ph\",\"physics.app-ph\",\"physics.app-ph\",\"physics.app-ph\",\"physics.app-ph\"],\"z\":[0.9999999999999999,1.0,0.6997023176561113,0.6998542122237652,1.0,0.3462461316707463,0.3495235417311798,1.0,-0.008264462809917395,0.7827248015497822,0.907884332768915,0.9694244392808651,0.9903366260490916,0.13639105667698917,0.7046975517594634,0.32030702510910425,0.6692346290278911,0.7056382296923228,-0.0031446540880503125,1.0,0.47571141415724977,-0.011904761904761904,-0.005023857169510853,0.7063848751472057,1.0,1.0,1.0,-0.0021978021978022043,-0.0075477808795888475,0.545890777448223,-0.005229517722254509,0.2557940806941102,-0.016324410134800342,-0.008565310492505265,1.0,1.0,0.46733872562272444,0.5762680746689389,0.9828030073840305,0.9999999999999997,0.19488961979367786,0.4990583804143126,1.0,-0.003984063745019924,1.0,0.22197524119985648,0.3864447558701636,0.755294156028803,1.0,1.0,1.0,0.7055051782666677,1.0,1.0,0.9999999999999998,1.0,-0.01714229740350892,0.2609449089393404,0.3152243354612641,0.8939980088665969,0.13228651857265894,1.0,1.0,1.0,0.9989683570569344,0.7229314344328113,1.0,1.0,1.0,0.8156444250668949,1.0,1.0,0.6692346290278911,0.4807646729479273,1.0,0.6533415602711303,0.5316728943705253,-0.03874921291460645,1.0,0.6271490700466095,0.7064035420457005,1.0,-0.014084507042253508,-0.003984063745019923,0.7047138579747266,0.4673387256227245,0.6997023176561113,0.9999999999999999,0.9999999999999998,1.0,-0.022628141110071023,-0.0777713771047819,-0.14285714285714285,0.811107105653812,-0.06666666666666667,-0.026315789473684112,0.9999999999999999,-0.0060240963855421395,1.0,0.9999999999999998,1.0,1.0,1.0,0.7006490497453696,-0.042257712736425805,-0.010691875354929208,0.5740881279700073,0.7006490497453696,-0.002197802197802204,1.0,0.36693633908857065,1.0,0.7056382296923228,0.9999999999999999,0.9999999999999998,0.7058246282165994,1.0,0.7058246282165994,-0.014357683075131602,-0.017857142857142856,1.0,1.0,0.7047138579747266,-0.0031446540880503125,0.9999999999999999,0.9999999999999999,0.9999999999999999,0.989351646990535,0.9476332318507089,1.0,0.9483071581789114,0.8927525731124849,0.9483071581789113,1.0,0.4521958044032274,0.17784106368866073,0.0,0.14967267219401373,-0.10249000771134849,1.0,-0.01408450704225351,-0.026315789473684112,0.3203070251091043],\"zmax\":1,\"zmin\":-1,\"type\":\"heatmap\"}],                        {\"template\":{\"data\":{\"histogram2dcontour\":[{\"type\":\"histogram2dcontour\",\"colorbar\":{\"outlinewidth\":0,\"ticks\":\"\"},\"colorscale\":[[0.0,\"#0d0887\"],[0.1111111111111111,\"#46039f\"],[0.2222222222222222,\"#7201a8\"],[0.3333333333333333,\"#9c179e\"],[0.4444444444444444,\"#bd3786\"],[0.5555555555555556,\"#d8576b\"],[0.6666666666666666,\"#ed7953\"],[0.7777777777777778,\"#fb9f3a\"],[0.8888888888888888,\"#fdca26\"],[1.0,\"#f0f921\"]]}],\"choropleth\":[{\"type\":\"choropleth\",\"colorbar\":{\"outlinewidth\":0,\"ticks\":\"\"}}],\"histogram2d\":[{\"type\":\"histogram2d\",\"colorbar\":{\"outlinewidth\":0,\"ticks\":\"\"},\"colorscale\":[[0.0,\"#0d0887\"],[0.1111111111111111,\"#46039f\"],[0.2222222222222222,\"#7201a8\"],[0.3333333333333333,\"#9c179e\"],[0.4444444444444444,\"#bd3786\"],[0.5555555555555556,\"#d8576b\"],[0.6666666666666666,\"#ed7953\"],[0.7777777777777778,\"#fb9f3a\"],[0.8888888888888888,\"#fdca26\"],[1.0,\"#f0f921\"]]}],\"heatmap\":[{\"type\":\"heatmap\",\"colorbar\":{\"outlinewidth\":0,\"ticks\":\"\"},\"colorscale\":[[0.0,\"#0d0887\"],[0.1111111111111111,\"#46039f\"],[0.2222222222222222,\"#7201a8\"],[0.3333333333333333,\"#9c179e\"],[0.4444444444444444,\"#bd3786\"],[0.5555555555555556,\"#d8576b\"],[0.6666666666666666,\"#ed7953\"],[0.7777777777777778,\"#fb9f3a\"],[0.8888888888888888,\"#fdca26\"],[1.0,\"#f0f921\"]]}],\"heatmapgl\":[{\"type\":\"heatmapgl\",\"colorbar\":{\"outlinewidth\":0,\"ticks\":\"\"},\"colorscale\":[[0.0,\"#0d0887\"],[0.1111111111111111,\"#46039f\"],[0.2222222222222222,\"#7201a8\"],[0.3333333333333333,\"#9c179e\"],[0.4444444444444444,\"#bd3786\"],[0.5555555555555556,\"#d8576b\"],[0.6666666666666666,\"#ed7953\"],[0.7777777777777778,\"#fb9f3a\"],[0.8888888888888888,\"#fdca26\"],[1.0,\"#f0f921\"]]}],\"contourcarpet\":[{\"type\":\"contourcarpet\",\"colorbar\":{\"outlinewidth\":0,\"ticks\":\"\"}}],\"contour\":[{\"type\":\"contour\",\"colorbar\":{\"outlinewidth\":0,\"ticks\":\"\"},\"colorscale\":[[0.0,\"#0d0887\"],[0.1111111111111111,\"#46039f\"],[0.2222222222222222,\"#7201a8\"],[0.3333333333333333,\"#9c179e\"],[0.4444444444444444,\"#bd3786\"],[0.5555555555555556,\"#d8576b\"],[0.6666666666666666,\"#ed7953\"],[0.7777777777777778,\"#fb9f3a\"],[0.8888888888888888,\"#fdca26\"],[1.0,\"#f0f921\"]]}],\"surface\":[{\"type\":\"surface\",\"colorbar\":{\"outlinewidth\":0,\"ticks\":\"\"},\"colorscale\":[[0.0,\"#0d0887\"],[0.1111111111111111,\"#46039f\"],[0.2222222222222222,\"#7201a8\"],[0.3333333333333333,\"#9c179e\"],[0.4444444444444444,\"#bd3786\"],[0.5555555555555556,\"#d8576b\"],[0.6666666666666666,\"#ed7953\"],[0.7777777777777778,\"#fb9f3a\"],[0.8888888888888888,\"#fdca26\"],[1.0,\"#f0f921\"]]}],\"mesh3d\":[{\"type\":\"mesh3d\",\"colorbar\":{\"outlinewidth\":0,\"ticks\":\"\"}}],\"scatter\":[{\"fillpattern\":{\"fillmode\":\"overlay\",\"size\":10,\"solidity\":0.2},\"type\":\"scatter\"}],\"parcoords\":[{\"type\":\"parcoords\",\"line\":{\"colorbar\":{\"outlinewidth\":0,\"ticks\":\"\"}}}],\"scatterpolargl\":[{\"type\":\"scatterpolargl\",\"marker\":{\"colorbar\":{\"outlinewidth\":0,\"ticks\":\"\"}}}],\"bar\":[{\"error_x\":{\"color\":\"#2a3f5f\"},\"error_y\":{\"color\":\"#2a3f5f\"},\"marker\":{\"line\":{\"color\":\"white\",\"width\":0.5},\"pattern\":{\"fillmode\":\"overlay\",\"size\":10,\"solidity\":0.2}},\"type\":\"bar\"}],\"scattergeo\":[{\"type\":\"scattergeo\",\"marker\":{\"colorbar\":{\"outlinewidth\":0,\"ticks\":\"\"}}}],\"scatterpolar\":[{\"type\":\"scatterpolar\",\"marker\":{\"colorbar\":{\"outlinewidth\":0,\"ticks\":\"\"}}}],\"histogram\":[{\"marker\":{\"pattern\":{\"fillmode\":\"overlay\",\"size\":10,\"solidity\":0.2}},\"type\":\"histogram\"}],\"scattergl\":[{\"type\":\"scattergl\",\"marker\":{\"colorbar\":{\"outlinewidth\":0,\"ticks\":\"\"}}}],\"scatter3d\":[{\"type\":\"scatter3d\",\"line\":{\"colorbar\":{\"outlinewidth\":0,\"ticks\":\"\"}},\"marker\":{\"colorbar\":{\"outlinewidth\":0,\"ticks\":\"\"}}}],\"scattermapbox\":[{\"type\":\"scattermapbox\",\"marker\":{\"colorbar\":{\"outlinewidth\":0,\"ticks\":\"\"}}}],\"scatterternary\":[{\"type\":\"scatterternary\",\"marker\":{\"colorbar\":{\"outlinewidth\":0,\"ticks\":\"\"}}}],\"scattercarpet\":[{\"type\":\"scattercarpet\",\"marker\":{\"colorbar\":{\"outlinewidth\":0,\"ticks\":\"\"}}}],\"carpet\":[{\"aaxis\":{\"endlinecolor\":\"#2a3f5f\",\"gridcolor\":\"#C8D4E3\",\"linecolor\":\"#C8D4E3\",\"minorgridcolor\":\"#C8D4E3\",\"startlinecolor\":\"#2a3f5f\"},\"baxis\":{\"endlinecolor\":\"#2a3f5f\",\"gridcolor\":\"#C8D4E3\",\"linecolor\":\"#C8D4E3\",\"minorgridcolor\":\"#C8D4E3\",\"startlinecolor\":\"#2a3f5f\"},\"type\":\"carpet\"}],\"table\":[{\"cells\":{\"fill\":{\"color\":\"#EBF0F8\"},\"line\":{\"color\":\"white\"}},\"header\":{\"fill\":{\"color\":\"#C8D4E3\"},\"line\":{\"color\":\"white\"}},\"type\":\"table\"}],\"barpolar\":[{\"marker\":{\"line\":{\"color\":\"white\",\"width\":0.5},\"pattern\":{\"fillmode\":\"overlay\",\"size\":10,\"solidity\":0.2}},\"type\":\"barpolar\"}],\"pie\":[{\"automargin\":true,\"type\":\"pie\"}]},\"layout\":{\"autotypenumbers\":\"strict\",\"colorway\":[\"#636efa\",\"#EF553B\",\"#00cc96\",\"#ab63fa\",\"#FFA15A\",\"#19d3f3\",\"#FF6692\",\"#B6E880\",\"#FF97FF\",\"#FECB52\"],\"font\":{\"color\":\"#2a3f5f\"},\"hovermode\":\"closest\",\"hoverlabel\":{\"align\":\"left\"},\"paper_bgcolor\":\"white\",\"plot_bgcolor\":\"white\",\"polar\":{\"bgcolor\":\"white\",\"angularaxis\":{\"gridcolor\":\"#EBF0F8\",\"linecolor\":\"#EBF0F8\",\"ticks\":\"\"},\"radialaxis\":{\"gridcolor\":\"#EBF0F8\",\"linecolor\":\"#EBF0F8\",\"ticks\":\"\"}},\"ternary\":{\"bgcolor\":\"white\",\"aaxis\":{\"gridcolor\":\"#DFE8F3\",\"linecolor\":\"#A2B1C6\",\"ticks\":\"\"},\"baxis\":{\"gridcolor\":\"#DFE8F3\",\"linecolor\":\"#A2B1C6\",\"ticks\":\"\"},\"caxis\":{\"gridcolor\":\"#DFE8F3\",\"linecolor\":\"#A2B1C6\",\"ticks\":\"\"}},\"coloraxis\":{\"colorbar\":{\"outlinewidth\":0,\"ticks\":\"\"}},\"colorscale\":{\"sequential\":[[0.0,\"#0d0887\"],[0.1111111111111111,\"#46039f\"],[0.2222222222222222,\"#7201a8\"],[0.3333333333333333,\"#9c179e\"],[0.4444444444444444,\"#bd3786\"],[0.5555555555555556,\"#d8576b\"],[0.6666666666666666,\"#ed7953\"],[0.7777777777777778,\"#fb9f3a\"],[0.8888888888888888,\"#fdca26\"],[1.0,\"#f0f921\"]],\"sequentialminus\":[[0.0,\"#0d0887\"],[0.1111111111111111,\"#46039f\"],[0.2222222222222222,\"#7201a8\"],[0.3333333333333333,\"#9c179e\"],[0.4444444444444444,\"#bd3786\"],[0.5555555555555556,\"#d8576b\"],[0.6666666666666666,\"#ed7953\"],[0.7777777777777778,\"#fb9f3a\"],[0.8888888888888888,\"#fdca26\"],[1.0,\"#f0f921\"]],\"diverging\":[[0,\"#8e0152\"],[0.1,\"#c51b7d\"],[0.2,\"#de77ae\"],[0.3,\"#f1b6da\"],[0.4,\"#fde0ef\"],[0.5,\"#f7f7f7\"],[0.6,\"#e6f5d0\"],[0.7,\"#b8e186\"],[0.8,\"#7fbc41\"],[0.9,\"#4d9221\"],[1,\"#276419\"]]},\"xaxis\":{\"gridcolor\":\"#EBF0F8\",\"linecolor\":\"#EBF0F8\",\"ticks\":\"\",\"title\":{\"standoff\":15},\"zerolinecolor\":\"#EBF0F8\",\"automargin\":true,\"zerolinewidth\":2},\"yaxis\":{\"gridcolor\":\"#EBF0F8\",\"linecolor\":\"#EBF0F8\",\"ticks\":\"\",\"title\":{\"standoff\":15},\"zerolinecolor\":\"#EBF0F8\",\"automargin\":true,\"zerolinewidth\":2},\"scene\":{\"xaxis\":{\"backgroundcolor\":\"white\",\"gridcolor\":\"#DFE8F3\",\"linecolor\":\"#EBF0F8\",\"showbackground\":true,\"ticks\":\"\",\"zerolinecolor\":\"#EBF0F8\",\"gridwidth\":2},\"yaxis\":{\"backgroundcolor\":\"white\",\"gridcolor\":\"#DFE8F3\",\"linecolor\":\"#EBF0F8\",\"showbackground\":true,\"ticks\":\"\",\"zerolinecolor\":\"#EBF0F8\",\"gridwidth\":2},\"zaxis\":{\"backgroundcolor\":\"white\",\"gridcolor\":\"#DFE8F3\",\"linecolor\":\"#EBF0F8\",\"showbackground\":true,\"ticks\":\"\",\"zerolinecolor\":\"#EBF0F8\",\"gridwidth\":2}},\"shapedefaults\":{\"line\":{\"color\":\"#2a3f5f\"}},\"annotationdefaults\":{\"arrowcolor\":\"#2a3f5f\",\"arrowhead\":0,\"arrowwidth\":1},\"geo\":{\"bgcolor\":\"white\",\"landcolor\":\"white\",\"subunitcolor\":\"#C8D4E3\",\"showland\":true,\"showlakes\":true,\"lakecolor\":\"white\"},\"title\":{\"x\":0.05},\"mapbox\":{\"style\":\"light\"}}}},                        {\"responsive\": true}                    ).then(function(){\n",
       "                            \n",
       "var gd = document.getElementById('20319011-5eb7-4c48-ae35-17fd283f467e');\n",
       "var x = new MutationObserver(function (mutations, observer) {{\n",
       "        var display = window.getComputedStyle(gd).display;\n",
       "        if (!display || display === 'none') {{\n",
       "            console.log([gd, 'removed!']);\n",
       "            Plotly.purge(gd);\n",
       "            observer.disconnect();\n",
       "        }}\n",
       "}});\n",
       "\n",
       "// Listen for the removal of the full notebook cells\n",
       "var notebookContainer = gd.closest('#notebook-container');\n",
       "if (notebookContainer) {{\n",
       "    x.observe(notebookContainer, {childList: true});\n",
       "}}\n",
       "\n",
       "// Listen for the clearing of the current output cell\n",
       "var outputEl = gd.closest('.output');\n",
       "if (outputEl) {{\n",
       "    x.observe(outputEl, {childList: true});\n",
       "}}\n",
       "\n",
       "                        })                };                });            </script>        </div>"
      ]
     },
     "metadata": {},
     "output_type": "display_data"
    }
   ],
   "source": [
    "import plotly.io as pio\n",
    "import plotly.express as px\n",
    "import plotly.graph_objects as go\n",
    "\n",
    "pio.templates.default = \"plotly_white\"\n",
    "\n",
    "sims4 =sims2[sims2['category1'].str.contains(\"phy\")]\n",
    "heat = go.Heatmap(\n",
    "    z=sims4['correlation'],\n",
    "    x=sims4['category'],\n",
    "    y=sims4['category1'],\n",
    "    colorscale=px.colors.diverging.RdBu,\n",
    "    zmin=-1,\n",
    "    zmax=1\n",
    ")\n",
    "\n",
    "fig=go.Figure(data=[heat])\n",
    "fig.show()"
   ]
  }
 ],
 "metadata": {
  "interpreter": {
   "hash": "ad2bdc8ecc057115af97d19610ffacc2b4e99fae6737bb82f5d7fb13d2f2c186"
  },
  "kernelspec": {
   "display_name": "Python 3 (ipykernel)",
   "language": "python",
   "name": "python3"
  },
  "language_info": {
   "codemirror_mode": {
    "name": "ipython",
    "version": 3
   },
   "file_extension": ".py",
   "mimetype": "text/x-python",
   "name": "python",
   "nbconvert_exporter": "python",
   "pygments_lexer": "ipython3",
   "version": "3.9.7"
  }
 },
 "nbformat": 4,
 "nbformat_minor": 2
}
